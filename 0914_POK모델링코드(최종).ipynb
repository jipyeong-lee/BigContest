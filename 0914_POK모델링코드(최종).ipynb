{
 "cells": [
  {
   "cell_type": "code",
   "execution_count": 14,
   "metadata": {},
   "outputs": [],
   "source": [
    "import pandas as pd\n",
    "import numpy as np\n",
    "import warnings\n",
    "warnings.filterwarnings('ignore')\n",
    "from konlpy.tag import Mecab\n",
    "from datetime import datetime, timedelta\n",
    "import matplotlib.pyplot as plt\n",
    "import seaborn as sns\n",
    "%matplotlib inline\n",
    "import matplotlib.font_manager as fm\n",
    "plt.rc('font', family=fm.FontProperties(fname=\"c:/Windows/Fonts/malgun.ttf\").get_name())\n",
    "from tqdm import tqdm\n",
    "import re"
   ]
  },
  {
   "cell_type": "code",
   "execution_count": 15,
   "metadata": {},
   "outputs": [],
   "source": [
    "hit_18=pd.read_csv('data/01_제공데이터/2021 빅콘테스트_데이터분석분야_챔피언리그_스포츠테크_HTS_2018.csv',encoding='cp949')\n",
    "hit_19=pd.read_csv('data/01_제공데이터/2021 빅콘테스트_데이터분석분야_챔피언리그_스포츠테크_HTS_2019.csv',encoding='cp949')\n",
    "hit_20=pd.read_csv('data/01_제공데이터/2021 빅콘테스트_데이터분석분야_챔피언리그_스포츠테크_HTS_2020.csv',encoding='cp949')\n",
    "hit_21=pd.read_csv('data/01_제공데이터/2021 빅콘테스트_데이터분석분야_챔피언리그_스포츠테크_HTS_2021.csv',encoding='cp949')\n",
    "\n",
    "game=pd.read_csv('data/01_제공데이터/2021 빅콘테스트_데이터분석분야_챔피언리그_스포츠테크_경기일정_2021.csv',encoding='cp949')\n",
    "\n",
    "player_18=pd.read_csv('data/01_제공데이터/2021 빅콘테스트_데이터분석분야_챔피언리그_스포츠테크_선수_2018.csv',encoding='cp949')\n",
    "player_19=pd.read_csv('data/01_제공데이터/2021 빅콘테스트_데이터분석분야_챔피언리그_스포츠테크_선수_2019.csv',encoding='cp949')\n",
    "player_20=pd.read_csv('data/01_제공데이터/2021 빅콘테스트_데이터분석분야_챔피언리그_스포츠테크_선수_2020.csv',encoding='cp949')\n",
    "player_21=pd.read_csv('data/01_제공데이터/2021 빅콘테스트_데이터분석분야_챔피언리그_스포츠테크_선수_2021.csv',encoding='cp949')\n",
    "\n",
    "hitter_18=pd.read_csv('data/01_제공데이터/2021 빅콘테스트_데이터분석분야_챔피언리그_스포츠테크_타자 기본_2018.csv',encoding='cp949')\n",
    "hitter_19=pd.read_csv('data/01_제공데이터/2021 빅콘테스트_데이터분석분야_챔피언리그_스포츠테크_타자 기본_2019.csv',encoding='cp949')\n",
    "hitter_20=pd.read_csv('data/01_제공데이터/2021 빅콘테스트_데이터분석분야_챔피언리그_스포츠테크_타자 기본_2020.csv',encoding='cp949')\n",
    "hitter_21=pd.read_csv('data/01_제공데이터/2021 빅콘테스트_데이터분석분야_챔피언리그_스포츠테크_타자 기본_2021.csv',encoding='cp949')\n",
    "\n",
    "team=pd.read_csv('data/01_제공데이터/2021 빅콘테스트_데이터분석분야_챔피언리그_스포츠테크_팀.csv',encoding='cp949')\n",
    "\n",
    "submission=pd.read_excel('data/02_평가데이터/2021 빅콘테스트_데이터분석분야_챔피언리그_스포츠테크_평가데이터.xlsx')"
   ]
  },
  {
   "cell_type": "markdown",
   "metadata": {},
   "source": [
    "- 76232 - 양의지\n",
    "- 68050 - 강백호\n",
    "- 75847 - 최정\n",
    "- 67341 - 이정후\n",
    "- 79192 - 채은성\n",
    "- 78224 - 김재환\n",
    "- 78513 - 전준우\n",
    "- 76290 - 김현수\n",
    "- 79215 - 박건우\n",
    "- 67872 - 로맥"
   ]
  },
  {
   "cell_type": "code",
   "execution_count": 16,
   "metadata": {},
   "outputs": [],
   "source": [
    "submission.loc[0,'OPS']=1.097\n",
    "submission.PCODE[1]=76232;submission.PCODE[2]=68050;submission.PCODE[3]=75847;submission.PCODE[4]=67341;submission.PCODE[5]=79192\n",
    "submission.PCODE[6]=78224;submission.PCODE[7]=78513;submission.PCODE[8]=76290;submission.PCODE[9]=79215;submission.PCODE[10]=67872;\n",
    "#ops == 장타율 + 출루율"
   ]
  },
  {
   "cell_type": "code",
   "execution_count": 17,
   "metadata": {},
   "outputs": [],
   "source": [
    "hit=pd.concat([hit_18,hit_19,hit_20,hit_21],ignore_index=True)\n",
    "player=pd.concat([player_18,player_19,player_20,player_21],ignore_index=True)\n",
    "hitter=pd.concat([hitter_18,hitter_19,hitter_20,hitter_21],ignore_index=True)"
   ]
  },
  {
   "cell_type": "code",
   "execution_count": 18,
   "metadata": {
    "scrolled": true
   },
   "outputs": [],
   "source": [
    "hit.columns=['연도', '경기코드', '타구코드', '선수코드', '팀코드', '이닝', '타구속도',\n",
    "       '발사각도', '타격결과', '상대투수투구구속', '해당구장']\n",
    "player.columns=['연도', '선수코드', '선수명', '팀코드', '포지션', '나이', '연봉']\n",
    "hitter.columns=['연도', '선수코드', '경기', '타석', '타수', '타율', '안타', '홈런', '루타',\n",
    "       '장타율', '희생플라이', '볼넷', '삼진', '고의4구', '사구', '병살타']\n",
    "\n",
    "hitter['출루율']=(hitter.안타+hitter.볼넷+hitter.사구)/(hitter.타수+hitter.볼넷+hitter.사구+hitter.희생플라이)"
   ]
  },
  {
   "cell_type": "code",
   "execution_count": 19,
   "metadata": {},
   "outputs": [
    {
     "data": {
      "text/plain": [
       "((120745, 11), (2639, 7), (1098, 17))"
      ]
     },
     "execution_count": 19,
     "metadata": {},
     "output_type": "execute_result"
    }
   ],
   "source": [
    "hit.shape, player.shape, hitter.shape"
   ]
  },
  {
   "cell_type": "code",
   "execution_count": 20,
   "metadata": {},
   "outputs": [],
   "source": [
    "# 배럴 정의된 hts 데이터\n",
    "hts_barrel = pd.read_csv('data/barrel.csv')\n",
    "hts_barrel.columns = ['연도', '날짜', '경기코드', '타구코드', '선수코드', '팀코드', '이닝', '타구속도',\n",
    "                      '발사각도', '타격결과', '상대투수투구구속', '해당구장', '발사각', '배럴']"
   ]
  },
  {
   "cell_type": "code",
   "execution_count": 21,
   "metadata": {},
   "outputs": [
    {
     "data": {
      "text/html": [
       "<div>\n",
       "<style scoped>\n",
       "    .dataframe tbody tr th:only-of-type {\n",
       "        vertical-align: middle;\n",
       "    }\n",
       "\n",
       "    .dataframe tbody tr th {\n",
       "        vertical-align: top;\n",
       "    }\n",
       "\n",
       "    .dataframe thead th {\n",
       "        text-align: right;\n",
       "    }\n",
       "</style>\n",
       "<table border=\"1\" class=\"dataframe\">\n",
       "  <thead>\n",
       "    <tr style=\"text-align: right;\">\n",
       "      <th></th>\n",
       "      <th>연도</th>\n",
       "      <th>날짜</th>\n",
       "      <th>경기코드</th>\n",
       "      <th>타구코드</th>\n",
       "      <th>선수코드</th>\n",
       "      <th>팀코드</th>\n",
       "      <th>이닝</th>\n",
       "      <th>타구속도</th>\n",
       "      <th>발사각도</th>\n",
       "      <th>타격결과</th>\n",
       "      <th>상대투수투구구속</th>\n",
       "      <th>해당구장</th>\n",
       "      <th>발사각</th>\n",
       "      <th>배럴</th>\n",
       "    </tr>\n",
       "  </thead>\n",
       "  <tbody>\n",
       "    <tr>\n",
       "      <th>0</th>\n",
       "      <td>2018</td>\n",
       "      <td>2018-03-24</td>\n",
       "      <td>20180324HHWO0</td>\n",
       "      <td>180324_140436</td>\n",
       "      <td>62797</td>\n",
       "      <td>HH</td>\n",
       "      <td>1</td>\n",
       "      <td>131.50</td>\n",
       "      <td>42.7</td>\n",
       "      <td>플라이</td>\n",
       "      <td>149.59</td>\n",
       "      <td>고척</td>\n",
       "      <td>45도미만</td>\n",
       "      <td>0</td>\n",
       "    </tr>\n",
       "    <tr>\n",
       "      <th>1</th>\n",
       "      <td>2018</td>\n",
       "      <td>2018-03-24</td>\n",
       "      <td>20180324HHWO0</td>\n",
       "      <td>180324_140514</td>\n",
       "      <td>76753</td>\n",
       "      <td>HH</td>\n",
       "      <td>1</td>\n",
       "      <td>135.18</td>\n",
       "      <td>9.9</td>\n",
       "      <td>1루타</td>\n",
       "      <td>148.78</td>\n",
       "      <td>고척</td>\n",
       "      <td>10도미만</td>\n",
       "      <td>0</td>\n",
       "    </tr>\n",
       "    <tr>\n",
       "      <th>2</th>\n",
       "      <td>2018</td>\n",
       "      <td>2018-03-24</td>\n",
       "      <td>20180324HHWO0</td>\n",
       "      <td>180324_140647</td>\n",
       "      <td>71752</td>\n",
       "      <td>HH</td>\n",
       "      <td>1</td>\n",
       "      <td>152.41</td>\n",
       "      <td>2.1</td>\n",
       "      <td>1루타</td>\n",
       "      <td>148.59</td>\n",
       "      <td>고척</td>\n",
       "      <td>10도미만</td>\n",
       "      <td>0</td>\n",
       "    </tr>\n",
       "    <tr>\n",
       "      <th>3</th>\n",
       "      <td>2018</td>\n",
       "      <td>2018-03-24</td>\n",
       "      <td>20180324HHWO0</td>\n",
       "      <td>180324_140911</td>\n",
       "      <td>62700</td>\n",
       "      <td>HH</td>\n",
       "      <td>1</td>\n",
       "      <td>113.72</td>\n",
       "      <td>13.5</td>\n",
       "      <td>1루타</td>\n",
       "      <td>139.13</td>\n",
       "      <td>고척</td>\n",
       "      <td>15도미만</td>\n",
       "      <td>0</td>\n",
       "    </tr>\n",
       "    <tr>\n",
       "      <th>4</th>\n",
       "      <td>2018</td>\n",
       "      <td>2018-03-24</td>\n",
       "      <td>20180324HHWO0</td>\n",
       "      <td>180324_142310</td>\n",
       "      <td>78288</td>\n",
       "      <td>HH</td>\n",
       "      <td>2</td>\n",
       "      <td>161.90</td>\n",
       "      <td>3.5</td>\n",
       "      <td>1루타</td>\n",
       "      <td>145.75</td>\n",
       "      <td>고척</td>\n",
       "      <td>10도미만</td>\n",
       "      <td>1</td>\n",
       "    </tr>\n",
       "  </tbody>\n",
       "</table>\n",
       "</div>"
      ],
      "text/plain": [
       "     연도          날짜           경기코드           타구코드   선수코드 팀코드  이닝    타구속도  \\\n",
       "0  2018  2018-03-24  20180324HHWO0  180324_140436  62797  HH   1  131.50   \n",
       "1  2018  2018-03-24  20180324HHWO0  180324_140514  76753  HH   1  135.18   \n",
       "2  2018  2018-03-24  20180324HHWO0  180324_140647  71752  HH   1  152.41   \n",
       "3  2018  2018-03-24  20180324HHWO0  180324_140911  62700  HH   1  113.72   \n",
       "4  2018  2018-03-24  20180324HHWO0  180324_142310  78288  HH   2  161.90   \n",
       "\n",
       "   발사각도 타격결과  상대투수투구구속 해당구장    발사각  배럴  \n",
       "0  42.7  플라이    149.59   고척  45도미만   0  \n",
       "1   9.9  1루타    148.78   고척  10도미만   0  \n",
       "2   2.1  1루타    148.59   고척  10도미만   0  \n",
       "3  13.5  1루타    139.13   고척  15도미만   0  \n",
       "4   3.5  1루타    145.75   고척  10도미만   1  "
      ]
     },
     "execution_count": 21,
     "metadata": {},
     "output_type": "execute_result"
    }
   ],
   "source": [
    "hts_barrel.head()"
   ]
  },
  {
   "cell_type": "code",
   "execution_count": 22,
   "metadata": {},
   "outputs": [],
   "source": [
    "hit = hit.merge(hts_barrel, on=['연도', '경기코드', '타구코드', '선수코드', '팀코드', '이닝', '타구속도', '발사각도', \n",
    "                                '타격결과', '상대투수투구구속', '해당구장'], how='left').drop('날짜', axis=1).fillna(0)"
   ]
  },
  {
   "cell_type": "code",
   "execution_count": 23,
   "metadata": {},
   "outputs": [
    {
     "data": {
      "text/html": [
       "<div>\n",
       "<style scoped>\n",
       "    .dataframe tbody tr th:only-of-type {\n",
       "        vertical-align: middle;\n",
       "    }\n",
       "\n",
       "    .dataframe tbody tr th {\n",
       "        vertical-align: top;\n",
       "    }\n",
       "\n",
       "    .dataframe thead th {\n",
       "        text-align: right;\n",
       "    }\n",
       "</style>\n",
       "<table border=\"1\" class=\"dataframe\">\n",
       "  <thead>\n",
       "    <tr style=\"text-align: right;\">\n",
       "      <th></th>\n",
       "      <th>연도</th>\n",
       "      <th>경기코드</th>\n",
       "      <th>타구코드</th>\n",
       "      <th>선수코드</th>\n",
       "      <th>팀코드</th>\n",
       "      <th>이닝</th>\n",
       "      <th>타구속도</th>\n",
       "      <th>발사각도</th>\n",
       "      <th>타격결과</th>\n",
       "      <th>상대투수투구구속</th>\n",
       "      <th>해당구장</th>\n",
       "      <th>발사각</th>\n",
       "      <th>배럴</th>\n",
       "    </tr>\n",
       "  </thead>\n",
       "  <tbody>\n",
       "    <tr>\n",
       "      <th>0</th>\n",
       "      <td>2018</td>\n",
       "      <td>20180324HHWO0</td>\n",
       "      <td>180324_140436</td>\n",
       "      <td>62797</td>\n",
       "      <td>HH</td>\n",
       "      <td>1</td>\n",
       "      <td>131.50</td>\n",
       "      <td>42.7</td>\n",
       "      <td>플라이</td>\n",
       "      <td>149.59</td>\n",
       "      <td>고척</td>\n",
       "      <td>45도미만</td>\n",
       "      <td>0.0</td>\n",
       "    </tr>\n",
       "    <tr>\n",
       "      <th>1</th>\n",
       "      <td>2018</td>\n",
       "      <td>20180324HHWO0</td>\n",
       "      <td>180324_140514</td>\n",
       "      <td>76753</td>\n",
       "      <td>HH</td>\n",
       "      <td>1</td>\n",
       "      <td>135.18</td>\n",
       "      <td>9.9</td>\n",
       "      <td>1루타</td>\n",
       "      <td>148.78</td>\n",
       "      <td>고척</td>\n",
       "      <td>10도미만</td>\n",
       "      <td>0.0</td>\n",
       "    </tr>\n",
       "    <tr>\n",
       "      <th>2</th>\n",
       "      <td>2018</td>\n",
       "      <td>20180324HHWO0</td>\n",
       "      <td>180324_140647</td>\n",
       "      <td>71752</td>\n",
       "      <td>HH</td>\n",
       "      <td>1</td>\n",
       "      <td>152.41</td>\n",
       "      <td>2.1</td>\n",
       "      <td>1루타</td>\n",
       "      <td>148.59</td>\n",
       "      <td>고척</td>\n",
       "      <td>10도미만</td>\n",
       "      <td>0.0</td>\n",
       "    </tr>\n",
       "    <tr>\n",
       "      <th>3</th>\n",
       "      <td>2018</td>\n",
       "      <td>20180324HHWO0</td>\n",
       "      <td>180324_140911</td>\n",
       "      <td>62700</td>\n",
       "      <td>HH</td>\n",
       "      <td>1</td>\n",
       "      <td>113.72</td>\n",
       "      <td>13.5</td>\n",
       "      <td>1루타</td>\n",
       "      <td>139.13</td>\n",
       "      <td>고척</td>\n",
       "      <td>15도미만</td>\n",
       "      <td>0.0</td>\n",
       "    </tr>\n",
       "    <tr>\n",
       "      <th>4</th>\n",
       "      <td>2018</td>\n",
       "      <td>20180324HHWO0</td>\n",
       "      <td>180324_142050</td>\n",
       "      <td>68730</td>\n",
       "      <td>HH</td>\n",
       "      <td>2</td>\n",
       "      <td>54.11</td>\n",
       "      <td>16.4</td>\n",
       "      <td>번트안타</td>\n",
       "      <td>134.07</td>\n",
       "      <td>고척</td>\n",
       "      <td>0</td>\n",
       "      <td>0.0</td>\n",
       "    </tr>\n",
       "  </tbody>\n",
       "</table>\n",
       "</div>"
      ],
      "text/plain": [
       "     연도           경기코드           타구코드   선수코드 팀코드  이닝    타구속도  발사각도  타격결과  \\\n",
       "0  2018  20180324HHWO0  180324_140436  62797  HH   1  131.50  42.7   플라이   \n",
       "1  2018  20180324HHWO0  180324_140514  76753  HH   1  135.18   9.9   1루타   \n",
       "2  2018  20180324HHWO0  180324_140647  71752  HH   1  152.41   2.1   1루타   \n",
       "3  2018  20180324HHWO0  180324_140911  62700  HH   1  113.72  13.5   1루타   \n",
       "4  2018  20180324HHWO0  180324_142050  68730  HH   2   54.11  16.4  번트안타   \n",
       "\n",
       "   상대투수투구구속 해당구장    발사각   배럴  \n",
       "0    149.59   고척  45도미만  0.0  \n",
       "1    148.78   고척  10도미만  0.0  \n",
       "2    148.59   고척  10도미만  0.0  \n",
       "3    139.13   고척  15도미만  0.0  \n",
       "4    134.07   고척      0  0.0  "
      ]
     },
     "execution_count": 23,
     "metadata": {},
     "output_type": "execute_result"
    }
   ],
   "source": [
    "hit.head()"
   ]
  },
  {
   "cell_type": "markdown",
   "metadata": {},
   "source": [
    "#### hit"
   ]
  },
  {
   "cell_type": "markdown",
   "metadata": {},
   "source": [
    "경기코드를 통해 상대팀코드 열 추가"
   ]
  },
  {
   "cell_type": "code",
   "execution_count": 24,
   "metadata": {},
   "outputs": [],
   "source": [
    "hit['상대팀코드']=hit.경기코드.str[-5:-1]"
   ]
  },
  {
   "cell_type": "code",
   "execution_count": 25,
   "metadata": {
    "scrolled": false
   },
   "outputs": [
    {
     "name": "stderr",
     "output_type": "stream",
     "text": [
      "100%|█████████████████████████████████████████████████████████████████████████| 120745/120745 [06:39<00:00, 302.06it/s]\n"
     ]
    }
   ],
   "source": [
    "for i in tqdm(range(hit.shape[0])):\n",
    "    hit['상대팀코드'].iloc[i]=hit.iloc[i].상대팀코드.replace(hit.iloc[i].팀코드,'')"
   ]
  },
  {
   "cell_type": "markdown",
   "metadata": {},
   "source": [
    "날짜를 이용해 년, 월, 일, 시간 열 추가"
   ]
  },
  {
   "cell_type": "code",
   "execution_count": 26,
   "metadata": {},
   "outputs": [],
   "source": [
    "hit['날짜']='20'+hit.타구코드.str.split('_').str[0]+hit.타구코드.str.split('_').str[1]\n",
    "hit['날짜']=pd.to_datetime(hit.날짜)\n",
    "\n",
    "hit['년']=hit.날짜.dt.year\n",
    "hit['월']=hit.날짜.dt.month\n",
    "hit['일']=hit.날짜.dt.day\n",
    "hit['시간']=hit.날짜.dt.hour"
   ]
  },
  {
   "cell_type": "markdown",
   "metadata": {},
   "source": [
    "## 타자 정보 이용"
   ]
  },
  {
   "cell_type": "code",
   "execution_count": 27,
   "metadata": {},
   "outputs": [],
   "source": [
    "hitter_all=pd.merge(hitter,player, how='left', on=['연도','선수코드'])"
   ]
  },
  {
   "cell_type": "markdown",
   "metadata": {},
   "source": [
    "화이트라는 선수 한번 있는데 연봉 없어서 그냥 제외\\\n",
    "OPS 열 추가"
   ]
  },
  {
   "cell_type": "code",
   "execution_count": 28,
   "metadata": {
    "scrolled": false
   },
   "outputs": [],
   "source": [
    "hitter_all=hitter_all.drop(589,axis=0).reset_index().drop('index',axis=1)\n",
    "hitter_all['OPS']=hitter_all['출루율']+hitter_all['장타율']"
   ]
  },
  {
   "cell_type": "markdown",
   "metadata": {},
   "source": [
    "연봉 달러를 원단위로 바꾸고 수치형으로 변환"
   ]
  },
  {
   "cell_type": "code",
   "execution_count": 29,
   "metadata": {
    "scrolled": false
   },
   "outputs": [
    {
     "name": "stderr",
     "output_type": "stream",
     "text": [
      "100%|████████████████████████████████████████████████████████████████████████████| 1097/1097 [00:00<00:00, 2211.47it/s]\n"
     ]
    }
   ],
   "source": [
    "for i in tqdm(range(hitter_all.shape[0])):\n",
    "    if hitter_all['연봉'].iloc[i][-2:]=='만원':\n",
    "        hitter_all['연봉'].iloc[i]=float(hitter_all.loc[i,'연봉'][:-2])*10000\n",
    "    else:\n",
    "        hitter_all['연봉'].iloc[i]=float(hitter_all.loc[i,'연봉'][:-2])*1150\n",
    "hitter_all['연봉']=hitter_all['연봉'].astype(float)"
   ]
  },
  {
   "cell_type": "markdown",
   "metadata": {},
   "source": [
    "- 경기일정에 있는 데이터 중 9/15 부터 10/8 까지의 선수 10명에 대한 ops, 장타율, 출루율을 예측해주면 된다.\n",
    "- 시계열적으로 계절이나 이번 년도의 성적이 영향을 미칠 것이다.\n",
    "- 선수간의 시계열적인 컨디션도 영향이 있을 것"
   ]
  },
  {
   "cell_type": "markdown",
   "metadata": {},
   "source": [
    "1. hit 는 날짜별 선수들의 매 타석에 대한 내용을 가지고 있다.\\\n",
    "    경기코드를 통해 자신의 팀과 상대 팀의 코드를 알 수 있다.\\\n",
    "    이닝별로도 어떤 타격을 했는지, 타구의 속도, 발사각도, 타격결과가 어떤지, 상대투수투구구속은 얼마인지, 구장은 어딘지 모두 알 수 있다.\n",
    "- 다만 누락된 데이터와 삼진에 대한 데이터는 없기 때문에 문제가 될 수 있다."
   ]
  },
  {
   "cell_type": "markdown",
   "metadata": {},
   "source": [
    "---"
   ]
  },
  {
   "cell_type": "markdown",
   "metadata": {},
   "source": [
    "- 라운드로 하기\n",
    "\n",
    "거기에 날짜에 대한 데이터도 넣어야 한다(시계열)\\\n",
    "그리고 라운드별로 선수의 타격 데이터를 예측하는 것을 할 것이고 \n",
    "\n",
    "\n",
    "***그럼 hit데이터 묶는걸 년도, 라운드, 선수를 기준으로 묶는 것으로 하자 ***\n",
    "\n",
    "이때의 문제점은 hit데이터를 groupby 한다면 hit데이터의 값들을 어떻게 처리할 것인가가 중요하다\n",
    "\n",
    "ex) 타격마다 발사각도와 타구속도가 나오는데 이를 살리기 위해서는 두가지를 이용한 배럴 수치에 대한 열을 만드는 것\\\n",
    "그리고 이 값은 묶을 때 어떻게 해결할 것인지 생각해봐야한다\n",
    "\n",
    "이닝과 시간은 사용하지 못할 것으로 보인다. \n",
    "\n",
    "상대팀코드, 우리팀 코드, 년, 월, 일, 라운드, 선수코드, 해당구장 등은 정해진 값이기 때문에 괜찮다.\\\n",
    "상대투수투구구속은 배럴을 이용할 때 사용하면 좋을 것으로 보인다.(상대투수투구구속은 또 생각해봐야한다..)\\\n",
    "타격결과를 어떻게 처리할 것인가,, 라운드마다의 결과를 hitter의 데이터처럼 원핫인코딩하면 좋을 것으로 보인다.\n",
    "\n",
    "cf) 당연한 것으로 player의 포지션, 나이, 연봉은 년도와 선수코드를 key로 하여 merge 해주는 것\\\n",
    "    hit 데이터를 묶을 때 라운드 별 요일도 넣어줘도 좋을 것으로 보인다.(game(일정) 데이터에도 요일이 있기 때문)\n",
    "    "
   ]
  },
  {
   "cell_type": "markdown",
   "metadata": {},
   "source": [
    "---"
   ]
  },
  {
   "cell_type": "markdown",
   "metadata": {},
   "source": [
    "hit데이터에 보면 같은 날짜인데 경기코드가 두개인 경기가 있다. 이는 더블헤더(=하루에 두경기 하는 것, 라운드를 다르게 해줘야한다)"
   ]
  },
  {
   "cell_type": "markdown",
   "metadata": {},
   "source": [
    "보면 빠진 경기가 중간중간 있기 때문에 경기기록이 빠져있는 데이터는 크롤링을 해야할 것으로 보인다."
   ]
  },
  {
   "cell_type": "markdown",
   "metadata": {},
   "source": [
    "#### 날짜별 선수별로 묶어서 데이터 변형시키기"
   ]
  },
  {
   "cell_type": "code",
   "execution_count": 30,
   "metadata": {},
   "outputs": [],
   "source": [
    "hit['요일']=hit.날짜.dt.day_of_week"
   ]
  },
  {
   "cell_type": "code",
   "execution_count": 31,
   "metadata": {
    "scrolled": false
   },
   "outputs": [
    {
     "data": {
      "text/html": [
       "<div>\n",
       "<style scoped>\n",
       "    .dataframe tbody tr th:only-of-type {\n",
       "        vertical-align: middle;\n",
       "    }\n",
       "\n",
       "    .dataframe tbody tr th {\n",
       "        vertical-align: top;\n",
       "    }\n",
       "\n",
       "    .dataframe thead th {\n",
       "        text-align: right;\n",
       "    }\n",
       "</style>\n",
       "<table border=\"1\" class=\"dataframe\">\n",
       "  <thead>\n",
       "    <tr style=\"text-align: right;\">\n",
       "      <th></th>\n",
       "      <th>년</th>\n",
       "      <th>월</th>\n",
       "      <th>일</th>\n",
       "      <th>선수코드</th>\n",
       "      <th>팀코드</th>\n",
       "      <th>상대팀코드</th>\n",
       "      <th>해당구장</th>\n",
       "      <th>요일</th>\n",
       "    </tr>\n",
       "  </thead>\n",
       "  <tbody>\n",
       "    <tr>\n",
       "      <th>0</th>\n",
       "      <td>2018</td>\n",
       "      <td>3</td>\n",
       "      <td>24</td>\n",
       "      <td>61102</td>\n",
       "      <td>LG</td>\n",
       "      <td>NC</td>\n",
       "      <td>마산</td>\n",
       "      <td>5</td>\n",
       "    </tr>\n",
       "    <tr>\n",
       "      <th>1</th>\n",
       "      <td>2018</td>\n",
       "      <td>3</td>\n",
       "      <td>24</td>\n",
       "      <td>61353</td>\n",
       "      <td>WO</td>\n",
       "      <td>HH</td>\n",
       "      <td>고척</td>\n",
       "      <td>5</td>\n",
       "    </tr>\n",
       "    <tr>\n",
       "      <th>2</th>\n",
       "      <td>2018</td>\n",
       "      <td>3</td>\n",
       "      <td>24</td>\n",
       "      <td>61404</td>\n",
       "      <td>SS</td>\n",
       "      <td>OB</td>\n",
       "      <td>잠실</td>\n",
       "      <td>5</td>\n",
       "    </tr>\n",
       "    <tr>\n",
       "      <th>3</th>\n",
       "      <td>2018</td>\n",
       "      <td>3</td>\n",
       "      <td>24</td>\n",
       "      <td>61869</td>\n",
       "      <td>SK</td>\n",
       "      <td>LT</td>\n",
       "      <td>문학</td>\n",
       "      <td>5</td>\n",
       "    </tr>\n",
       "    <tr>\n",
       "      <th>4</th>\n",
       "      <td>2018</td>\n",
       "      <td>3</td>\n",
       "      <td>24</td>\n",
       "      <td>62404</td>\n",
       "      <td>SS</td>\n",
       "      <td>OB</td>\n",
       "      <td>잠실</td>\n",
       "      <td>5</td>\n",
       "    </tr>\n",
       "    <tr>\n",
       "      <th>...</th>\n",
       "      <td>...</td>\n",
       "      <td>...</td>\n",
       "      <td>...</td>\n",
       "      <td>...</td>\n",
       "      <td>...</td>\n",
       "      <td>...</td>\n",
       "      <td>...</td>\n",
       "      <td>...</td>\n",
       "    </tr>\n",
       "    <tr>\n",
       "      <th>49665</th>\n",
       "      <td>2021</td>\n",
       "      <td>7</td>\n",
       "      <td>11</td>\n",
       "      <td>78513</td>\n",
       "      <td>LT</td>\n",
       "      <td>SS</td>\n",
       "      <td>대구</td>\n",
       "      <td>6</td>\n",
       "    </tr>\n",
       "    <tr>\n",
       "      <th>49666</th>\n",
       "      <td>2021</td>\n",
       "      <td>7</td>\n",
       "      <td>11</td>\n",
       "      <td>78548</td>\n",
       "      <td>KT</td>\n",
       "      <td>HT</td>\n",
       "      <td>광주</td>\n",
       "      <td>6</td>\n",
       "    </tr>\n",
       "    <tr>\n",
       "      <th>49667</th>\n",
       "      <td>2021</td>\n",
       "      <td>7</td>\n",
       "      <td>11</td>\n",
       "      <td>78603</td>\n",
       "      <td>HT</td>\n",
       "      <td>KT</td>\n",
       "      <td>광주</td>\n",
       "      <td>6</td>\n",
       "    </tr>\n",
       "    <tr>\n",
       "      <th>49668</th>\n",
       "      <td>2021</td>\n",
       "      <td>7</td>\n",
       "      <td>11</td>\n",
       "      <td>78643</td>\n",
       "      <td>HH</td>\n",
       "      <td>SK</td>\n",
       "      <td>문학</td>\n",
       "      <td>6</td>\n",
       "    </tr>\n",
       "    <tr>\n",
       "      <th>49669</th>\n",
       "      <td>2021</td>\n",
       "      <td>7</td>\n",
       "      <td>11</td>\n",
       "      <td>79608</td>\n",
       "      <td>LT</td>\n",
       "      <td>SS</td>\n",
       "      <td>대구</td>\n",
       "      <td>6</td>\n",
       "    </tr>\n",
       "  </tbody>\n",
       "</table>\n",
       "<p>49670 rows × 8 columns</p>\n",
       "</div>"
      ],
      "text/plain": [
       "          년  월   일   선수코드 팀코드 상대팀코드 해당구장  요일\n",
       "0      2018  3  24  61102  LG    NC   마산   5\n",
       "1      2018  3  24  61353  WO    HH   고척   5\n",
       "2      2018  3  24  61404  SS    OB   잠실   5\n",
       "3      2018  3  24  61869  SK    LT   문학   5\n",
       "4      2018  3  24  62404  SS    OB   잠실   5\n",
       "...     ... ..  ..    ...  ..   ...  ...  ..\n",
       "49665  2021  7  11  78513  LT    SS   대구   6\n",
       "49666  2021  7  11  78548  KT    HT   광주   6\n",
       "49667  2021  7  11  78603  HT    KT   광주   6\n",
       "49668  2021  7  11  78643  HH    SK   문학   6\n",
       "49669  2021  7  11  79608  LT    SS   대구   6\n",
       "\n",
       "[49670 rows x 8 columns]"
      ]
     },
     "execution_count": 31,
     "metadata": {},
     "output_type": "execute_result"
    }
   ],
   "source": [
    "a=hit.groupby(['년','월','일','선수코드'])['팀코드','상대팀코드','해당구장','요일'].first().reset_index();a"
   ]
  },
  {
   "cell_type": "code",
   "execution_count": 32,
   "metadata": {},
   "outputs": [
    {
     "data": {
      "text/html": [
       "<div>\n",
       "<style scoped>\n",
       "    .dataframe tbody tr th:only-of-type {\n",
       "        vertical-align: middle;\n",
       "    }\n",
       "\n",
       "    .dataframe tbody tr th {\n",
       "        vertical-align: top;\n",
       "    }\n",
       "\n",
       "    .dataframe thead th {\n",
       "        text-align: right;\n",
       "    }\n",
       "</style>\n",
       "<table border=\"1\" class=\"dataframe\">\n",
       "  <thead>\n",
       "    <tr style=\"text-align: right;\">\n",
       "      <th></th>\n",
       "      <th>년</th>\n",
       "      <th>월</th>\n",
       "      <th>일</th>\n",
       "      <th>선수코드</th>\n",
       "      <th>배럴</th>\n",
       "    </tr>\n",
       "  </thead>\n",
       "  <tbody>\n",
       "    <tr>\n",
       "      <th>0</th>\n",
       "      <td>2018</td>\n",
       "      <td>3</td>\n",
       "      <td>24</td>\n",
       "      <td>61102</td>\n",
       "      <td>2.0</td>\n",
       "    </tr>\n",
       "    <tr>\n",
       "      <th>1</th>\n",
       "      <td>2018</td>\n",
       "      <td>3</td>\n",
       "      <td>24</td>\n",
       "      <td>61353</td>\n",
       "      <td>1.0</td>\n",
       "    </tr>\n",
       "    <tr>\n",
       "      <th>2</th>\n",
       "      <td>2018</td>\n",
       "      <td>3</td>\n",
       "      <td>24</td>\n",
       "      <td>61404</td>\n",
       "      <td>0.0</td>\n",
       "    </tr>\n",
       "    <tr>\n",
       "      <th>3</th>\n",
       "      <td>2018</td>\n",
       "      <td>3</td>\n",
       "      <td>24</td>\n",
       "      <td>61869</td>\n",
       "      <td>0.0</td>\n",
       "    </tr>\n",
       "    <tr>\n",
       "      <th>4</th>\n",
       "      <td>2018</td>\n",
       "      <td>3</td>\n",
       "      <td>24</td>\n",
       "      <td>62404</td>\n",
       "      <td>0.0</td>\n",
       "    </tr>\n",
       "    <tr>\n",
       "      <th>...</th>\n",
       "      <td>...</td>\n",
       "      <td>...</td>\n",
       "      <td>...</td>\n",
       "      <td>...</td>\n",
       "      <td>...</td>\n",
       "    </tr>\n",
       "    <tr>\n",
       "      <th>49665</th>\n",
       "      <td>2021</td>\n",
       "      <td>7</td>\n",
       "      <td>11</td>\n",
       "      <td>78513</td>\n",
       "      <td>0.0</td>\n",
       "    </tr>\n",
       "    <tr>\n",
       "      <th>49666</th>\n",
       "      <td>2021</td>\n",
       "      <td>7</td>\n",
       "      <td>11</td>\n",
       "      <td>78548</td>\n",
       "      <td>1.0</td>\n",
       "    </tr>\n",
       "    <tr>\n",
       "      <th>49667</th>\n",
       "      <td>2021</td>\n",
       "      <td>7</td>\n",
       "      <td>11</td>\n",
       "      <td>78603</td>\n",
       "      <td>1.0</td>\n",
       "    </tr>\n",
       "    <tr>\n",
       "      <th>49668</th>\n",
       "      <td>2021</td>\n",
       "      <td>7</td>\n",
       "      <td>11</td>\n",
       "      <td>78643</td>\n",
       "      <td>2.0</td>\n",
       "    </tr>\n",
       "    <tr>\n",
       "      <th>49669</th>\n",
       "      <td>2021</td>\n",
       "      <td>7</td>\n",
       "      <td>11</td>\n",
       "      <td>79608</td>\n",
       "      <td>0.0</td>\n",
       "    </tr>\n",
       "  </tbody>\n",
       "</table>\n",
       "<p>49670 rows × 5 columns</p>\n",
       "</div>"
      ],
      "text/plain": [
       "          년  월   일   선수코드   배럴\n",
       "0      2018  3  24  61102  2.0\n",
       "1      2018  3  24  61353  1.0\n",
       "2      2018  3  24  61404  0.0\n",
       "3      2018  3  24  61869  0.0\n",
       "4      2018  3  24  62404  0.0\n",
       "...     ... ..  ..    ...  ...\n",
       "49665  2021  7  11  78513  0.0\n",
       "49666  2021  7  11  78548  1.0\n",
       "49667  2021  7  11  78603  1.0\n",
       "49668  2021  7  11  78643  2.0\n",
       "49669  2021  7  11  79608  0.0\n",
       "\n",
       "[49670 rows x 5 columns]"
      ]
     },
     "execution_count": 32,
     "metadata": {},
     "output_type": "execute_result"
    }
   ],
   "source": [
    "b=hit.groupby(['년','월','일','선수코드'])['배럴'].sum().reset_index();b"
   ]
  },
  {
   "cell_type": "markdown",
   "metadata": {},
   "source": [
    "#### 타자정보에서 나이와 연봉 타격로그데이터에 넣기"
   ]
  },
  {
   "cell_type": "code",
   "execution_count": 33,
   "metadata": {},
   "outputs": [],
   "source": [
    "train=pd.merge(a,hitter_all[['연도','선수코드','선수명','나이','연봉']], \n",
    "               how='left',left_on=['선수코드','년'],right_on=['선수코드','연도']).drop('연도',axis=1)\n",
    "train=train.drop(train[train.나이.isna()].index,axis=0).reset_index().drop('index',axis=1)\n",
    "train=pd.merge(train,b,how='left',on=['년','월','일','선수코드'])"
   ]
  },
  {
   "cell_type": "code",
   "execution_count": 34,
   "metadata": {
    "scrolled": false
   },
   "outputs": [
    {
     "data": {
      "text/html": [
       "<div>\n",
       "<style scoped>\n",
       "    .dataframe tbody tr th:only-of-type {\n",
       "        vertical-align: middle;\n",
       "    }\n",
       "\n",
       "    .dataframe tbody tr th {\n",
       "        vertical-align: top;\n",
       "    }\n",
       "\n",
       "    .dataframe thead th {\n",
       "        text-align: right;\n",
       "    }\n",
       "</style>\n",
       "<table border=\"1\" class=\"dataframe\">\n",
       "  <thead>\n",
       "    <tr style=\"text-align: right;\">\n",
       "      <th></th>\n",
       "      <th>년</th>\n",
       "      <th>월</th>\n",
       "      <th>일</th>\n",
       "      <th>선수코드</th>\n",
       "      <th>팀코드</th>\n",
       "      <th>상대팀코드</th>\n",
       "      <th>해당구장</th>\n",
       "      <th>요일</th>\n",
       "      <th>선수명</th>\n",
       "      <th>나이</th>\n",
       "      <th>연봉</th>\n",
       "      <th>배럴</th>\n",
       "    </tr>\n",
       "  </thead>\n",
       "  <tbody>\n",
       "    <tr>\n",
       "      <th>0</th>\n",
       "      <td>2018</td>\n",
       "      <td>3</td>\n",
       "      <td>24</td>\n",
       "      <td>61102</td>\n",
       "      <td>LG</td>\n",
       "      <td>NC</td>\n",
       "      <td>마산</td>\n",
       "      <td>5</td>\n",
       "      <td>유강남</td>\n",
       "      <td>25.0</td>\n",
       "      <td>185000000.0</td>\n",
       "      <td>2.0</td>\n",
       "    </tr>\n",
       "    <tr>\n",
       "      <th>1</th>\n",
       "      <td>2018</td>\n",
       "      <td>3</td>\n",
       "      <td>24</td>\n",
       "      <td>61353</td>\n",
       "      <td>WO</td>\n",
       "      <td>HH</td>\n",
       "      <td>고척</td>\n",
       "      <td>5</td>\n",
       "      <td>고종욱</td>\n",
       "      <td>29.0</td>\n",
       "      <td>110000000.0</td>\n",
       "      <td>1.0</td>\n",
       "    </tr>\n",
       "    <tr>\n",
       "      <th>2</th>\n",
       "      <td>2018</td>\n",
       "      <td>3</td>\n",
       "      <td>24</td>\n",
       "      <td>61404</td>\n",
       "      <td>SS</td>\n",
       "      <td>OB</td>\n",
       "      <td>잠실</td>\n",
       "      <td>5</td>\n",
       "      <td>김헌곤</td>\n",
       "      <td>29.0</td>\n",
       "      <td>85000000.0</td>\n",
       "      <td>0.0</td>\n",
       "    </tr>\n",
       "    <tr>\n",
       "      <th>3</th>\n",
       "      <td>2018</td>\n",
       "      <td>3</td>\n",
       "      <td>24</td>\n",
       "      <td>61869</td>\n",
       "      <td>SK</td>\n",
       "      <td>LT</td>\n",
       "      <td>문학</td>\n",
       "      <td>5</td>\n",
       "      <td>정진기</td>\n",
       "      <td>25.0</td>\n",
       "      <td>62000000.0</td>\n",
       "      <td>0.0</td>\n",
       "    </tr>\n",
       "    <tr>\n",
       "      <th>4</th>\n",
       "      <td>2018</td>\n",
       "      <td>3</td>\n",
       "      <td>24</td>\n",
       "      <td>62404</td>\n",
       "      <td>SS</td>\n",
       "      <td>OB</td>\n",
       "      <td>잠실</td>\n",
       "      <td>5</td>\n",
       "      <td>구자욱</td>\n",
       "      <td>25.0</td>\n",
       "      <td>250000000.0</td>\n",
       "      <td>0.0</td>\n",
       "    </tr>\n",
       "    <tr>\n",
       "      <th>...</th>\n",
       "      <td>...</td>\n",
       "      <td>...</td>\n",
       "      <td>...</td>\n",
       "      <td>...</td>\n",
       "      <td>...</td>\n",
       "      <td>...</td>\n",
       "      <td>...</td>\n",
       "      <td>...</td>\n",
       "      <td>...</td>\n",
       "      <td>...</td>\n",
       "      <td>...</td>\n",
       "      <td>...</td>\n",
       "    </tr>\n",
       "    <tr>\n",
       "      <th>49656</th>\n",
       "      <td>2021</td>\n",
       "      <td>7</td>\n",
       "      <td>11</td>\n",
       "      <td>78513</td>\n",
       "      <td>LT</td>\n",
       "      <td>SS</td>\n",
       "      <td>대구</td>\n",
       "      <td>6</td>\n",
       "      <td>전준우</td>\n",
       "      <td>35.0</td>\n",
       "      <td>500000000.0</td>\n",
       "      <td>0.0</td>\n",
       "    </tr>\n",
       "    <tr>\n",
       "      <th>49657</th>\n",
       "      <td>2021</td>\n",
       "      <td>7</td>\n",
       "      <td>11</td>\n",
       "      <td>78548</td>\n",
       "      <td>KT</td>\n",
       "      <td>HT</td>\n",
       "      <td>광주</td>\n",
       "      <td>6</td>\n",
       "      <td>장성우</td>\n",
       "      <td>31.0</td>\n",
       "      <td>210000000.0</td>\n",
       "      <td>1.0</td>\n",
       "    </tr>\n",
       "    <tr>\n",
       "      <th>49658</th>\n",
       "      <td>2021</td>\n",
       "      <td>7</td>\n",
       "      <td>11</td>\n",
       "      <td>78603</td>\n",
       "      <td>HT</td>\n",
       "      <td>KT</td>\n",
       "      <td>광주</td>\n",
       "      <td>6</td>\n",
       "      <td>김선빈</td>\n",
       "      <td>31.0</td>\n",
       "      <td>450000000.0</td>\n",
       "      <td>1.0</td>\n",
       "    </tr>\n",
       "    <tr>\n",
       "      <th>49659</th>\n",
       "      <td>2021</td>\n",
       "      <td>7</td>\n",
       "      <td>11</td>\n",
       "      <td>78643</td>\n",
       "      <td>HH</td>\n",
       "      <td>SK</td>\n",
       "      <td>문학</td>\n",
       "      <td>6</td>\n",
       "      <td>백용환</td>\n",
       "      <td>32.0</td>\n",
       "      <td>40000000.0</td>\n",
       "      <td>2.0</td>\n",
       "    </tr>\n",
       "    <tr>\n",
       "      <th>49660</th>\n",
       "      <td>2021</td>\n",
       "      <td>7</td>\n",
       "      <td>11</td>\n",
       "      <td>79608</td>\n",
       "      <td>LT</td>\n",
       "      <td>SS</td>\n",
       "      <td>대구</td>\n",
       "      <td>6</td>\n",
       "      <td>안치홍</td>\n",
       "      <td>31.0</td>\n",
       "      <td>290000000.0</td>\n",
       "      <td>0.0</td>\n",
       "    </tr>\n",
       "  </tbody>\n",
       "</table>\n",
       "<p>49661 rows × 12 columns</p>\n",
       "</div>"
      ],
      "text/plain": [
       "          년  월   일   선수코드 팀코드 상대팀코드 해당구장  요일  선수명    나이           연봉   배럴\n",
       "0      2018  3  24  61102  LG    NC   마산   5  유강남  25.0  185000000.0  2.0\n",
       "1      2018  3  24  61353  WO    HH   고척   5  고종욱  29.0  110000000.0  1.0\n",
       "2      2018  3  24  61404  SS    OB   잠실   5  김헌곤  29.0   85000000.0  0.0\n",
       "3      2018  3  24  61869  SK    LT   문학   5  정진기  25.0   62000000.0  0.0\n",
       "4      2018  3  24  62404  SS    OB   잠실   5  구자욱  25.0  250000000.0  0.0\n",
       "...     ... ..  ..    ...  ..   ...  ...  ..  ...   ...          ...  ...\n",
       "49656  2021  7  11  78513  LT    SS   대구   6  전준우  35.0  500000000.0  0.0\n",
       "49657  2021  7  11  78548  KT    HT   광주   6  장성우  31.0  210000000.0  1.0\n",
       "49658  2021  7  11  78603  HT    KT   광주   6  김선빈  31.0  450000000.0  1.0\n",
       "49659  2021  7  11  78643  HH    SK   문학   6  백용환  32.0   40000000.0  2.0\n",
       "49660  2021  7  11  79608  LT    SS   대구   6  안치홍  31.0  290000000.0  0.0\n",
       "\n",
       "[49661 rows x 12 columns]"
      ]
     },
     "execution_count": 34,
     "metadata": {},
     "output_type": "execute_result"
    }
   ],
   "source": [
    "train"
   ]
  },
  {
   "cell_type": "markdown",
   "metadata": {},
   "source": [
    "### 외부데이터"
   ]
  },
  {
   "cell_type": "code",
   "execution_count": 35,
   "metadata": {},
   "outputs": [],
   "source": [
    "hit_log=pd.read_csv('data/hit_log.csv', index_col=0)"
   ]
  },
  {
   "cell_type": "code",
   "execution_count": 36,
   "metadata": {},
   "outputs": [],
   "source": [
    "hit_log.columns=['날짜', '상대팀코드', '경기결과', '타순', '포지션', '선발', '타수', '득점', '안타', '2루타', '3루타', '홈런',\n",
    "       '루타', '타점', '도루', '도루실책', '볼넷', '사구', '고의4구', '삼진', '병살타', '희생번트', '희생플라이', '타율',\n",
    "       '출루율', '장타율', 'OPS', '투구', 'avLI', 'RE24', 'WPA', '선수명', '연도']"
   ]
  },
  {
   "cell_type": "code",
   "execution_count": 37,
   "metadata": {},
   "outputs": [
    {
     "data": {
      "text/plain": [
       "(63989, 33)"
      ]
     },
     "execution_count": 37,
     "metadata": {},
     "output_type": "execute_result"
    }
   ],
   "source": [
    "hit_log.shape"
   ]
  },
  {
   "cell_type": "markdown",
   "metadata": {},
   "source": [
    "날짜로 년, 월, 일, 요일 열 추가"
   ]
  },
  {
   "cell_type": "code",
   "execution_count": 38,
   "metadata": {},
   "outputs": [],
   "source": [
    "hit_log['날짜']=hit_log['연도'].astype('int').astype('str')+hit_log.날짜.str.replace('-','')\n",
    "\n",
    "hit_log['날짜']=pd.to_datetime(hit_log['날짜'])\n",
    "\n",
    "hit_log['년']=hit_log.날짜.dt.year\n",
    "hit_log['월']=hit_log.날짜.dt.month\n",
    "hit_log['일']=hit_log.날짜.dt.day\n",
    "hit_log['요일']=hit_log.날짜.dt.day_of_week\n",
    "\n",
    "hit_log.drop('연도',axis=1,inplace=True)"
   ]
  },
  {
   "cell_type": "markdown",
   "metadata": {},
   "source": [
    "플레이오프를 한 날짜의 데이터는 제외 ( 144경기 외에 추가적인 경기이므로 )"
   ]
  },
  {
   "cell_type": "code",
   "execution_count": 39,
   "metadata": {},
   "outputs": [],
   "source": [
    "# 2018년 3월 24일부터 10 14일까지\n",
    "플레이오프_2018=hit_log[(hit_log.년==2018)&((hit_log.날짜>'2018-10-14')|(hit_log.날짜<'2018-03-24'))].index\n",
    "# 2019년 3월 23일부터 10월 1일까지\n",
    "플레이오프_2019=hit_log[(hit_log.년==2019)&((hit_log.날짜>'2019-10-01')|(hit_log.날짜<'2019-03-23'))].index\n",
    "# 2020년 5월 5일부터 10월 31일까지\n",
    "플레이오프_2020=hit_log[(hit_log.년==2020)&((hit_log.날짜>'2020-10-31')|(hit_log.날짜<'2020-05-05'))].index"
   ]
  },
  {
   "cell_type": "code",
   "execution_count": 40,
   "metadata": {},
   "outputs": [],
   "source": [
    "hit_log=hit_log.drop(list(플레이오프_2018)+list(플레이오프_2019)+list(플레이오프_2020))\n",
    "hit_log=hit_log.reset_index(drop=True)"
   ]
  },
  {
   "cell_type": "code",
   "execution_count": 41,
   "metadata": {},
   "outputs": [],
   "source": [
    "hit_log['구장']=hit_log.상대팀코드.apply(lambda x : '상대구장' if x[0]=='@' else '홈구장')"
   ]
  },
  {
   "cell_type": "markdown",
   "metadata": {},
   "source": [
    "상대팀코드 hit_log데이터와 같은 이름으로 변환"
   ]
  },
  {
   "cell_type": "code",
   "execution_count": 42,
   "metadata": {},
   "outputs": [],
   "source": [
    "hit_log['상대팀코드']=hit_log.상대팀코드.apply(lambda x : x[1:] if x[0]=='@' else x)"
   ]
  },
  {
   "cell_type": "code",
   "execution_count": 43,
   "metadata": {},
   "outputs": [],
   "source": [
    "def f1(x):\n",
    "    if x=='삼성':\n",
    "        return 'SS'\n",
    "    elif x=='롯데':\n",
    "        return 'LT'\n",
    "    elif x=='KIA':\n",
    "        return 'HT'\n",
    "    elif x=='키움':\n",
    "        return 'WO'\n",
    "    elif x=='두산':\n",
    "        return 'OB'\n",
    "    elif x=='한화':\n",
    "        return 'HH'\n",
    "    elif x=='넥센':\n",
    "        return 'WO'\n",
    "    elif x=='SSG':\n",
    "        return 'SK'\n",
    "    else:\n",
    "        return x"
   ]
  },
  {
   "cell_type": "code",
   "execution_count": 44,
   "metadata": {},
   "outputs": [],
   "source": [
    "hit_log['상대팀코드']=hit_log['상대팀코드'].apply(f1)"
   ]
  },
  {
   "cell_type": "markdown",
   "metadata": {},
   "source": [
    "경기 승패 열 추가"
   ]
  },
  {
   "cell_type": "code",
   "execution_count": 45,
   "metadata": {},
   "outputs": [],
   "source": [
    "hit_log['승패']=hit_log.경기결과.str[0]"
   ]
  },
  {
   "cell_type": "markdown",
   "metadata": {},
   "source": [
    "일타율 추가"
   ]
  },
  {
   "cell_type": "code",
   "execution_count": 46,
   "metadata": {},
   "outputs": [],
   "source": [
    "hit_log['일타율'] = ((hit_log['안타'] + hit_log['2루타'] + hit_log['3루타'] + hit_log['홈런']) / hit_log['타수']).fillna(0)"
   ]
  },
  {
   "cell_type": "markdown",
   "metadata": {},
   "source": [
    "hit_log에 있는 7월 11일까지만 외부데이터에서 사용"
   ]
  },
  {
   "cell_type": "code",
   "execution_count": 47,
   "metadata": {},
   "outputs": [],
   "source": [
    "# 일단 7월 11일 이후의 자료는 제외하고 진행\n",
    "hit_log.drop(list(hit_log[hit_log.날짜>'2021-07-11'].index),inplace=True)\n",
    "\n",
    "# 투수가 타격한 경우는 제외시킨다.\n",
    "hit_log.drop(list(hit_log[hit_log.포지션=='P'].index),inplace=True)\n",
    "hit_log=hit_log.reset_index(drop=True)"
   ]
  },
  {
   "cell_type": "code",
   "execution_count": 48,
   "metadata": {},
   "outputs": [
    {
     "data": {
      "text/plain": [
       "(62563, 39)"
      ]
     },
     "execution_count": 48,
     "metadata": {},
     "output_type": "execute_result"
    }
   ],
   "source": [
    "hit_log.shape"
   ]
  },
  {
   "cell_type": "markdown",
   "metadata": {},
   "source": [
    "hit_log 데이터와 외부데이터 병합"
   ]
  },
  {
   "cell_type": "code",
   "execution_count": 49,
   "metadata": {
    "scrolled": false
   },
   "outputs": [],
   "source": [
    "hit_train=pd.merge(hit_log, train[['년', '월', '일', '팀코드', '상대팀코드', '해당구장', '선수명', '배럴']],how='left',left_on=['년','월','일','선수명','상대팀코드'],right_on=['년','월','일','선수명','상대팀코드'])"
   ]
  },
  {
   "cell_type": "markdown",
   "metadata": {},
   "source": [
    "#### 결측치 처리\n",
    "\n",
    "- 팀코드\n",
    "    1. 팀코드가 없는 것은 먼저 같은 날 같은 상대를 만났던 팀의 코드를 넣어준다.\n",
    "    2. 선수명으로 팀 코드를 넣기 위해 먼저 동명이인인 선수들은 따로 네이버스포츠를 이용하여 직접 수작업으로 넣어준다.\n",
    "    3. 그런 다음 선수명으로 묶어 팀코드를 넣어준다.\n",
    "    4. 그런 다음 1번에서 진행했던 것을 한번 더 진행해주면 결측값이 처리된다."
   ]
  },
  {
   "cell_type": "code",
   "execution_count": 50,
   "metadata": {},
   "outputs": [],
   "source": [
    "hit_train['팀코드'].fillna(hit_train.groupby(['년','월','일','구장','경기결과','상대팀코드'])['팀코드'].transform('first'),inplace=True)"
   ]
  },
  {
   "cell_type": "code",
   "execution_count": 51,
   "metadata": {},
   "outputs": [],
   "source": [
    "hit_train.loc[11530:11567,'팀코드']='SK' # 강승호 2018\n",
    "\n",
    "hit_train.loc[16355:16360,'팀코드']='SS'\n",
    "hit_train.loc[41000:41053,'팀코드']='SK' # 김재현 2018\n",
    "\n",
    "hit_train.loc[40749:40808,'팀코드']='NC' # 이명기 2019\n",
    "\n",
    "hit_train.loc[12079:12111,'팀코드']='HT' # 이우성 2019"
   ]
  },
  {
   "cell_type": "code",
   "execution_count": 52,
   "metadata": {},
   "outputs": [],
   "source": [
    "hit_train['팀코드'].fillna(hit_train.groupby(['년','선수명'])['팀코드'].transform('first'),inplace=True)\n",
    "hit_train['팀코드'].fillna(hit_train.groupby(['년','월','일','구장','경기결과','상대팀코드'])['팀코드'].transform('first'),inplace=True)"
   ]
  },
  {
   "cell_type": "markdown",
   "metadata": {},
   "source": [
    "해당구장이 어딘지 넣어주기 위해 홈구장이면 팀코드를 보고, 상대구장이면 상대팀코드를 보고 구장의 이름을 넣어준다."
   ]
  },
  {
   "cell_type": "code",
   "execution_count": 53,
   "metadata": {
    "scrolled": true
   },
   "outputs": [
    {
     "name": "stderr",
     "output_type": "stream",
     "text": [
      "100%|███████████████████████████████████████████████████████████████████████████| 62563/62563 [01:05<00:00, 957.38it/s]\n"
     ]
    }
   ],
   "source": [
    "for i in tqdm(range(hit_train.shape[0])):\n",
    "    if hit_train.loc[i,'구장']=='홈구장':\n",
    "        hit_train['구장'].iloc[i]=hit_train.loc[i,'팀코드']\n",
    "    else:\n",
    "        hit_train['구장'].iloc[i]=hit_train.loc[i,'상대팀코드']\n",
    "hit_train.해당구장.fillna(hit_train.구장,inplace=True)"
   ]
  },
  {
   "cell_type": "code",
   "execution_count": 54,
   "metadata": {},
   "outputs": [],
   "source": [
    "hit_train['해당구장']=hit_train.해당구장.apply(lambda x : '문학' if x=='SK' else  '대구' if x=='SS' else '사직' if x=='LT' else '수원' if x=='KT' else\n",
    "                    '대전' if x=='HH' else '광주' if x=='HT' else '고척' if x=='WO' else '잠실' if x=='OB' else '잠실' if x=='LG' else\n",
    "                    '창원' if x=='NC' else x )\n",
    "\n",
    "hit_train['해당구장'].iloc[hit_train[(hit_train.해당구장=='창원')&(hit_train.년==2018)].index]='마산'"
   ]
  },
  {
   "cell_type": "markdown",
   "metadata": {},
   "source": [
    "위의 데이터에 선수명과 나이, 연봉 등을 병합해준다."
   ]
  },
  {
   "cell_type": "code",
   "execution_count": 55,
   "metadata": {},
   "outputs": [],
   "source": [
    "hit_train=pd.merge(hit_train, train[['년','월','일','팀코드','선수명','나이','연봉']],how='left',left_on=['년','월','일','팀코드','선수명'],right_on=['년','월','일','팀코드','선수명'])"
   ]
  },
  {
   "cell_type": "markdown",
   "metadata": {},
   "source": [
    "#### 결측치 처리\n",
    "\n",
    "- 나이, 연봉\n",
    "    1. 먼저 동명이인인 선수들의 값은 따로 넣어준다.\n",
    "    2. 그런 다음 선수명으로 묶어 나이, 연봉값을 넣어준다."
   ]
  },
  {
   "cell_type": "code",
   "execution_count": 56,
   "metadata": {},
   "outputs": [],
   "source": [
    "hit_train.loc[11530:11567,['나이','연봉']]=[24,66000000.0] # 강승호 2018\n",
    "\n",
    "hit_train.loc[16355:16360,['나이','연봉']]=[26,70000000]\n",
    "hit_train.loc[41000:41053,['나이','연봉']]=[30,51000000.0] # 김재현 2018\n",
    "\n",
    "hit_train.loc[40749:40808,['나이','연봉']]=[31,220000000.0] # 이명기 2019\n",
    "\n",
    "hit_train.loc[12079:12111,['나이','연봉']]=[24,40000000.0]  # 이우성 2019"
   ]
  },
  {
   "cell_type": "code",
   "execution_count": 57,
   "metadata": {},
   "outputs": [],
   "source": [
    "hit_train['나이'].fillna(hit_train.groupby(['년','선수명','팀코드'])['나이'].transform('first'),inplace=True)\n",
    "hit_train['연봉'].fillna(hit_train.groupby(['년','선수명','팀코드'])['연봉'].transform('first'),inplace=True)"
   ]
  },
  {
   "cell_type": "markdown",
   "metadata": {},
   "source": [
    "나이값이 없는 데이터는 제외한다."
   ]
  },
  {
   "cell_type": "code",
   "execution_count": 58,
   "metadata": {},
   "outputs": [],
   "source": [
    "hit_train.drop(hit_train[hit_train.나이.isna()].index,axis=0,inplace=True)\n",
    "hit_train.drop('구장',axis=1,inplace=True)"
   ]
  },
  {
   "cell_type": "code",
   "execution_count": 153,
   "metadata": {},
   "outputs": [
    {
     "data": {
      "text/html": [
       "<div>\n",
       "<style scoped>\n",
       "    .dataframe tbody tr th:only-of-type {\n",
       "        vertical-align: middle;\n",
       "    }\n",
       "\n",
       "    .dataframe tbody tr th {\n",
       "        vertical-align: top;\n",
       "    }\n",
       "\n",
       "    .dataframe thead th {\n",
       "        text-align: right;\n",
       "    }\n",
       "</style>\n",
       "<table border=\"1\" class=\"dataframe\">\n",
       "  <thead>\n",
       "    <tr style=\"text-align: right;\">\n",
       "      <th></th>\n",
       "      <th>날짜</th>\n",
       "      <th>상대팀코드</th>\n",
       "      <th>경기결과</th>\n",
       "      <th>타순</th>\n",
       "      <th>포지션</th>\n",
       "      <th>선발</th>\n",
       "      <th>타수</th>\n",
       "      <th>득점</th>\n",
       "      <th>안타</th>\n",
       "      <th>2루타</th>\n",
       "      <th>...</th>\n",
       "      <th>월</th>\n",
       "      <th>일</th>\n",
       "      <th>요일</th>\n",
       "      <th>승패</th>\n",
       "      <th>일타율</th>\n",
       "      <th>팀코드</th>\n",
       "      <th>해당구장</th>\n",
       "      <th>배럴</th>\n",
       "      <th>나이</th>\n",
       "      <th>연봉</th>\n",
       "    </tr>\n",
       "  </thead>\n",
       "  <tbody>\n",
       "    <tr>\n",
       "      <th>0</th>\n",
       "      <td>2018-07-19</td>\n",
       "      <td>KT</td>\n",
       "      <td>L 7:8</td>\n",
       "      <td>8</td>\n",
       "      <td>PH</td>\n",
       "      <td>0</td>\n",
       "      <td>1</td>\n",
       "      <td>0</td>\n",
       "      <td>1</td>\n",
       "      <td>0</td>\n",
       "      <td>...</td>\n",
       "      <td>7</td>\n",
       "      <td>19</td>\n",
       "      <td>3</td>\n",
       "      <td>L</td>\n",
       "      <td>1.0</td>\n",
       "      <td>HH</td>\n",
       "      <td>수원</td>\n",
       "      <td>0.0</td>\n",
       "      <td>27.0</td>\n",
       "      <td>27000000.0</td>\n",
       "    </tr>\n",
       "    <tr>\n",
       "      <th>1</th>\n",
       "      <td>2018-07-22</td>\n",
       "      <td>SS</td>\n",
       "      <td>L 4:5</td>\n",
       "      <td>8</td>\n",
       "      <td>C</td>\n",
       "      <td>1</td>\n",
       "      <td>3</td>\n",
       "      <td>0</td>\n",
       "      <td>0</td>\n",
       "      <td>0</td>\n",
       "      <td>...</td>\n",
       "      <td>7</td>\n",
       "      <td>22</td>\n",
       "      <td>6</td>\n",
       "      <td>L</td>\n",
       "      <td>0.0</td>\n",
       "      <td>HH</td>\n",
       "      <td>대구</td>\n",
       "      <td>0.0</td>\n",
       "      <td>27.0</td>\n",
       "      <td>27000000.0</td>\n",
       "    </tr>\n",
       "    <tr>\n",
       "      <th>2</th>\n",
       "      <td>2018-09-06</td>\n",
       "      <td>KT</td>\n",
       "      <td>W 9:2</td>\n",
       "      <td>5</td>\n",
       "      <td>PR</td>\n",
       "      <td>0</td>\n",
       "      <td>2</td>\n",
       "      <td>1</td>\n",
       "      <td>1</td>\n",
       "      <td>1</td>\n",
       "      <td>...</td>\n",
       "      <td>9</td>\n",
       "      <td>6</td>\n",
       "      <td>3</td>\n",
       "      <td>W</td>\n",
       "      <td>1.0</td>\n",
       "      <td>HH</td>\n",
       "      <td>수원</td>\n",
       "      <td>1.0</td>\n",
       "      <td>27.0</td>\n",
       "      <td>27000000.0</td>\n",
       "    </tr>\n",
       "    <tr>\n",
       "      <th>3</th>\n",
       "      <td>2018-09-07</td>\n",
       "      <td>KT</td>\n",
       "      <td>L 4:12</td>\n",
       "      <td>6</td>\n",
       "      <td>PH</td>\n",
       "      <td>0</td>\n",
       "      <td>1</td>\n",
       "      <td>0</td>\n",
       "      <td>0</td>\n",
       "      <td>0</td>\n",
       "      <td>...</td>\n",
       "      <td>9</td>\n",
       "      <td>7</td>\n",
       "      <td>4</td>\n",
       "      <td>L</td>\n",
       "      <td>0.0</td>\n",
       "      <td>HH</td>\n",
       "      <td>수원</td>\n",
       "      <td>0.0</td>\n",
       "      <td>27.0</td>\n",
       "      <td>27000000.0</td>\n",
       "    </tr>\n",
       "    <tr>\n",
       "      <th>4</th>\n",
       "      <td>2018-09-09</td>\n",
       "      <td>LG</td>\n",
       "      <td>L 5:8</td>\n",
       "      <td>8</td>\n",
       "      <td>PH</td>\n",
       "      <td>0</td>\n",
       "      <td>2</td>\n",
       "      <td>0</td>\n",
       "      <td>0</td>\n",
       "      <td>0</td>\n",
       "      <td>...</td>\n",
       "      <td>9</td>\n",
       "      <td>9</td>\n",
       "      <td>6</td>\n",
       "      <td>L</td>\n",
       "      <td>0.0</td>\n",
       "      <td>HH</td>\n",
       "      <td>잠실</td>\n",
       "      <td>1.0</td>\n",
       "      <td>27.0</td>\n",
       "      <td>27000000.0</td>\n",
       "    </tr>\n",
       "  </tbody>\n",
       "</table>\n",
       "<p>5 rows × 43 columns</p>\n",
       "</div>"
      ],
      "text/plain": [
       "          날짜 상대팀코드    경기결과  타순 포지션  선발  타수  득점  안타  2루타  ...  월   일  요일  승패  \\\n",
       "0 2018-07-19    KT   L 7:8   8  PH   0   1   0   1    0  ...  7  19   3   L   \n",
       "1 2018-07-22    SS   L 4:5   8   C   1   3   0   0    0  ...  7  22   6   L   \n",
       "2 2018-09-06    KT   W 9:2   5  PR   0   2   1   1    1  ...  9   6   3   W   \n",
       "3 2018-09-07    KT  L 4:12   6  PH   0   1   0   0    0  ...  9   7   4   L   \n",
       "4 2018-09-09    LG   L 5:8   8  PH   0   2   0   0    0  ...  9   9   6   L   \n",
       "\n",
       "   일타율  팀코드  해당구장   배럴    나이          연봉  \n",
       "0  1.0   HH    수원  0.0  27.0  27000000.0  \n",
       "1  0.0   HH    대구  0.0  27.0  27000000.0  \n",
       "2  1.0   HH    수원  1.0  27.0  27000000.0  \n",
       "3  0.0   HH    수원  0.0  27.0  27000000.0  \n",
       "4  0.0   HH    잠실  1.0  27.0  27000000.0  \n",
       "\n",
       "[5 rows x 43 columns]"
      ]
     },
     "execution_count": 153,
     "metadata": {},
     "output_type": "execute_result"
    }
   ],
   "source": [
    "hit_train.head()"
   ]
  },
  {
   "cell_type": "markdown",
   "metadata": {},
   "source": [
    "### 더블헤더 살펴보기"
   ]
  },
  {
   "cell_type": "markdown",
   "metadata": {},
   "source": [
    "- 2018년  \n",
    "          롯데 1경기 10-10 \n",
    "          SK   1경기 10-6  \n",
    "          기아 1경기 10-6\n",
    "          KT   1경기 10-10\n",
    "        \n",
    "- 2019년  \n",
    "          SK   1경기 9-19  \n",
    "          두산 1경기 9-19\n",
    "          NC   1경기 많음\n",
    "          기아 1경기 많음\n",
    "        \n",
    "- 2020년  \n",
    "          한화 3경기 9-9, 10-7, 10-17 \n",
    "          롯데 2경기 9-4, 9-20 \n",
    "          삼성 4경기 6-13, 9-9, 10-3, 10-17 \n",
    "          SK   3경기 6-11, 6-25, 9-4\n",
    "          KT   5경기 6-13, 6-25, 8-30, 9-4, 10-3\n",
    "          NC   4경기 6-25, 9-20, 10-3, 10-10\n",
    "          LG   5경기 5-16, 6-11, 6-25, 10-3, 10-10\n",
    "          기아 3경기 8-30, 9-4, 10-7\n",
    "          두산 2경기 6-25, 9-27\n",
    "          키움 3경기 5-16, 6-25, 9-27\n",
    "- 2021년  \n",
    "          한화 2경기 5-9, 6-16\n",
    "          삼성 2경기 6-26, 6-30\n",
    "          KT   2경기 5-9, 6-19\n",
    "          롯데 3경기 5-29, 6-13, 6-16\n",
    "          SK   3경기 5-9, 6-16, 6-30\n",
    "          NC   2경기 5-9, 5-29\n",
    "          LG   2경기 5-9, 6-26\n",
    "          기아 3경기 5-9, 6-13, 6-16\n",
    "          두산 2경기 5-9, 6-19\n",
    "          키움 1경기 5-9"
   ]
  },
  {
   "cell_type": "markdown",
   "metadata": {},
   "source": [
    "### 라운드 넣어주기\n",
    "- 팀별로 라운드별 날짜가 다르기 때문에 날짜를 이용하여 넣을 수 없다. 그래서 팀별로 따로 라운드의 값을 넣어준 것이다."
   ]
  },
  {
   "cell_type": "code",
   "execution_count": 59,
   "metadata": {},
   "outputs": [],
   "source": [
    "a = list(range(1,145))"
   ]
  },
  {
   "cell_type": "code",
   "execution_count": 60,
   "metadata": {},
   "outputs": [],
   "source": [
    "# 2018년\n",
    "HH_18=hit_train[(hit_train.팀코드=='HH')&(hit_train.년==2018)].groupby(['날짜','경기결과']).first().reset_index();HH_18['라운드']=a\n",
    "SS_18=hit_train[(hit_train.팀코드=='SS')&(hit_train.년==2018)].groupby(['날짜','경기결과']).first().reset_index();SS_18['라운드']=a\n",
    "KT_18=hit_train[(hit_train.팀코드=='KT')&(hit_train.년==2018)].groupby(['날짜','경기결과']).first().reset_index();KT_18['라운드']=a\n",
    "LT_18=hit_train[(hit_train.팀코드=='LT')&(hit_train.년==2018)].groupby(['날짜','경기결과']).first().reset_index();LT_18['라운드']=a\n",
    "SK_18=hit_train[(hit_train.팀코드=='SK')&(hit_train.년==2018)].groupby(['날짜','경기결과']).first().reset_index();SK_18['라운드']=a\n",
    "NC_18=hit_train[(hit_train.팀코드=='NC')&(hit_train.년==2018)].groupby(['날짜','경기결과']).first().reset_index();NC_18['라운드']=a\n",
    "HT_18=hit_train[(hit_train.팀코드=='HT')&(hit_train.년==2018)].groupby(['날짜','경기결과']).first().reset_index();HT_18['라운드']=a\n",
    "OB_18=hit_train[(hit_train.팀코드=='OB')&(hit_train.년==2018)].groupby(['날짜','경기결과']).first().reset_index();OB_18['라운드']=a\n",
    "WO_18=hit_train[(hit_train.팀코드=='WO')&(hit_train.년==2018)].groupby(['날짜','경기결과']).first().reset_index();WO_18['라운드']=a\n",
    "LG_18=hit_train[(hit_train.팀코드=='LG')&(hit_train.년==2018)].groupby(['날짜','경기결과']).first().reset_index();LG_18['라운드']=a"
   ]
  },
  {
   "cell_type": "code",
   "execution_count": 61,
   "metadata": {},
   "outputs": [],
   "source": [
    "# 2019년\n",
    "HH_19=hit_train[(hit_train.팀코드=='HH')&(hit_train.년==2019)].groupby(['날짜','경기결과']).first().reset_index();HH_19['라운드']=a\n",
    "SS_19=hit_train[(hit_train.팀코드=='SS')&(hit_train.년==2019)].groupby(['날짜','경기결과']).first().reset_index();SS_19['라운드']=a\n",
    "KT_19=hit_train[(hit_train.팀코드=='KT')&(hit_train.년==2019)].groupby(['날짜','경기결과']).first().reset_index();KT_19['라운드']=a\n",
    "LT_19=hit_train[(hit_train.팀코드=='LT')&(hit_train.년==2019)].groupby(['날짜','경기결과']).first().reset_index();LT_19['라운드']=a\n",
    "SK_19=hit_train[(hit_train.팀코드=='SK')&(hit_train.년==2019)].groupby(['날짜','경기결과']).first().reset_index();SK_19['라운드']=a\n",
    "NC_19=hit_train[(hit_train.팀코드=='NC')&(hit_train.년==2019)].groupby(['날짜','경기결과']).first().reset_index();NC_19['라운드']=a\n",
    "HT_19=hit_train[(hit_train.팀코드=='HT')&(hit_train.년==2019)].groupby(['날짜','경기결과']).first().reset_index();HT_19['라운드']=a\n",
    "OB_19=hit_train[(hit_train.팀코드=='OB')&(hit_train.년==2019)].groupby(['날짜','경기결과']).first().reset_index();OB_19['라운드']=a\n",
    "WO_19=hit_train[(hit_train.팀코드=='WO')&(hit_train.년==2019)].groupby(['날짜','경기결과']).first().reset_index();WO_19['라운드']=a\n",
    "LG_19=hit_train[(hit_train.팀코드=='LG')&(hit_train.년==2019)].groupby(['날짜','경기결과']).first().reset_index();LG_19['라운드']=a"
   ]
  },
  {
   "cell_type": "code",
   "execution_count": 62,
   "metadata": {},
   "outputs": [],
   "source": [
    "# 2020년\n",
    "HH_20=hit_train[(hit_train.팀코드=='HH')&(hit_train.년==2020)].groupby(['날짜','경기결과']).first().reset_index();HH_20['라운드']=a\n",
    "SS_20=hit_train[(hit_train.팀코드=='SS')&(hit_train.년==2020)].groupby(['날짜','경기결과']).first().reset_index();SS_20['라운드']=a\n",
    "KT_20=hit_train[(hit_train.팀코드=='KT')&(hit_train.년==2020)].groupby(['날짜','경기결과']).first().reset_index();KT_20['라운드']=a\n",
    "LT_20=hit_train[(hit_train.팀코드=='LT')&(hit_train.년==2020)].groupby(['날짜','경기결과']).first().reset_index();LT_20['라운드']=a\n",
    "SK_20=hit_train[(hit_train.팀코드=='SK')&(hit_train.년==2020)].groupby(['날짜','경기결과']).first().reset_index();SK_20['라운드']=a\n",
    "NC_20=hit_train[(hit_train.팀코드=='NC')&(hit_train.년==2020)].groupby(['날짜','경기결과']).first().reset_index();NC_20['라운드']=a\n",
    "HT_20=hit_train[(hit_train.팀코드=='HT')&(hit_train.년==2020)].groupby(['날짜','경기결과']).first().reset_index();HT_20['라운드']=a\n",
    "OB_20=hit_train[(hit_train.팀코드=='OB')&(hit_train.년==2020)].groupby(['날짜','경기결과']).first().reset_index();OB_20['라운드']=a\n",
    "WO_20=hit_train[(hit_train.팀코드=='WO')&(hit_train.년==2020)].groupby(['날짜','경기결과']).first().reset_index();WO_20['라운드']=a\n",
    "LG_20=hit_train[(hit_train.팀코드=='LG')&(hit_train.년==2020)].groupby(['날짜','경기결과']).first().reset_index();LG_20['라운드']=a"
   ]
  },
  {
   "cell_type": "code",
   "execution_count": 63,
   "metadata": {},
   "outputs": [],
   "source": [
    "# 2021년\n",
    "HH_21=hit_train[(hit_train.팀코드=='HH')&(hit_train.년==2021)].groupby(['날짜','경기결과']).first().reset_index();HH_21['라운드']=list(range(1,80))\n",
    "SS_21=hit_train[(hit_train.팀코드=='SS')&(hit_train.년==2021)].groupby(['날짜','경기결과']).first().reset_index();SS_21['라운드']=list(range(1,80))\n",
    "KT_21=hit_train[(hit_train.팀코드=='KT')&(hit_train.년==2021)].groupby(['날짜','경기결과']).first().reset_index();KT_21['라운드']=list(range(1,76))\n",
    "LT_21=hit_train[(hit_train.팀코드=='LT')&(hit_train.년==2021)].groupby(['날짜','경기결과']).first().reset_index();LT_21['라운드']=list(range(1,78))\n",
    "SK_21=hit_train[(hit_train.팀코드=='SK')&(hit_train.년==2021)].groupby(['날짜','경기결과']).first().reset_index();SK_21['라운드']=list(range(1,79))\n",
    "NC_21=hit_train[(hit_train.팀코드=='NC')&(hit_train.년==2021)].groupby(['날짜','경기결과']).first().reset_index();NC_21['라운드']=list(range(1,75))\n",
    "HT_21=hit_train[(hit_train.팀코드=='HT')&(hit_train.년==2021)].groupby(['날짜','경기결과']).first().reset_index();HT_21['라운드']=list(range(1,75))\n",
    "OB_21=hit_train[(hit_train.팀코드=='OB')&(hit_train.년==2021)].groupby(['날짜','경기결과']).first().reset_index();OB_21['라운드']=list(range(1,75))\n",
    "WO_21=hit_train[(hit_train.팀코드=='WO')&(hit_train.년==2021)].groupby(['날짜','경기결과']).first().reset_index();WO_21['라운드']=list(range(1,80))\n",
    "LG_21=hit_train[(hit_train.팀코드=='LG')&(hit_train.년==2021)].groupby(['날짜','경기결과']).first().reset_index();LG_21['라운드']=list(range(1,76))"
   ]
  },
  {
   "cell_type": "code",
   "execution_count": 64,
   "metadata": {},
   "outputs": [],
   "source": [
    "round_all=pd.concat([HH_18,SS_18,KT_18,LT_18,SK_18,NC_18,HT_18,OB_18,WO_18,LG_18,HH_19,SS_19,KT_19,LT_19,SK_19,NC_19,HT_19,OB_19,WO_19,LG_19,HH_20,SS_20,KT_20,LT_20,SK_20,NC_20,HT_20,OB_20,WO_20,LG_20,HH_21,SS_21,KT_21,LT_21,SK_21,NC_21,HT_21,OB_21,WO_21,LG_21])"
   ]
  },
  {
   "cell_type": "code",
   "execution_count": 65,
   "metadata": {},
   "outputs": [],
   "source": [
    "data=pd.merge(hit_train,round_all[['날짜','경기결과','상대팀코드','팀코드','라운드']],how='left',on=['날짜','경기결과','상대팀코드','팀코드'])"
   ]
  },
  {
   "cell_type": "code",
   "execution_count": 154,
   "metadata": {},
   "outputs": [
    {
     "data": {
      "text/html": [
       "<div>\n",
       "<style scoped>\n",
       "    .dataframe tbody tr th:only-of-type {\n",
       "        vertical-align: middle;\n",
       "    }\n",
       "\n",
       "    .dataframe tbody tr th {\n",
       "        vertical-align: top;\n",
       "    }\n",
       "\n",
       "    .dataframe thead th {\n",
       "        text-align: right;\n",
       "    }\n",
       "</style>\n",
       "<table border=\"1\" class=\"dataframe\">\n",
       "  <thead>\n",
       "    <tr style=\"text-align: right;\">\n",
       "      <th></th>\n",
       "      <th>날짜</th>\n",
       "      <th>상대팀코드</th>\n",
       "      <th>경기결과</th>\n",
       "      <th>타순</th>\n",
       "      <th>포지션</th>\n",
       "      <th>선발</th>\n",
       "      <th>타수</th>\n",
       "      <th>득점</th>\n",
       "      <th>안타</th>\n",
       "      <th>2루타</th>\n",
       "      <th>...</th>\n",
       "      <th>일</th>\n",
       "      <th>요일</th>\n",
       "      <th>승패</th>\n",
       "      <th>일타율</th>\n",
       "      <th>팀코드</th>\n",
       "      <th>해당구장</th>\n",
       "      <th>배럴</th>\n",
       "      <th>나이</th>\n",
       "      <th>연봉</th>\n",
       "      <th>라운드</th>\n",
       "    </tr>\n",
       "  </thead>\n",
       "  <tbody>\n",
       "    <tr>\n",
       "      <th>0</th>\n",
       "      <td>2018-07-19</td>\n",
       "      <td>KT</td>\n",
       "      <td>L 7:8</td>\n",
       "      <td>8</td>\n",
       "      <td>PH</td>\n",
       "      <td>0</td>\n",
       "      <td>1</td>\n",
       "      <td>0</td>\n",
       "      <td>1</td>\n",
       "      <td>0</td>\n",
       "      <td>...</td>\n",
       "      <td>19</td>\n",
       "      <td>3</td>\n",
       "      <td>L</td>\n",
       "      <td>1.0</td>\n",
       "      <td>HH</td>\n",
       "      <td>수원</td>\n",
       "      <td>0.0</td>\n",
       "      <td>27.0</td>\n",
       "      <td>27000000.0</td>\n",
       "      <td>92</td>\n",
       "    </tr>\n",
       "    <tr>\n",
       "      <th>1</th>\n",
       "      <td>2018-07-22</td>\n",
       "      <td>SS</td>\n",
       "      <td>L 4:5</td>\n",
       "      <td>8</td>\n",
       "      <td>C</td>\n",
       "      <td>1</td>\n",
       "      <td>3</td>\n",
       "      <td>0</td>\n",
       "      <td>0</td>\n",
       "      <td>0</td>\n",
       "      <td>...</td>\n",
       "      <td>22</td>\n",
       "      <td>6</td>\n",
       "      <td>L</td>\n",
       "      <td>0.0</td>\n",
       "      <td>HH</td>\n",
       "      <td>대구</td>\n",
       "      <td>0.0</td>\n",
       "      <td>27.0</td>\n",
       "      <td>27000000.0</td>\n",
       "      <td>95</td>\n",
       "    </tr>\n",
       "    <tr>\n",
       "      <th>2</th>\n",
       "      <td>2018-09-06</td>\n",
       "      <td>KT</td>\n",
       "      <td>W 9:2</td>\n",
       "      <td>5</td>\n",
       "      <td>PR</td>\n",
       "      <td>0</td>\n",
       "      <td>2</td>\n",
       "      <td>1</td>\n",
       "      <td>1</td>\n",
       "      <td>1</td>\n",
       "      <td>...</td>\n",
       "      <td>6</td>\n",
       "      <td>3</td>\n",
       "      <td>W</td>\n",
       "      <td>1.0</td>\n",
       "      <td>HH</td>\n",
       "      <td>수원</td>\n",
       "      <td>1.0</td>\n",
       "      <td>27.0</td>\n",
       "      <td>27000000.0</td>\n",
       "      <td>117</td>\n",
       "    </tr>\n",
       "    <tr>\n",
       "      <th>3</th>\n",
       "      <td>2018-09-07</td>\n",
       "      <td>KT</td>\n",
       "      <td>L 4:12</td>\n",
       "      <td>6</td>\n",
       "      <td>PH</td>\n",
       "      <td>0</td>\n",
       "      <td>1</td>\n",
       "      <td>0</td>\n",
       "      <td>0</td>\n",
       "      <td>0</td>\n",
       "      <td>...</td>\n",
       "      <td>7</td>\n",
       "      <td>4</td>\n",
       "      <td>L</td>\n",
       "      <td>0.0</td>\n",
       "      <td>HH</td>\n",
       "      <td>수원</td>\n",
       "      <td>0.0</td>\n",
       "      <td>27.0</td>\n",
       "      <td>27000000.0</td>\n",
       "      <td>118</td>\n",
       "    </tr>\n",
       "    <tr>\n",
       "      <th>4</th>\n",
       "      <td>2018-09-09</td>\n",
       "      <td>LG</td>\n",
       "      <td>L 5:8</td>\n",
       "      <td>8</td>\n",
       "      <td>PH</td>\n",
       "      <td>0</td>\n",
       "      <td>2</td>\n",
       "      <td>0</td>\n",
       "      <td>0</td>\n",
       "      <td>0</td>\n",
       "      <td>...</td>\n",
       "      <td>9</td>\n",
       "      <td>6</td>\n",
       "      <td>L</td>\n",
       "      <td>0.0</td>\n",
       "      <td>HH</td>\n",
       "      <td>잠실</td>\n",
       "      <td>1.0</td>\n",
       "      <td>27.0</td>\n",
       "      <td>27000000.0</td>\n",
       "      <td>120</td>\n",
       "    </tr>\n",
       "  </tbody>\n",
       "</table>\n",
       "<p>5 rows × 44 columns</p>\n",
       "</div>"
      ],
      "text/plain": [
       "          날짜 상대팀코드    경기결과  타순 포지션  선발  타수  득점  안타  2루타  ...   일  요일  승패  일타율  \\\n",
       "0 2018-07-19    KT   L 7:8   8  PH   0   1   0   1    0  ...  19   3   L  1.0   \n",
       "1 2018-07-22    SS   L 4:5   8   C   1   3   0   0    0  ...  22   6   L  0.0   \n",
       "2 2018-09-06    KT   W 9:2   5  PR   0   2   1   1    1  ...   6   3   W  1.0   \n",
       "3 2018-09-07    KT  L 4:12   6  PH   0   1   0   0    0  ...   7   4   L  0.0   \n",
       "4 2018-09-09    LG   L 5:8   8  PH   0   2   0   0    0  ...   9   6   L  0.0   \n",
       "\n",
       "   팀코드  해당구장   배럴    나이          연봉  라운드  \n",
       "0   HH    수원  0.0  27.0  27000000.0   92  \n",
       "1   HH    대구  0.0  27.0  27000000.0   95  \n",
       "2   HH    수원  1.0  27.0  27000000.0  117  \n",
       "3   HH    수원  0.0  27.0  27000000.0  118  \n",
       "4   HH    잠실  1.0  27.0  27000000.0  120  \n",
       "\n",
       "[5 rows x 44 columns]"
      ]
     },
     "execution_count": 154,
     "metadata": {},
     "output_type": "execute_result"
    }
   ],
   "source": [
    "data.head()"
   ]
  },
  {
   "cell_type": "markdown",
   "metadata": {},
   "source": [
    "게임 데이터에 우리가 예측해야하는 데이터의 경기날짜와 상대팀에 대한 정보가 있다.\\\n",
    "어느 상대팀을 만났는지에 대한 데이터를 만들기 위해 게임데이터를 이용하여 21년 마지막 21라운드의 경기로그데이터를 만들어 준 것이다."
   ]
  },
  {
   "cell_type": "code",
   "execution_count": 67,
   "metadata": {},
   "outputs": [],
   "source": [
    "submission=submission.loc[1:10,:]\n",
    "submission.reset_index(drop='index',inplace=True)\n",
    "submission.columns=['NO.', '선수코드', 'OPS', '장타율', '출루율']\n",
    "submission=pd.merge(submission,player[player.연도==2021][['선수코드','선수명','팀코드']])"
   ]
  },
  {
   "cell_type": "code",
   "execution_count": 68,
   "metadata": {},
   "outputs": [],
   "source": [
    "game.columns=['경기코드', '날짜', '어웨이팀', '홈팀', '더블헤더', '요일',\n",
    "       '해당구장', '절기']\n",
    "game_target=game[game.날짜>=20210915].reset_index(drop='index')"
   ]
  },
  {
   "cell_type": "code",
   "execution_count": 69,
   "metadata": {},
   "outputs": [],
   "source": [
    "game_target1=game_target.copy()"
   ]
  },
  {
   "cell_type": "code",
   "execution_count": 70,
   "metadata": {},
   "outputs": [],
   "source": [
    "game_target1.columns=['경기코드', '날짜', '상대팀코드', '팀코드', '더블헤더', '요일', '해당구장', '절기']"
   ]
  },
  {
   "cell_type": "code",
   "execution_count": 71,
   "metadata": {},
   "outputs": [],
   "source": [
    "game_target.columns=['경기코드', '날짜', '팀코드','상대팀코드',  '더블헤더', '요일', '해당구장', '절기']"
   ]
  },
  {
   "cell_type": "code",
   "execution_count": 72,
   "metadata": {},
   "outputs": [],
   "source": [
    "round_21=pd.concat([game_target,game_target1]).sort_values(by='날짜')\n",
    "round_21.reset_index(drop='index',inplace=True)"
   ]
  },
  {
   "cell_type": "markdown",
   "metadata": {},
   "source": [
    "앞서 타격데이터를 이용하여 만든 data에 선수코드 열이 들어가있지 않아 따로 넣어준 것"
   ]
  },
  {
   "cell_type": "code",
   "execution_count": 73,
   "metadata": {},
   "outputs": [],
   "source": [
    "player.columns=['년', '선수코드', '선수명', '팀코드', '포지션', '나이', '연봉']"
   ]
  },
  {
   "cell_type": "code",
   "execution_count": 74,
   "metadata": {
    "scrolled": true
   },
   "outputs": [],
   "source": [
    "ab=pd.merge(data,player[['년','선수코드','선수명','팀코드','나이']],how='left',on=['년','선수명','팀코드','나이'])\n",
    "ab.drop(ab[ab.선수코드.isna()].index,inplace=True)"
   ]
  },
  {
   "cell_type": "code",
   "execution_count": 75,
   "metadata": {},
   "outputs": [],
   "source": [
    "ab.reset_index(drop='index',inplace=True)"
   ]
  },
  {
   "cell_type": "markdown",
   "metadata": {},
   "source": [
    "이전구장과 당일구장의 거리에 대한 컨디션 값을 넣어주기 위해 만든 것"
   ]
  },
  {
   "cell_type": "code",
   "execution_count": 76,
   "metadata": {},
   "outputs": [],
   "source": [
    "ab['이전구장'] = ab.groupby('선수코드')['해당구장'].shift(1)"
   ]
  },
  {
   "cell_type": "code",
   "execution_count": 77,
   "metadata": {},
   "outputs": [],
   "source": [
    "수도권 = ['잠실', '문학', '수원', '고척']\n",
    "충청도 = ['대전']\n",
    "전라도 = ['광주']\n",
    "경상도 = ['대구', '사직', '마산', '창원']"
   ]
  },
  {
   "cell_type": "code",
   "execution_count": 78,
   "metadata": {},
   "outputs": [],
   "source": [
    "# 수도권 -> 수도권 : 1\n",
    "# 수도권 -> 충청도 : 2\n",
    "# 수도권 -> 전라도 : 3\n",
    "# 수도권 -> 경상도 : 4\n",
    "# 충청도 -> 전라도 : 2\n",
    "# 충청도 -> 경상도 : 3\n",
    "# 충청도 -> 충청도 : 1\n",
    "# 전라도 -> 전라도 : 1\n",
    "# 전라도 -> 경상도 : 2\n",
    "# 경상도 -> 경상도 : 1"
   ]
  },
  {
   "cell_type": "code",
   "execution_count": 79,
   "metadata": {},
   "outputs": [],
   "source": [
    "def distance_weight(hit_log):\n",
    "    hit_log['이동거리_가중치'] = 0\n",
    "    for i in range(hit_log.shape[0]):\n",
    "        if (hit_log['이전구장'][i] in 수도권) and (hit_log['해당구장'][i] in 수도권):\n",
    "            hit_log['이동거리_가중치'][i] = 1\n",
    "            \n",
    "        elif (hit_log['이전구장'][i] in 수도권) and (hit_log['해당구장'][i] in 충청도):\n",
    "            hit_log['이동거리_가중치'][i] = 2   \n",
    "        elif (hit_log['이전구장'][i] in 충청도) and (hit_log['해당구장'][i] in 수도권):\n",
    "            hit_log['이동거리_가중치'][i] = 2\n",
    "            \n",
    "        elif (hit_log['이전구장'][i] in 수도권) and (hit_log['해당구장'][i] in 전라도):\n",
    "            hit_log['이동거리_가중치'][i] = 3\n",
    "        elif (hit_log['이전구장'][i] in 전라도) and (hit_log['해당구장'][i] in 수도권):\n",
    "            hit_log['이동거리_가중치'][i] = 3\n",
    "            \n",
    "        elif (hit_log['이전구장'][i] in 수도권) and (hit_log['해당구장'][i] in 경상도):\n",
    "            hit_log['이동거리_가중치'][i] = 4\n",
    "        elif (hit_log['이전구장'][i] in 경상도) and (hit_log['해당구장'][i] in 수도권):\n",
    "            hit_log['이동거리_가중치'][i] = 4\n",
    "            \n",
    "        elif (hit_log['이전구장'][i] in 충청도) and (hit_log['해당구장'][i] in 전라도):\n",
    "            hit_log['이동거리_가중치'][i] = 2\n",
    "        elif (hit_log['이전구장'][i] in 전라도) and (hit_log['해당구장'][i] in 충청도):\n",
    "            hit_log['이동거리_가중치'][i] = 2\n",
    "        \n",
    "        elif (hit_log['이전구장'][i] in 충청도) and (hit_log['해당구장'][i] in 경상도):\n",
    "            hit_log['이동거리_가중치'][i] = 3\n",
    "        elif (hit_log['이전구장'][i] in 경상도) and (hit_log['해당구장'][i] in 충청도):\n",
    "            hit_log['이동거리_가중치'][i] = 3\n",
    "        \n",
    "        elif (hit_log['이전구장'][i] in 전라도) and (hit_log['해당구장'][i] in 경상도):\n",
    "            hit_log['이동거리_가중치'][i] = 2\n",
    "        elif (hit_log['이전구장'][i] in 경상도) and (hit_log['해당구장'][i] in 전라도):\n",
    "            hit_log['이동거리_가중치'][i] = 2\n",
    "            \n",
    "        elif (hit_log['이전구장'][i] in 경상도) and (hit_log['해당구장'][i] in 경상도):\n",
    "            hit_log['이동거리_가중치'][i] = 1\n",
    "            \n",
    "        elif (hit_log['이전구장'][i] in 충청도) and (hit_log['해당구장'][i] in 충청도):\n",
    "            hit_log['이동거리_가중치'][i] = 1\n",
    "            \n",
    "        elif (hit_log['이전구장'][i] in 전라도) and (hit_log['해당구장'][i] in 전라도):\n",
    "            hit_log['이동거리_가중치'][i] = 1\n",
    "            \n",
    "        else:\n",
    "            hit_log['이동거리_가중치'][i] = 0\n",
    "            \n",
    "distance_weight(ab)"
   ]
  },
  {
   "cell_type": "markdown",
   "metadata": {},
   "source": [
    "WPA 와 avLI 이용하여 만든 열"
   ]
  },
  {
   "cell_type": "code",
   "execution_count": 80,
   "metadata": {},
   "outputs": [],
   "source": [
    "ab['WPA/avLI']=ab.WPA/(ab.avLI+0.000001)"
   ]
  },
  {
   "cell_type": "markdown",
   "metadata": {},
   "source": [
    "팀의 승패"
   ]
  },
  {
   "cell_type": "code",
   "execution_count": 81,
   "metadata": {},
   "outputs": [],
   "source": [
    "ab=pd.concat([ab,pd.get_dummies(ab.승패)],axis=1)"
   ]
  },
  {
   "cell_type": "markdown",
   "metadata": {},
   "source": [
    "팀이 낸 점수"
   ]
  },
  {
   "cell_type": "code",
   "execution_count": 82,
   "metadata": {},
   "outputs": [],
   "source": [
    "ab['팀점수']=ab.경기결과.str[2].apply(lambda x : 0 if x ==':' else x)\n",
    "ab['팀점수'] = ab['팀점수'].astype(int)"
   ]
  },
  {
   "cell_type": "markdown",
   "metadata": {},
   "source": [
    "### 데이터 셋 생성\n",
    "- 년도별, 라운드별로 데이터셋들을 생성한 것이다."
   ]
  },
  {
   "cell_type": "code",
   "execution_count": 83,
   "metadata": {},
   "outputs": [],
   "source": [
    "d_18=ab[ab.년==2018]\n",
    "d_19=ab[ab.년==2019]\n",
    "d_20=ab[ab.년==2020]\n",
    "d_21=ab[ab.년==2021]"
   ]
  },
  {
   "cell_type": "code",
   "execution_count": 84,
   "metadata": {},
   "outputs": [],
   "source": [
    "# test는 출루율, 장타율, ops를 구하기 위한 것\n",
    "train_18_1 = d_18.query('라운드 <=20')\n",
    "train_18_2 = d_18.query('20< 라운드 <=40')\n",
    "train_18_3 = d_18.query('40< 라운드 <=60')\n",
    "train_18_4 = d_18.query('60< 라운드 <=81')\n",
    "train_18_5 = d_18.query('81< 라운드 <=102')\n",
    "train_18_6 = d_18.query('102< 라운드 <=123')\n",
    "test_18 = d_18.query('라운드 >=124')\n",
    "\n",
    "train_19_1 = d_19.query('라운드 <=20')\n",
    "train_19_2 = d_19.query('20< 라운드 <=40')\n",
    "train_19_3 = d_19.query('40< 라운드 <=60')\n",
    "train_19_4 = d_19.query('60< 라운드 <=81')\n",
    "train_19_5 = d_19.query('81< 라운드 <=102')\n",
    "train_19_6 = d_19.query('102< 라운드 <=123')\n",
    "test_19 = d_19.query('라운드 >=124')\n",
    "\n",
    "train_20_1 = d_20.query('라운드 <=20')\n",
    "train_20_2 = d_20.query('20< 라운드 <=40')\n",
    "train_20_3 = d_20.query('40< 라운드 <=60')\n",
    "train_20_4 = d_20.query('60< 라운드 <=81')\n",
    "train_20_5 = d_20.query('81< 라운드 <=102')\n",
    "train_20_6 = d_20.query('102< 라운드 <=123')\n",
    "test_20 = d_20.query('라운드 >=124')\n",
    "\n",
    "train_21_1 = d_21.query('라운드 <=20')\n",
    "train_21_2 = d_21.query('20< 라운드 <=40')\n",
    "train_21_3 = d_21.query('40< 라운드 <=60')\n",
    "train_21_4 = d_21.query('60< 라운드 <=81')"
   ]
  },
  {
   "cell_type": "markdown",
   "metadata": {},
   "source": [
    "#### 라운드별로 나눈 후 각 라운드 별, 팀 별 최대연승이 얼마나 되는지 알아보기 위한 열"
   ]
  },
  {
   "cell_type": "code",
   "execution_count": 85,
   "metadata": {},
   "outputs": [],
   "source": [
    "# 팀 최대 연승\n",
    "def f1(train):\n",
    "    mw=train.groupby(['팀코드','날짜']).first().reset_index()[['팀코드','W']]\n",
    "    mw['이전팀코드']=mw.팀코드.shift(1)\n",
    "    mw=mw.fillna('start')\n",
    "\n",
    "    n=0\n",
    "    lst=[]\n",
    "    alst=[]\n",
    "    for i in range(mw.shape[0]):\n",
    "        if mw.이전팀코드[i]=='start':\n",
    "            if mw.W[i]==1:\n",
    "                n+=1\n",
    "            else:\n",
    "                pass\n",
    "        elif mw.이전팀코드[i]!=mw.팀코드[i]:\n",
    "            alst.append(max(lst))\n",
    "            lst=[]\n",
    "            if mw.W[i]==1:\n",
    "                n+=1\n",
    "            else:\n",
    "                pass\n",
    "        else:\n",
    "            if mw.W[i]==1:\n",
    "                n+=1\n",
    "            else:\n",
    "                lst.append(n)\n",
    "                n=0\n",
    "    alst.append(max(lst))\n",
    "\n",
    "    mw=mw.groupby('팀코드').first().reset_index().drop(['W','이전팀코드'],axis=1)\n",
    "    mw['최대연승']=alst\n",
    "\n",
    "    train=pd.merge(train, mw, how='left',on='팀코드')\n",
    "    \n",
    "    return train"
   ]
  },
  {
   "cell_type": "code",
   "execution_count": 86,
   "metadata": {},
   "outputs": [],
   "source": [
    "#모든 데이터에 최대연승 추가\n",
    "train_18_1 = f1(train_18_1)\n",
    "train_18_2 = f1(train_18_2)\n",
    "train_18_3 = f1(train_18_3)\n",
    "train_18_4 = f1(train_18_4)\n",
    "test_18 = f1(test_18)\n",
    "\n",
    "train_19_1 = f1(train_19_1)\n",
    "train_19_2 = f1(train_19_2)\n",
    "train_19_3 = f1(train_19_3)\n",
    "train_19_4 = f1(train_19_4)\n",
    "test_19 = f1(test_19)\n",
    "\n",
    "train_20_1 = f1(train_20_1)\n",
    "train_20_2 = f1(train_20_2)\n",
    "train_20_3 = f1(train_20_3)\n",
    "train_20_4 = f1(train_20_4)\n",
    "test_20 = f1(test_20)\n",
    "\n",
    "train_21_1 = f1(train_21_1)\n",
    "train_21_2 = f1(train_21_2)\n",
    "train_21_3 = f1(train_21_3)\n",
    "train_21_4 = f1(train_21_4)"
   ]
  },
  {
   "cell_type": "markdown",
   "metadata": {},
   "source": [
    "#### 팀별로 상대팀에 따른 WPA 차이"
   ]
  },
  {
   "cell_type": "code",
   "execution_count": 87,
   "metadata": {},
   "outputs": [],
   "source": [
    "# 팀별 상대팀에 따른 능력치\n",
    "팀_상대팀_관계=pd.concat([d_18.groupby(['팀코드','상대팀코드','년']).WPA.mean().reset_index(),d_19.groupby(['팀코드','상대팀코드','년']).WPA.mean().reset_index(),d_20.groupby(['팀코드','상대팀코드','년']).WPA.mean().reset_index(),d_21.groupby(['팀코드','상대팀코드','년']).WPA.mean().reset_index()],ignore_index=True)\n",
    "팀_상대팀_관계.columns=['팀코드','상대팀코드','년','팀팀WPA']\n",
    "\n",
    "train_18_1=pd.merge(train_18_1,팀_상대팀_관계, how='left',on=['팀코드','상대팀코드','년'])\n",
    "train_18_2=pd.merge(train_18_2,팀_상대팀_관계, how='left',on=['팀코드','상대팀코드','년'])\n",
    "train_18_3=pd.merge(train_18_3,팀_상대팀_관계, how='left',on=['팀코드','상대팀코드','년'])\n",
    "train_18_4=pd.merge(train_18_4,팀_상대팀_관계, how='left',on=['팀코드','상대팀코드','년'])\n",
    "train_18_5=pd.merge(train_18_5,팀_상대팀_관계, how='left',on=['팀코드','상대팀코드','년'])\n",
    "train_18_6=pd.merge(train_18_6,팀_상대팀_관계, how='left',on=['팀코드','상대팀코드','년'])\n",
    "test_18=pd.merge(test_18,팀_상대팀_관계, how='left',on=['팀코드','상대팀코드','년'])\n",
    "\n",
    "train_19_1=pd.merge(train_19_1,팀_상대팀_관계, how='left',on=['팀코드','상대팀코드','년'])\n",
    "train_19_2=pd.merge(train_19_2,팀_상대팀_관계, how='left',on=['팀코드','상대팀코드','년'])\n",
    "train_19_3=pd.merge(train_19_3,팀_상대팀_관계, how='left',on=['팀코드','상대팀코드','년'])\n",
    "train_19_4=pd.merge(train_19_4,팀_상대팀_관계, how='left',on=['팀코드','상대팀코드','년'])\n",
    "train_19_5=pd.merge(train_19_5,팀_상대팀_관계, how='left',on=['팀코드','상대팀코드','년'])\n",
    "train_19_6=pd.merge(train_19_6,팀_상대팀_관계, how='left',on=['팀코드','상대팀코드','년'])\n",
    "test_19=pd.merge(test_19,팀_상대팀_관계, how='left',on=['팀코드','상대팀코드','년'])\n",
    "\n",
    "train_20_1=pd.merge(train_20_1,팀_상대팀_관계, how='left',on=['팀코드','상대팀코드','년'])\n",
    "train_20_2=pd.merge(train_20_2,팀_상대팀_관계, how='left',on=['팀코드','상대팀코드','년'])\n",
    "train_20_3=pd.merge(train_20_3,팀_상대팀_관계, how='left',on=['팀코드','상대팀코드','년'])\n",
    "train_20_4=pd.merge(train_20_4,팀_상대팀_관계, how='left',on=['팀코드','상대팀코드','년'])\n",
    "train_20_5=pd.merge(train_20_5,팀_상대팀_관계, how='left',on=['팀코드','상대팀코드','년'])\n",
    "train_20_6=pd.merge(train_20_6,팀_상대팀_관계, how='left',on=['팀코드','상대팀코드','년'])\n",
    "test_20=pd.merge(test_20,팀_상대팀_관계, how='left',on=['팀코드','상대팀코드','년'])\n",
    "\n",
    "train_21_1=pd.merge(train_21_1,팀_상대팀_관계, how='left',on=['팀코드','상대팀코드','년'])\n",
    "train_21_2=pd.merge(train_21_2,팀_상대팀_관계, how='left',on=['팀코드','상대팀코드','년'])\n",
    "train_21_3=pd.merge(train_21_3,팀_상대팀_관계, how='left',on=['팀코드','상대팀코드','년'])\n",
    "train_21_4=pd.merge(train_21_4,팀_상대팀_관계, how='left',on=['팀코드','상대팀코드','년'])"
   ]
  },
  {
   "cell_type": "markdown",
   "metadata": {},
   "source": [
    "#### 선수별로 상대팀에 따른 WPA 차이"
   ]
  },
  {
   "cell_type": "code",
   "execution_count": 88,
   "metadata": {},
   "outputs": [],
   "source": [
    "선수_상대팀_관계=pd.concat([d_18.groupby(['선수코드','상대팀코드','년']).WPA.mean().reset_index(),d_19.groupby(['선수코드','상대팀코드','년']).WPA.mean().reset_index(),d_20.groupby(['선수코드','상대팀코드','년']).WPA.mean().reset_index(),d_21.groupby(['선수코드','상대팀코드','년']).WPA.mean().reset_index()],ignore_index=True)\n",
    "선수_상대팀_관계.columns=['선수코드','상대팀코드','년','상대별WPA']\n",
    "\n",
    "train_18_1=pd.merge(train_18_1,선수_상대팀_관계, how='left',on=['선수코드','상대팀코드','년'])\n",
    "train_18_2=pd.merge(train_18_2,선수_상대팀_관계, how='left',on=['선수코드','상대팀코드','년'])\n",
    "train_18_3=pd.merge(train_18_3,선수_상대팀_관계, how='left',on=['선수코드','상대팀코드','년'])\n",
    "train_18_4=pd.merge(train_18_4,선수_상대팀_관계, how='left',on=['선수코드','상대팀코드','년'])\n",
    "train_18_5=pd.merge(train_18_5,선수_상대팀_관계, how='left',on=['선수코드','상대팀코드','년'])\n",
    "train_18_6=pd.merge(train_18_6,선수_상대팀_관계, how='left',on=['선수코드','상대팀코드','년'])\n",
    "test_18=pd.merge(test_18,선수_상대팀_관계, how='left',on=['선수코드','상대팀코드','년'])\n",
    "\n",
    "train_19_1=pd.merge(train_19_1,선수_상대팀_관계, how='left',on=['선수코드','상대팀코드','년'])\n",
    "train_19_2=pd.merge(train_19_2,선수_상대팀_관계, how='left',on=['선수코드','상대팀코드','년'])\n",
    "train_19_3=pd.merge(train_19_3,선수_상대팀_관계, how='left',on=['선수코드','상대팀코드','년'])\n",
    "train_19_4=pd.merge(train_19_4,선수_상대팀_관계, how='left',on=['선수코드','상대팀코드','년'])\n",
    "train_19_5=pd.merge(train_19_5,선수_상대팀_관계, how='left',on=['선수코드','상대팀코드','년'])\n",
    "train_19_6=pd.merge(train_19_6,선수_상대팀_관계, how='left',on=['선수코드','상대팀코드','년'])\n",
    "test_19=pd.merge(test_19,선수_상대팀_관계, how='left',on=['선수코드','상대팀코드','년'])\n",
    "\n",
    "train_20_1=pd.merge(train_20_1,선수_상대팀_관계, how='left',on=['선수코드','상대팀코드','년'])\n",
    "train_20_2=pd.merge(train_20_2,선수_상대팀_관계, how='left',on=['선수코드','상대팀코드','년'])\n",
    "train_20_3=pd.merge(train_20_3,선수_상대팀_관계, how='left',on=['선수코드','상대팀코드','년'])\n",
    "train_20_4=pd.merge(train_20_4,선수_상대팀_관계, how='left',on=['선수코드','상대팀코드','년'])\n",
    "train_20_5=pd.merge(train_20_5,선수_상대팀_관계, how='left',on=['선수코드','상대팀코드','년'])\n",
    "train_20_6=pd.merge(train_20_6,선수_상대팀_관계, how='left',on=['선수코드','상대팀코드','년'])\n",
    "test_20=pd.merge(test_20,선수_상대팀_관계, how='left',on=['선수코드','상대팀코드','년'])\n",
    "\n",
    "train_21_1=pd.merge(train_21_1,선수_상대팀_관계, how='left',on=['선수코드','상대팀코드','년'])\n",
    "train_21_2=pd.merge(train_21_2,선수_상대팀_관계, how='left',on=['선수코드','상대팀코드','년'])\n",
    "train_21_3=pd.merge(train_21_3,선수_상대팀_관계, how='left',on=['선수코드','상대팀코드','년'])\n",
    "train_21_4=pd.merge(train_21_4,선수_상대팀_관계, how='left',on=['선수코드','상대팀코드','년'])"
   ]
  },
  {
   "cell_type": "markdown",
   "metadata": {},
   "source": [
    "#### feature"
   ]
  },
  {
   "cell_type": "markdown",
   "metadata": {},
   "source": [
    "* 선수 역량\n",
    "  - 배럴\n",
    "  - 많은 개인 역량들 사용\n",
    "\n",
    "* 팀 역량\n",
    "  - 팀의 승패\n",
    "  - 팀이 낸 점수\n",
    "  - 최대 연승\n",
    "    \n",
    "* 컨디션\n",
    "  - 이동거리\n",
    "\n",
    "* 시계열적 - 뺄지말지\n",
    "  - 라운드별 - x\n",
    "  - 요일별 \n",
    "  - 월별 - x"
   ]
  },
  {
   "cell_type": "code",
   "execution_count": 89,
   "metadata": {},
   "outputs": [],
   "source": [
    "def train_set(train, test):\n",
    "    \n",
    "    ### train과 test 둘 다 있는 선수 뽑아내기\n",
    "    pl = list(set(train['선수코드'].unique()) & set(test['선수코드'].unique()))\n",
    "    \n",
    "    ### 선수역량\n",
    "    agg_dict = {\n",
    "        # 개인기록\n",
    "        '선발':['sum'],\n",
    "        '타순':['mean'],\n",
    "        '타수':['sum', 'mean', 'max'],\n",
    "        '득점':['sum', 'mean', 'max'],\n",
    "        '안타':['sum', 'mean', 'max'],\n",
    "        '2루타':['sum', 'mean', 'max'],\n",
    "        '3루타':['sum', 'mean', 'max'],\n",
    "        '홈런':['sum', 'mean', 'max'],\n",
    "        '루타':['sum', 'mean', 'max', 'std'],\n",
    "        '타점':['sum', 'mean', 'max', 'std'],\n",
    "        '도루':['sum', 'mean', 'max'],\n",
    "        '도루실책':['sum', 'mean', 'max'],\n",
    "        '볼넷':['sum', 'mean', 'max'],\n",
    "        '사구':['sum', 'mean', 'max'],\n",
    "        '고의4구':['sum', 'mean', 'max'],\n",
    "        '삼진':['sum', 'mean', 'max'],\n",
    "        '병살타':['sum', 'mean', 'max'],\n",
    "        '희생번트':['sum', 'mean', 'max'],\n",
    "        '희생플라이':['sum', 'mean', 'max'],\n",
    "        '타율':['last', 'std'],\n",
    "        '일타율':['mean', 'std'],\n",
    "        '투구':['mean', 'max'],\n",
    "        'avLI':['mean', 'max', 'std'],   #상황상 얼마나 중요할때 나왔는지\n",
    "        'RE24':['mean', 'max', 'std'],   #어려운 상황에서 득점을 연결해 승리를 이끈 정도\n",
    "        'WPA':['mean', 'max', 'std'],    #선수가 불러일으킨 승리 기댓값 변화를 모두 더한 것\n",
    "        'WPA/avLI':['mean', 'max', 'std'],\n",
    "        '나이':['mean'],\n",
    "        '연봉':['mean'], \n",
    "        '출루율':['last'],\n",
    "        '장타율':['last'],\n",
    "        'OPS':['last'],\n",
    "        '상대별WPA':['mean'],\n",
    "        '팀팀WPA':['mean'],\n",
    "        '배럴':['mean', 'sum']\n",
    "    }\n",
    "    f = train.groupby('선수코드').agg(agg_dict)\n",
    "    f = f.fillna(0)\n",
    "    f.columns = [('_').join(column).upper() for column in f.columns.ravel()]\n",
    "    f['안타/타수'] = f['안타_SUM'] / f['타수_SUM']\n",
    "    f['2타/타수'] = f['2루타_SUM'] / f['타수_SUM']\n",
    "    f['3타/타수'] = f['3루타_SUM'] / f['타수_SUM']\n",
    "    f['홈런/타수'] = f['홈런_SUM'] / f['타수_SUM']\n",
    "    f['루타/타수'] = f['루타_SUM'] / f['타수_SUM']\n",
    "    f['연봉/나이'] = f['연봉_MEAN'] / f['나이_MEAN'] # 새로 만들었는데 영향력이 강하다. 연봉의 의미가 있는 것일까...\n",
    "    f['배럴/타수'] = f['배럴_SUM'] / f['타수_SUM']\n",
    "    f['배럴/장타'] = f['배럴_SUM'] / (f['2루타_SUM']+f['3루타_SUM']+f['홈런_SUM']+1)\n",
    "    f['배럴/타구'] = f['배럴_SUM'] / (f['안타_SUM']+f['2루타_SUM']+f['3루타_SUM']+f['홈런_SUM']+1)\n",
    "    f.columns = ['개인역량_' + column for column in f.columns.ravel()]\n",
    "    f = f.reset_index()\n",
    "    \n",
    "    # 상대별 배럴타구\n",
    "    a = train.groupby(['선수코드', '상대팀코드'])['배럴'].sum().unstack().fillna(0)\n",
    "    b = train.groupby(['선수코드', '상대팀코드'])['배럴'].mean().unstack().fillna(0)\n",
    "    a.columns = ['개인역량_상대팀별_배럴_합_' + ('_').join(str(column)).upper() for column in a.columns.ravel()]\n",
    "    b.columns = ['개인역량_상대팀별_배럴_평균' + ('_').join(str(column)).upper() for column in b.columns.ravel()]\n",
    "    a = a.reset_index()\n",
    "    b = b.reset_index()\n",
    "    \n",
    "    f = f.merge(a, on='선수코드', how='left')\n",
    "    f = f.merge(b, on='선수코드', how='left')\n",
    "    \n",
    "    f = f.reset_index()\n",
    "    \n",
    "    ### 팀 역량\n",
    "    agg_dict1 = {\n",
    "        # 팀의 승패\n",
    "        'W':['sum'],\n",
    "        'D':['sum'],\n",
    "        'L':['sum'],\n",
    "        # 팀이 낸 점수\n",
    "        '팀점수':['sum', 'mean', 'max', 'std'],\n",
    "        # 최대 연승나와야함\n",
    "        '최대연승':['max']\n",
    "    }\n",
    "    f1 = train.groupby('선수코드').agg(agg_dict1)\n",
    "    f1 = f1.fillna(0)\n",
    "    f1.columns = [('_').join(column).upper() for column in f1.columns.ravel()]\n",
    "    f1.columns = ['팀역량_' + column for column in f1.columns.ravel()]\n",
    "    f1 = f1.reset_index()\n",
    "\n",
    "    \n",
    "    \n",
    "    ### 컨디션\n",
    "    agg_dict2 = {\n",
    "        # 이동거리\n",
    "        '이동거리_가중치':['mean', 'std'],\n",
    "    }\n",
    "    f2 = train.groupby('선수코드').agg(agg_dict2)\n",
    "    f2 = f2.fillna(0)\n",
    "    f2.columns = [('_').join(column).upper() for column in f2.columns.ravel()]\n",
    "    f2.columns = ['컨디션_' + column for column in f2.columns.ravel()]\n",
    "    f2 = f2.reset_index()\n",
    "    \n",
    "    \n",
    "    \n",
    "    ### 시계열적 요소\n",
    "    agg_dict3 = {\n",
    "        '월':['mean'],\n",
    "        '라운드':['mean'],\n",
    "    }\n",
    "    f3 = train.groupby('선수코드').agg(agg_dict3)\n",
    "    f3 = f3.fillna(0)\n",
    "    f3.columns = ['시계열적_' + str(column) for column in f3.columns.ravel()]\n",
    "    # 요일별 성적\n",
    "    a = train.groupby(['선수코드', '요일'])['WPA/avLI'].mean().unstack().fillna(0)\n",
    "    b = train.groupby(['선수코드', '요일'])['일타율'].mean().unstack().fillna(0)\n",
    "    a.columns = ['시계열적_요일별_WPA/avLI_' + ('_').join(str(column)).upper() for column in a.columns.ravel()]\n",
    "    b.columns = ['시계열적_요일별_일타율_' + ('_').join(str(column)).upper() for column in b.columns.ravel()]\n",
    "    a = a.reset_index()\n",
    "    b = b.reset_index()\n",
    "    \n",
    "    f3 = f3.merge(a, on='선수코드', how='left')\n",
    "    f3 = f3.merge(b, on='선수코드', how='left')\n",
    "    \n",
    "    f3 = f3.reset_index()\n",
    "    \n",
    "        \n",
    "    \n",
    "    f = f.merge(f1, on='선수코드', how='left')\n",
    "    f = f.merge(f2, on='선수코드', how='left')\n",
    "    f = f.merge(f3, on='선수코드', how='left')\n",
    "\n",
    "    f = f.reset_index(drop=True)\n",
    "    f = f.loc[f['선수코드'].isin(pl)]\n",
    "    f = f.drop(['index_x', 'index_y'], axis=1)\n",
    "    \n",
    "    return f"
   ]
  },
  {
   "cell_type": "markdown",
   "metadata": {},
   "source": [
    "## 이전 20라운드의 타격결과로 다음 20라운드의 OPS결과를 예측하는 것"
   ]
  },
  {
   "cell_type": "code",
   "execution_count": 90,
   "metadata": {},
   "outputs": [],
   "source": [
    "train18_1 = train_set(train_18_1, train_18_2)\n",
    "train18_2 = train_set(train_18_2, train_18_3)\n",
    "train18_3 = train_set(train_18_3, train_18_4)\n",
    "train18_4 = train_set(train_18_4, test_18)\n",
    "#train18 = train_set(train_18_4, train_18_5)\n",
    "#train18 = train_set(train_18_5, train_18_6)\n",
    "#train18 = train_set(train_18_6, test_18)\n",
    "\n",
    "train19_1 = train_set(train_19_1, train_19_2)\n",
    "train19_2 = train_set(train_19_2, train_19_3)\n",
    "train19_3 = train_set(train_19_3, train_19_4)\n",
    "train19_4 = train_set(train_19_4, test_19)\n",
    "#train19 = train_set(train_19_4, train_19_5)\n",
    "#train19 = train_set(train_19_5, train_19_6)\n",
    "#train19 = train_set(train_19_6, test_19)\n",
    "\n",
    "train20_1 = train_set(train_20_1, train_20_2)\n",
    "train20_2 = train_set(train_20_2, train_20_3)\n",
    "train20_3 = train_set(train_20_3, train_20_4)\n",
    "train20_4 = train_set(train_20_4, test_20)\n",
    "#train20 = train_set(train_20_4, train_20_5)\n",
    "#train20 = train_set(train_20_5, train_20_6)\n",
    "#train20 = train_set(train_20_6, test_20)\n",
    "\n",
    "train21_1 = train_set(train_21_1, train_21_2)\n",
    "train21_2 = train_set(train_21_2, train_21_3)\n",
    "train21_3 = train_set(train_21_3, train_21_4)\n",
    "train21 = train_set(train_21_4, submission)     ## 예측 할 데이터\n",
    "train21.reset_index(drop='index',inplace=True)"
   ]
  },
  {
   "cell_type": "markdown",
   "metadata": {},
   "source": [
    "### 시계열적 요소를 위해 연도를 넣어준다"
   ]
  },
  {
   "cell_type": "code",
   "execution_count": 91,
   "metadata": {},
   "outputs": [],
   "source": [
    "train18_1['연도']=2018\n",
    "train18_2['연도']=2018\n",
    "train18_3['연도']=2018\n",
    "train18_4['연도']=2018\n",
    "\n",
    "train19_1['연도']=2019\n",
    "train19_2['연도']=2019\n",
    "train19_3['연도']=2019\n",
    "train19_4['연도']=2019\n",
    "\n",
    "train20_1['연도']=2020\n",
    "train20_2['연도']=2020\n",
    "train20_3['연도']=2020\n",
    "train20_4['연도']=2020\n",
    "\n",
    "train21_1['연도']=2021\n",
    "train21_2['연도']=2021\n",
    "train21_3['연도']=2021\n",
    "train21['연도']=2021"
   ]
  },
  {
   "cell_type": "code",
   "execution_count": 92,
   "metadata": {},
   "outputs": [],
   "source": [
    "sub_10=pd.merge(round_21,submission[['선수코드','팀코드']],how='left',on='팀코드')\n",
    "sub_10.drop(sub_10[sub_10.선수코드.isna()].index,axis=0,inplace=True)"
   ]
  },
  {
   "cell_type": "markdown",
   "metadata": {},
   "source": [
    "### 라운드별로 어떤 상대팀을 만났는지 알 수 있는 열( 원핫 느낌 )"
   ]
  },
  {
   "cell_type": "code",
   "execution_count": 93,
   "metadata": {},
   "outputs": [],
   "source": [
    "train18_1=pd.merge(train18_1,train_18_1.groupby('선수코드')['상대팀코드'].value_counts().unstack().reset_index(),how='left',on='선수코드').fillna(0)\n",
    "train18_2=pd.merge(train18_2,train_18_2.groupby('선수코드')['상대팀코드'].value_counts().unstack().reset_index(),how='left',on='선수코드').fillna(0)\n",
    "train18_3=pd.merge(train18_3,train_18_3.groupby('선수코드')['상대팀코드'].value_counts().unstack().reset_index(),how='left',on='선수코드').fillna(0)\n",
    "train18_4=pd.merge(train18_4,train_18_4.groupby('선수코드')['상대팀코드'].value_counts().unstack().reset_index(),how='left',on='선수코드').fillna(0)\n",
    "\n",
    "train19_1=pd.merge(train19_1,train_19_1.groupby('선수코드')['상대팀코드'].value_counts().unstack().reset_index(),how='left',on='선수코드').fillna(0)\n",
    "train19_2=pd.merge(train19_2,train_19_2.groupby('선수코드')['상대팀코드'].value_counts().unstack().reset_index(),how='left',on='선수코드').fillna(0)\n",
    "train19_3=pd.merge(train19_3,train_19_3.groupby('선수코드')['상대팀코드'].value_counts().unstack().reset_index(),how='left',on='선수코드').fillna(0)\n",
    "train19_4=pd.merge(train19_4,train_19_4.groupby('선수코드')['상대팀코드'].value_counts().unstack().reset_index(),how='left',on='선수코드').fillna(0)\n",
    "\n",
    "train20_1=pd.merge(train20_1,train_20_1.groupby('선수코드')['상대팀코드'].value_counts().unstack().reset_index(),how='left',on='선수코드').fillna(0)\n",
    "train20_2=pd.merge(train20_2,train_20_2.groupby('선수코드')['상대팀코드'].value_counts().unstack().reset_index(),how='left',on='선수코드').fillna(0)\n",
    "train20_3=pd.merge(train20_3,train_20_3.groupby('선수코드')['상대팀코드'].value_counts().unstack().reset_index(),how='left',on='선수코드').fillna(0)\n",
    "train20_4=pd.merge(train20_4,train_20_4.groupby('선수코드')['상대팀코드'].value_counts().unstack().reset_index(),how='left',on='선수코드').fillna(0)\n",
    "\n",
    "train21_1=pd.merge(train21_1,train_21_1.groupby('선수코드')['상대팀코드'].value_counts().unstack().reset_index(),how='left',on='선수코드').fillna(0)\n",
    "train21_2=pd.merge(train21_2,train_21_2.groupby('선수코드')['상대팀코드'].value_counts().unstack().reset_index(),how='left',on='선수코드').fillna(0)\n",
    "train21_3=pd.merge(train21_3,train_21_3.groupby('선수코드')['상대팀코드'].value_counts().unstack().reset_index(),how='left',on='선수코드').fillna(0)\n",
    "train21=pd.merge(train21,sub_10.groupby('선수코드')['상대팀코드'].value_counts().unstack().reset_index(),how='left',on='선수코드').fillna(0)"
   ]
  },
  {
   "cell_type": "code",
   "execution_count": 94,
   "metadata": {},
   "outputs": [],
   "source": [
    "ftr = pd.concat([train18_1,train18_2,train18_3,train18_4, \n",
    "                 train19_1,train19_2,train19_3,train19_4, \n",
    "                 train20_1,train20_2,train20_3,train20_4,\n",
    "                 train21_1,train21_2,train21_3], axis=0)\n",
    "\n",
    "ftr = ftr.reset_index(drop=True)"
   ]
  },
  {
   "cell_type": "code",
   "execution_count": 95,
   "metadata": {},
   "outputs": [],
   "source": [
    "X_test = train21.drop('선수코드', axis=1)"
   ]
  },
  {
   "cell_type": "code",
   "execution_count": 96,
   "metadata": {},
   "outputs": [
    {
     "data": {
      "text/plain": [
       "((2374, 149), (10, 148))"
      ]
     },
     "execution_count": 96,
     "metadata": {},
     "output_type": "execute_result"
    }
   ],
   "source": [
    "ftr.shape, X_test.shape"
   ]
  },
  {
   "cell_type": "code",
   "execution_count": 97,
   "metadata": {},
   "outputs": [
    {
     "data": {
      "text/html": [
       "<div>\n",
       "<style scoped>\n",
       "    .dataframe tbody tr th:only-of-type {\n",
       "        vertical-align: middle;\n",
       "    }\n",
       "\n",
       "    .dataframe tbody tr th {\n",
       "        vertical-align: top;\n",
       "    }\n",
       "\n",
       "    .dataframe thead th {\n",
       "        text-align: right;\n",
       "    }\n",
       "</style>\n",
       "<table border=\"1\" class=\"dataframe\">\n",
       "  <thead>\n",
       "    <tr style=\"text-align: right;\">\n",
       "      <th></th>\n",
       "      <th>선수코드</th>\n",
       "      <th>개인역량_선발_SUM</th>\n",
       "      <th>개인역량_타순_MEAN</th>\n",
       "      <th>개인역량_타수_SUM</th>\n",
       "      <th>개인역량_타수_MEAN</th>\n",
       "      <th>개인역량_타수_MAX</th>\n",
       "      <th>개인역량_득점_SUM</th>\n",
       "      <th>개인역량_득점_MEAN</th>\n",
       "      <th>개인역량_득점_MAX</th>\n",
       "      <th>개인역량_안타_SUM</th>\n",
       "      <th>...</th>\n",
       "      <th>KT</th>\n",
       "      <th>LG</th>\n",
       "      <th>LT</th>\n",
       "      <th>NC</th>\n",
       "      <th>OB</th>\n",
       "      <th>SK</th>\n",
       "      <th>SS</th>\n",
       "      <th>WO</th>\n",
       "      <th>시계열적_요일별_WPA/avLI_0</th>\n",
       "      <th>시계열적_요일별_일타율_0</th>\n",
       "    </tr>\n",
       "  </thead>\n",
       "  <tbody>\n",
       "    <tr>\n",
       "      <th>0</th>\n",
       "      <td>60343.0</td>\n",
       "      <td>10</td>\n",
       "      <td>8.000000</td>\n",
       "      <td>40</td>\n",
       "      <td>2.500000</td>\n",
       "      <td>5</td>\n",
       "      <td>8</td>\n",
       "      <td>0.500000</td>\n",
       "      <td>2</td>\n",
       "      <td>13</td>\n",
       "      <td>...</td>\n",
       "      <td>0.0</td>\n",
       "      <td>3.0</td>\n",
       "      <td>0.0</td>\n",
       "      <td>3.0</td>\n",
       "      <td>2.0</td>\n",
       "      <td>3.0</td>\n",
       "      <td>0.0</td>\n",
       "      <td>3.0</td>\n",
       "      <td>NaN</td>\n",
       "      <td>NaN</td>\n",
       "    </tr>\n",
       "    <tr>\n",
       "      <th>1</th>\n",
       "      <td>60558.0</td>\n",
       "      <td>11</td>\n",
       "      <td>4.650000</td>\n",
       "      <td>48</td>\n",
       "      <td>2.400000</td>\n",
       "      <td>6</td>\n",
       "      <td>9</td>\n",
       "      <td>0.450000</td>\n",
       "      <td>3</td>\n",
       "      <td>12</td>\n",
       "      <td>...</td>\n",
       "      <td>0.0</td>\n",
       "      <td>3.0</td>\n",
       "      <td>0.0</td>\n",
       "      <td>3.0</td>\n",
       "      <td>3.0</td>\n",
       "      <td>4.0</td>\n",
       "      <td>0.0</td>\n",
       "      <td>3.0</td>\n",
       "      <td>NaN</td>\n",
       "      <td>NaN</td>\n",
       "    </tr>\n",
       "    <tr>\n",
       "      <th>2</th>\n",
       "      <td>60566.0</td>\n",
       "      <td>4</td>\n",
       "      <td>5.842105</td>\n",
       "      <td>23</td>\n",
       "      <td>1.210526</td>\n",
       "      <td>5</td>\n",
       "      <td>3</td>\n",
       "      <td>0.157895</td>\n",
       "      <td>1</td>\n",
       "      <td>7</td>\n",
       "      <td>...</td>\n",
       "      <td>3.0</td>\n",
       "      <td>2.0</td>\n",
       "      <td>3.0</td>\n",
       "      <td>0.0</td>\n",
       "      <td>2.0</td>\n",
       "      <td>3.0</td>\n",
       "      <td>3.0</td>\n",
       "      <td>1.0</td>\n",
       "      <td>NaN</td>\n",
       "      <td>NaN</td>\n",
       "    </tr>\n",
       "    <tr>\n",
       "      <th>3</th>\n",
       "      <td>60605.0</td>\n",
       "      <td>1</td>\n",
       "      <td>9.000000</td>\n",
       "      <td>4</td>\n",
       "      <td>4.000000</td>\n",
       "      <td>4</td>\n",
       "      <td>2</td>\n",
       "      <td>2.000000</td>\n",
       "      <td>2</td>\n",
       "      <td>2</td>\n",
       "      <td>...</td>\n",
       "      <td>0.0</td>\n",
       "      <td>1.0</td>\n",
       "      <td>0.0</td>\n",
       "      <td>0.0</td>\n",
       "      <td>0.0</td>\n",
       "      <td>0.0</td>\n",
       "      <td>0.0</td>\n",
       "      <td>0.0</td>\n",
       "      <td>NaN</td>\n",
       "      <td>NaN</td>\n",
       "    </tr>\n",
       "    <tr>\n",
       "      <th>4</th>\n",
       "      <td>61102.0</td>\n",
       "      <td>17</td>\n",
       "      <td>7.058824</td>\n",
       "      <td>58</td>\n",
       "      <td>3.411765</td>\n",
       "      <td>5</td>\n",
       "      <td>12</td>\n",
       "      <td>0.705882</td>\n",
       "      <td>3</td>\n",
       "      <td>21</td>\n",
       "      <td>...</td>\n",
       "      <td>2.0</td>\n",
       "      <td>0.0</td>\n",
       "      <td>3.0</td>\n",
       "      <td>2.0</td>\n",
       "      <td>1.0</td>\n",
       "      <td>3.0</td>\n",
       "      <td>0.0</td>\n",
       "      <td>2.0</td>\n",
       "      <td>NaN</td>\n",
       "      <td>NaN</td>\n",
       "    </tr>\n",
       "  </tbody>\n",
       "</table>\n",
       "<p>5 rows × 149 columns</p>\n",
       "</div>"
      ],
      "text/plain": [
       "      선수코드  개인역량_선발_SUM  개인역량_타순_MEAN  개인역량_타수_SUM  개인역량_타수_MEAN  개인역량_타수_MAX  \\\n",
       "0  60343.0           10      8.000000           40      2.500000            5   \n",
       "1  60558.0           11      4.650000           48      2.400000            6   \n",
       "2  60566.0            4      5.842105           23      1.210526            5   \n",
       "3  60605.0            1      9.000000            4      4.000000            4   \n",
       "4  61102.0           17      7.058824           58      3.411765            5   \n",
       "\n",
       "   개인역량_득점_SUM  개인역량_득점_MEAN  개인역량_득점_MAX  개인역량_안타_SUM  ...   KT   LG   LT  \\\n",
       "0            8      0.500000            2           13  ...  0.0  3.0  0.0   \n",
       "1            9      0.450000            3           12  ...  0.0  3.0  0.0   \n",
       "2            3      0.157895            1            7  ...  3.0  2.0  3.0   \n",
       "3            2      2.000000            2            2  ...  0.0  1.0  0.0   \n",
       "4           12      0.705882            3           21  ...  2.0  0.0  3.0   \n",
       "\n",
       "    NC   OB   SK   SS   WO  시계열적_요일별_WPA/avLI_0  시계열적_요일별_일타율_0  \n",
       "0  3.0  2.0  3.0  0.0  3.0                  NaN             NaN  \n",
       "1  3.0  3.0  4.0  0.0  3.0                  NaN             NaN  \n",
       "2  0.0  2.0  3.0  3.0  1.0                  NaN             NaN  \n",
       "3  0.0  0.0  0.0  0.0  0.0                  NaN             NaN  \n",
       "4  2.0  1.0  3.0  0.0  2.0                  NaN             NaN  \n",
       "\n",
       "[5 rows x 149 columns]"
      ]
     },
     "execution_count": 97,
     "metadata": {},
     "output_type": "execute_result"
    }
   ],
   "source": [
    "ftr.head()"
   ]
  },
  {
   "cell_type": "markdown",
   "metadata": {},
   "source": [
    "#### target"
   ]
  },
  {
   "cell_type": "code",
   "execution_count": 98,
   "metadata": {},
   "outputs": [],
   "source": [
    "def test_set(train, test):\n",
    "    \n",
    "    # train과 test 둘 다 있는 선수 뽑아내기\n",
    "    pl = list(set(train['선수코드'].unique()) & set(test['선수코드'].unique()))\n",
    "    \n",
    "    # 출루율 파트\n",
    "    AB = pd.DataFrame(test.groupby('선수코드')['타수'].sum())\n",
    "    H = pd.DataFrame(test.groupby('선수코드')['안타'].sum() + test.groupby('선수코드')['2루타'].sum() + test.groupby('선수코드')['3루타'].sum() + test.groupby('선수코드')['홈런'].sum())\n",
    "    BB = pd.DataFrame(test.groupby('선수코드')['볼넷'].sum())\n",
    "    HBP = pd.DataFrame(test.groupby('선수코드')['사구'].sum())\n",
    "    SF = pd.DataFrame(test.groupby('선수코드')['희생번트'].sum() + test.groupby('선수코드')['희생플라이'].sum())\n",
    "    \n",
    "    # 장타율 파트\n",
    "    H1 = pd.DataFrame(test.groupby('선수코드')['안타'].sum())\n",
    "    H2 = pd.DataFrame(test.groupby('선수코드')['2루타'].sum())\n",
    "    H3 = pd.DataFrame(test.groupby('선수코드')['3루타'].sum())\n",
    "    HR = pd.DataFrame(test.groupby('선수코드')['홈런'].sum())\n",
    "    \n",
    "    test = AB.merge(H, on='선수코드')\n",
    "    test = test.merge(BB, on='선수코드')\n",
    "    test = test.merge(HBP, on='선수코드')\n",
    "    test = test.merge(SF, on='선수코드')\n",
    "    test = test.merge(H1, on='선수코드')\n",
    "    test = test.merge(H2, on='선수코드')\n",
    "    test = test.merge(H3, on='선수코드')\n",
    "    test = test.merge(HR, on='선수코드')\n",
    "    \n",
    "    test.columns = ['타수', '총안타', '볼넷', '사구', '희생타', '안타', '2루타', '3루타', '홈런']\n",
    "    \n",
    "    test['출루율'] = (test['총안타'] + test['볼넷'] + test['사구']) / (test['타수'] + test['볼넷'] + test['사구'] + test['희생타'])\n",
    "    test['장타율'] = (test['안타'] + 2*test['2루타'] + 3*test['3루타'] + 4*test['홈런']) / test['타수']\n",
    "    test['OPS'] = test['출루율'] + test['장타율']\n",
    "    \n",
    "    test = test.reset_index()\n",
    "    test = test.loc[test['선수코드'].isin(pl)]\n",
    "    \n",
    "    return test[['출루율', '장타율', 'OPS']]"
   ]
  },
  {
   "cell_type": "code",
   "execution_count": 99,
   "metadata": {},
   "outputs": [],
   "source": [
    "# 전 20라운드의 결과로 다음 20라운드의 결과 예측하는 느낌은 어떤가 해서 만들어 봄\n",
    "\n",
    "test18_1 = test_set(train_18_1, train_18_2).fillna(0)\n",
    "test18_2 = test_set(train_18_2, train_18_3).fillna(0)\n",
    "test18_3 = test_set(train_18_3, train_18_4).fillna(0)\n",
    "test18_4 = test_set(train_18_4, test_18).fillna(0)\n",
    "#test18 = test_set(train_18_4, train_18_5)\n",
    "#test18 = test_set(train_18_5, train_18_6)\n",
    "#test18 = test_set(train_18_6, test_18)\n",
    "\n",
    "test19_1 = test_set(train_19_1, train_19_2).fillna(0)\n",
    "test19_2 = test_set(train_19_2, train_19_3).fillna(0)\n",
    "test19_3 = test_set(train_19_3, train_19_4).fillna(0)\n",
    "test19_4 = test_set(train_19_4, test_19).fillna(0)\n",
    "#test19 = test_set(train_19_4, train_19_5)\n",
    "#test19 = test_set(train_19_5, train_19_6)\n",
    "#test19 = test_set(train_19_6, test_19)\n",
    "\n",
    "test20_1 = test_set(train_20_1, train_20_2).fillna(0)\n",
    "test20_2 = test_set(train_20_2, train_20_3).fillna(0)\n",
    "test20_3 = test_set(train_20_3, train_20_4).fillna(0)\n",
    "test20_4 = test_set(train_20_4, test_20).fillna(0)\n",
    "#test20 = test_set(train_20_4, train_20_5)\n",
    "#test20 = test_set(train_20_5, train_20_6)\n",
    "#test20 = test_set(train_20_6, test_20)\n",
    "\n",
    "test21_1 = test_set(train_21_1, train_21_2).fillna(0)\n",
    "test21_2 = test_set(train_21_2, train_21_3).fillna(0)\n",
    "test21_3 = test_set(train_21_3, train_21_4).fillna(0)"
   ]
  },
  {
   "cell_type": "code",
   "execution_count": 100,
   "metadata": {},
   "outputs": [],
   "source": [
    "target = pd.concat([test18_1,test18_2,test18_3,test18_4,test19_1,test19_2,test19_3,test19_4,test20_1,test20_2,test20_3,test20_4,test21_1,test21_2,test21_3], axis=0)\n",
    "target = target.reset_index(drop=True)"
   ]
  },
  {
   "cell_type": "code",
   "execution_count": 101,
   "metadata": {
    "scrolled": true
   },
   "outputs": [
    {
     "data": {
      "text/plain": [
       "((2374, 149), (2374, 3))"
      ]
     },
     "execution_count": 101,
     "metadata": {},
     "output_type": "execute_result"
    }
   ],
   "source": [
    "ftr.shape, target.shape"
   ]
  },
  {
   "cell_type": "code",
   "execution_count": 102,
   "metadata": {},
   "outputs": [
    {
     "data": {
      "text/html": [
       "<div>\n",
       "<style scoped>\n",
       "    .dataframe tbody tr th:only-of-type {\n",
       "        vertical-align: middle;\n",
       "    }\n",
       "\n",
       "    .dataframe tbody tr th {\n",
       "        vertical-align: top;\n",
       "    }\n",
       "\n",
       "    .dataframe thead th {\n",
       "        text-align: right;\n",
       "    }\n",
       "</style>\n",
       "<table border=\"1\" class=\"dataframe\">\n",
       "  <thead>\n",
       "    <tr style=\"text-align: right;\">\n",
       "      <th></th>\n",
       "      <th>선수코드</th>\n",
       "      <th>개인역량_선발_SUM</th>\n",
       "      <th>개인역량_타순_MEAN</th>\n",
       "      <th>개인역량_타수_SUM</th>\n",
       "      <th>개인역량_타수_MEAN</th>\n",
       "      <th>개인역량_타수_MAX</th>\n",
       "      <th>개인역량_득점_SUM</th>\n",
       "      <th>개인역량_득점_MEAN</th>\n",
       "      <th>개인역량_득점_MAX</th>\n",
       "      <th>개인역량_안타_SUM</th>\n",
       "      <th>...</th>\n",
       "      <th>KT</th>\n",
       "      <th>LG</th>\n",
       "      <th>LT</th>\n",
       "      <th>NC</th>\n",
       "      <th>OB</th>\n",
       "      <th>SK</th>\n",
       "      <th>SS</th>\n",
       "      <th>WO</th>\n",
       "      <th>시계열적_요일별_WPA/avLI_0</th>\n",
       "      <th>시계열적_요일별_일타율_0</th>\n",
       "    </tr>\n",
       "  </thead>\n",
       "  <tbody>\n",
       "    <tr>\n",
       "      <th>0</th>\n",
       "      <td>60343.0</td>\n",
       "      <td>10</td>\n",
       "      <td>8.000000</td>\n",
       "      <td>40</td>\n",
       "      <td>2.500000</td>\n",
       "      <td>5</td>\n",
       "      <td>8</td>\n",
       "      <td>0.500000</td>\n",
       "      <td>2</td>\n",
       "      <td>13</td>\n",
       "      <td>...</td>\n",
       "      <td>0.0</td>\n",
       "      <td>3.0</td>\n",
       "      <td>0.0</td>\n",
       "      <td>3.0</td>\n",
       "      <td>2.0</td>\n",
       "      <td>3.0</td>\n",
       "      <td>0.0</td>\n",
       "      <td>3.0</td>\n",
       "      <td>NaN</td>\n",
       "      <td>NaN</td>\n",
       "    </tr>\n",
       "    <tr>\n",
       "      <th>1</th>\n",
       "      <td>60558.0</td>\n",
       "      <td>11</td>\n",
       "      <td>4.650000</td>\n",
       "      <td>48</td>\n",
       "      <td>2.400000</td>\n",
       "      <td>6</td>\n",
       "      <td>9</td>\n",
       "      <td>0.450000</td>\n",
       "      <td>3</td>\n",
       "      <td>12</td>\n",
       "      <td>...</td>\n",
       "      <td>0.0</td>\n",
       "      <td>3.0</td>\n",
       "      <td>0.0</td>\n",
       "      <td>3.0</td>\n",
       "      <td>3.0</td>\n",
       "      <td>4.0</td>\n",
       "      <td>0.0</td>\n",
       "      <td>3.0</td>\n",
       "      <td>NaN</td>\n",
       "      <td>NaN</td>\n",
       "    </tr>\n",
       "    <tr>\n",
       "      <th>2</th>\n",
       "      <td>60566.0</td>\n",
       "      <td>4</td>\n",
       "      <td>5.842105</td>\n",
       "      <td>23</td>\n",
       "      <td>1.210526</td>\n",
       "      <td>5</td>\n",
       "      <td>3</td>\n",
       "      <td>0.157895</td>\n",
       "      <td>1</td>\n",
       "      <td>7</td>\n",
       "      <td>...</td>\n",
       "      <td>3.0</td>\n",
       "      <td>2.0</td>\n",
       "      <td>3.0</td>\n",
       "      <td>0.0</td>\n",
       "      <td>2.0</td>\n",
       "      <td>3.0</td>\n",
       "      <td>3.0</td>\n",
       "      <td>1.0</td>\n",
       "      <td>NaN</td>\n",
       "      <td>NaN</td>\n",
       "    </tr>\n",
       "    <tr>\n",
       "      <th>3</th>\n",
       "      <td>60605.0</td>\n",
       "      <td>1</td>\n",
       "      <td>9.000000</td>\n",
       "      <td>4</td>\n",
       "      <td>4.000000</td>\n",
       "      <td>4</td>\n",
       "      <td>2</td>\n",
       "      <td>2.000000</td>\n",
       "      <td>2</td>\n",
       "      <td>2</td>\n",
       "      <td>...</td>\n",
       "      <td>0.0</td>\n",
       "      <td>1.0</td>\n",
       "      <td>0.0</td>\n",
       "      <td>0.0</td>\n",
       "      <td>0.0</td>\n",
       "      <td>0.0</td>\n",
       "      <td>0.0</td>\n",
       "      <td>0.0</td>\n",
       "      <td>NaN</td>\n",
       "      <td>NaN</td>\n",
       "    </tr>\n",
       "    <tr>\n",
       "      <th>4</th>\n",
       "      <td>61102.0</td>\n",
       "      <td>17</td>\n",
       "      <td>7.058824</td>\n",
       "      <td>58</td>\n",
       "      <td>3.411765</td>\n",
       "      <td>5</td>\n",
       "      <td>12</td>\n",
       "      <td>0.705882</td>\n",
       "      <td>3</td>\n",
       "      <td>21</td>\n",
       "      <td>...</td>\n",
       "      <td>2.0</td>\n",
       "      <td>0.0</td>\n",
       "      <td>3.0</td>\n",
       "      <td>2.0</td>\n",
       "      <td>1.0</td>\n",
       "      <td>3.0</td>\n",
       "      <td>0.0</td>\n",
       "      <td>2.0</td>\n",
       "      <td>NaN</td>\n",
       "      <td>NaN</td>\n",
       "    </tr>\n",
       "  </tbody>\n",
       "</table>\n",
       "<p>5 rows × 149 columns</p>\n",
       "</div>"
      ],
      "text/plain": [
       "      선수코드  개인역량_선발_SUM  개인역량_타순_MEAN  개인역량_타수_SUM  개인역량_타수_MEAN  개인역량_타수_MAX  \\\n",
       "0  60343.0           10      8.000000           40      2.500000            5   \n",
       "1  60558.0           11      4.650000           48      2.400000            6   \n",
       "2  60566.0            4      5.842105           23      1.210526            5   \n",
       "3  60605.0            1      9.000000            4      4.000000            4   \n",
       "4  61102.0           17      7.058824           58      3.411765            5   \n",
       "\n",
       "   개인역량_득점_SUM  개인역량_득점_MEAN  개인역량_득점_MAX  개인역량_안타_SUM  ...   KT   LG   LT  \\\n",
       "0            8      0.500000            2           13  ...  0.0  3.0  0.0   \n",
       "1            9      0.450000            3           12  ...  0.0  3.0  0.0   \n",
       "2            3      0.157895            1            7  ...  3.0  2.0  3.0   \n",
       "3            2      2.000000            2            2  ...  0.0  1.0  0.0   \n",
       "4           12      0.705882            3           21  ...  2.0  0.0  3.0   \n",
       "\n",
       "    NC   OB   SK   SS   WO  시계열적_요일별_WPA/avLI_0  시계열적_요일별_일타율_0  \n",
       "0  3.0  2.0  3.0  0.0  3.0                  NaN             NaN  \n",
       "1  3.0  3.0  4.0  0.0  3.0                  NaN             NaN  \n",
       "2  0.0  2.0  3.0  3.0  1.0                  NaN             NaN  \n",
       "3  0.0  0.0  0.0  0.0  0.0                  NaN             NaN  \n",
       "4  2.0  1.0  3.0  0.0  2.0                  NaN             NaN  \n",
       "\n",
       "[5 rows x 149 columns]"
      ]
     },
     "execution_count": 102,
     "metadata": {},
     "output_type": "execute_result"
    }
   ],
   "source": [
    "ftr.head()"
   ]
  },
  {
   "cell_type": "code",
   "execution_count": 103,
   "metadata": {},
   "outputs": [],
   "source": [
    "# dayofweek == 0인 요일은 월요일인데 이경우는 특수한 경우이므로 제외함\n",
    "ftr.drop(['시계열적_요일별_WPA/avLI_0', '시계열적_요일별_일타율_0'], axis=1, inplace=True)\n",
    "X_test.drop(['시계열적_요일별_WPA/avLI_0', '시계열적_요일별_일타율_0'], axis=1, inplace=True)"
   ]
  },
  {
   "cell_type": "code",
   "execution_count": 104,
   "metadata": {},
   "outputs": [
    {
     "data": {
      "text/plain": [
       "((2374, 147), (10, 146))"
      ]
     },
     "execution_count": 104,
     "metadata": {},
     "output_type": "execute_result"
    }
   ],
   "source": [
    "ftr.shape, X_test.shape"
   ]
  },
  {
   "cell_type": "code",
   "execution_count": 105,
   "metadata": {},
   "outputs": [
    {
     "data": {
      "text/html": [
       "<div>\n",
       "<style scoped>\n",
       "    .dataframe tbody tr th:only-of-type {\n",
       "        vertical-align: middle;\n",
       "    }\n",
       "\n",
       "    .dataframe tbody tr th {\n",
       "        vertical-align: top;\n",
       "    }\n",
       "\n",
       "    .dataframe thead th {\n",
       "        text-align: right;\n",
       "    }\n",
       "</style>\n",
       "<table border=\"1\" class=\"dataframe\">\n",
       "  <thead>\n",
       "    <tr style=\"text-align: right;\">\n",
       "      <th></th>\n",
       "      <th>선수코드</th>\n",
       "      <th>개인역량_선발_SUM</th>\n",
       "      <th>개인역량_타순_MEAN</th>\n",
       "      <th>개인역량_타수_SUM</th>\n",
       "      <th>개인역량_타수_MEAN</th>\n",
       "      <th>개인역량_타수_MAX</th>\n",
       "      <th>개인역량_득점_SUM</th>\n",
       "      <th>개인역량_득점_MEAN</th>\n",
       "      <th>개인역량_득점_MAX</th>\n",
       "      <th>개인역량_안타_SUM</th>\n",
       "      <th>...</th>\n",
       "      <th>HH</th>\n",
       "      <th>HT</th>\n",
       "      <th>KT</th>\n",
       "      <th>LG</th>\n",
       "      <th>LT</th>\n",
       "      <th>NC</th>\n",
       "      <th>OB</th>\n",
       "      <th>SK</th>\n",
       "      <th>SS</th>\n",
       "      <th>WO</th>\n",
       "    </tr>\n",
       "  </thead>\n",
       "  <tbody>\n",
       "    <tr>\n",
       "      <th>0</th>\n",
       "      <td>60343.0</td>\n",
       "      <td>10</td>\n",
       "      <td>8.000000</td>\n",
       "      <td>40</td>\n",
       "      <td>2.500000</td>\n",
       "      <td>5</td>\n",
       "      <td>8</td>\n",
       "      <td>0.500000</td>\n",
       "      <td>2</td>\n",
       "      <td>13</td>\n",
       "      <td>...</td>\n",
       "      <td>1.0</td>\n",
       "      <td>1.0</td>\n",
       "      <td>0.0</td>\n",
       "      <td>3.0</td>\n",
       "      <td>0.0</td>\n",
       "      <td>3.0</td>\n",
       "      <td>2.0</td>\n",
       "      <td>3.0</td>\n",
       "      <td>0.0</td>\n",
       "      <td>3.0</td>\n",
       "    </tr>\n",
       "    <tr>\n",
       "      <th>1</th>\n",
       "      <td>60558.0</td>\n",
       "      <td>11</td>\n",
       "      <td>4.650000</td>\n",
       "      <td>48</td>\n",
       "      <td>2.400000</td>\n",
       "      <td>6</td>\n",
       "      <td>9</td>\n",
       "      <td>0.450000</td>\n",
       "      <td>3</td>\n",
       "      <td>12</td>\n",
       "      <td>...</td>\n",
       "      <td>2.0</td>\n",
       "      <td>2.0</td>\n",
       "      <td>0.0</td>\n",
       "      <td>3.0</td>\n",
       "      <td>0.0</td>\n",
       "      <td>3.0</td>\n",
       "      <td>3.0</td>\n",
       "      <td>4.0</td>\n",
       "      <td>0.0</td>\n",
       "      <td>3.0</td>\n",
       "    </tr>\n",
       "    <tr>\n",
       "      <th>2</th>\n",
       "      <td>60566.0</td>\n",
       "      <td>4</td>\n",
       "      <td>5.842105</td>\n",
       "      <td>23</td>\n",
       "      <td>1.210526</td>\n",
       "      <td>5</td>\n",
       "      <td>3</td>\n",
       "      <td>0.157895</td>\n",
       "      <td>1</td>\n",
       "      <td>7</td>\n",
       "      <td>...</td>\n",
       "      <td>2.0</td>\n",
       "      <td>0.0</td>\n",
       "      <td>3.0</td>\n",
       "      <td>2.0</td>\n",
       "      <td>3.0</td>\n",
       "      <td>0.0</td>\n",
       "      <td>2.0</td>\n",
       "      <td>3.0</td>\n",
       "      <td>3.0</td>\n",
       "      <td>1.0</td>\n",
       "    </tr>\n",
       "    <tr>\n",
       "      <th>3</th>\n",
       "      <td>60605.0</td>\n",
       "      <td>1</td>\n",
       "      <td>9.000000</td>\n",
       "      <td>4</td>\n",
       "      <td>4.000000</td>\n",
       "      <td>4</td>\n",
       "      <td>2</td>\n",
       "      <td>2.000000</td>\n",
       "      <td>2</td>\n",
       "      <td>2</td>\n",
       "      <td>...</td>\n",
       "      <td>0.0</td>\n",
       "      <td>0.0</td>\n",
       "      <td>0.0</td>\n",
       "      <td>1.0</td>\n",
       "      <td>0.0</td>\n",
       "      <td>0.0</td>\n",
       "      <td>0.0</td>\n",
       "      <td>0.0</td>\n",
       "      <td>0.0</td>\n",
       "      <td>0.0</td>\n",
       "    </tr>\n",
       "    <tr>\n",
       "      <th>4</th>\n",
       "      <td>61102.0</td>\n",
       "      <td>17</td>\n",
       "      <td>7.058824</td>\n",
       "      <td>58</td>\n",
       "      <td>3.411765</td>\n",
       "      <td>5</td>\n",
       "      <td>12</td>\n",
       "      <td>0.705882</td>\n",
       "      <td>3</td>\n",
       "      <td>21</td>\n",
       "      <td>...</td>\n",
       "      <td>0.0</td>\n",
       "      <td>4.0</td>\n",
       "      <td>2.0</td>\n",
       "      <td>0.0</td>\n",
       "      <td>3.0</td>\n",
       "      <td>2.0</td>\n",
       "      <td>1.0</td>\n",
       "      <td>3.0</td>\n",
       "      <td>0.0</td>\n",
       "      <td>2.0</td>\n",
       "    </tr>\n",
       "  </tbody>\n",
       "</table>\n",
       "<p>5 rows × 147 columns</p>\n",
       "</div>"
      ],
      "text/plain": [
       "      선수코드  개인역량_선발_SUM  개인역량_타순_MEAN  개인역량_타수_SUM  개인역량_타수_MEAN  개인역량_타수_MAX  \\\n",
       "0  60343.0           10      8.000000           40      2.500000            5   \n",
       "1  60558.0           11      4.650000           48      2.400000            6   \n",
       "2  60566.0            4      5.842105           23      1.210526            5   \n",
       "3  60605.0            1      9.000000            4      4.000000            4   \n",
       "4  61102.0           17      7.058824           58      3.411765            5   \n",
       "\n",
       "   개인역량_득점_SUM  개인역량_득점_MEAN  개인역량_득점_MAX  개인역량_안타_SUM  ...   HH   HT   KT  \\\n",
       "0            8      0.500000            2           13  ...  1.0  1.0  0.0   \n",
       "1            9      0.450000            3           12  ...  2.0  2.0  0.0   \n",
       "2            3      0.157895            1            7  ...  2.0  0.0  3.0   \n",
       "3            2      2.000000            2            2  ...  0.0  0.0  0.0   \n",
       "4           12      0.705882            3           21  ...  0.0  4.0  2.0   \n",
       "\n",
       "    LG   LT   NC   OB   SK   SS   WO  \n",
       "0  3.0  0.0  3.0  2.0  3.0  0.0  3.0  \n",
       "1  3.0  0.0  3.0  3.0  4.0  0.0  3.0  \n",
       "2  2.0  3.0  0.0  2.0  3.0  3.0  1.0  \n",
       "3  1.0  0.0  0.0  0.0  0.0  0.0  0.0  \n",
       "4  0.0  3.0  2.0  1.0  3.0  0.0  2.0  \n",
       "\n",
       "[5 rows x 147 columns]"
      ]
     },
     "execution_count": 105,
     "metadata": {},
     "output_type": "execute_result"
    }
   ],
   "source": [
    "ftr.head()"
   ]
  },
  {
   "cell_type": "code",
   "execution_count": 106,
   "metadata": {
    "scrolled": false
   },
   "outputs": [
    {
     "data": {
      "text/html": [
       "<div>\n",
       "<style scoped>\n",
       "    .dataframe tbody tr th:only-of-type {\n",
       "        vertical-align: middle;\n",
       "    }\n",
       "\n",
       "    .dataframe tbody tr th {\n",
       "        vertical-align: top;\n",
       "    }\n",
       "\n",
       "    .dataframe thead th {\n",
       "        text-align: right;\n",
       "    }\n",
       "</style>\n",
       "<table border=\"1\" class=\"dataframe\">\n",
       "  <thead>\n",
       "    <tr style=\"text-align: right;\">\n",
       "      <th></th>\n",
       "      <th>출루율</th>\n",
       "      <th>장타율</th>\n",
       "      <th>OPS</th>\n",
       "    </tr>\n",
       "  </thead>\n",
       "  <tbody>\n",
       "    <tr>\n",
       "      <th>0</th>\n",
       "      <td>0.277778</td>\n",
       "      <td>0.352941</td>\n",
       "      <td>0.630719</td>\n",
       "    </tr>\n",
       "    <tr>\n",
       "      <th>1</th>\n",
       "      <td>0.509434</td>\n",
       "      <td>0.659574</td>\n",
       "      <td>1.169008</td>\n",
       "    </tr>\n",
       "    <tr>\n",
       "      <th>2</th>\n",
       "      <td>0.230769</td>\n",
       "      <td>0.147059</td>\n",
       "      <td>0.377828</td>\n",
       "    </tr>\n",
       "    <tr>\n",
       "      <th>3</th>\n",
       "      <td>0.235294</td>\n",
       "      <td>0.187500</td>\n",
       "      <td>0.422794</td>\n",
       "    </tr>\n",
       "    <tr>\n",
       "      <th>4</th>\n",
       "      <td>0.388060</td>\n",
       "      <td>0.580645</td>\n",
       "      <td>0.968705</td>\n",
       "    </tr>\n",
       "  </tbody>\n",
       "</table>\n",
       "</div>"
      ],
      "text/plain": [
       "        출루율       장타율       OPS\n",
       "0  0.277778  0.352941  0.630719\n",
       "1  0.509434  0.659574  1.169008\n",
       "2  0.230769  0.147059  0.377828\n",
       "3  0.235294  0.187500  0.422794\n",
       "4  0.388060  0.580645  0.968705"
      ]
     },
     "execution_count": 106,
     "metadata": {},
     "output_type": "execute_result"
    }
   ],
   "source": [
    "target.head()"
   ]
  },
  {
   "cell_type": "markdown",
   "metadata": {},
   "source": [
    "### 변수 표준화"
   ]
  },
  {
   "cell_type": "code",
   "execution_count": 107,
   "metadata": {},
   "outputs": [],
   "source": [
    "from sklearn.preprocessing import StandardScaler\n",
    "scaler = StandardScaler()\n",
    "ftr.iloc[:,1:] = scaler.fit_transform(ftr.iloc[:,1:])\n",
    "X_test.iloc[:,:] = scaler.transform(X_test.iloc[:,:])"
   ]
  },
  {
   "cell_type": "markdown",
   "metadata": {},
   "source": [
    "### 모델링\n",
    "- 출루율, 장타율 따로 fitting 해줌. 나중에 합쳐서 OPS를 만듦"
   ]
  },
  {
   "cell_type": "code",
   "execution_count": 108,
   "metadata": {},
   "outputs": [],
   "source": [
    "X1 = ftr.drop(['선수코드'], axis=1)\n",
    "y1 = target.출루율\n",
    "\n",
    "X2 = ftr.drop(['선수코드'], axis=1)\n",
    "y2 = target.장타율"
   ]
  },
  {
   "cell_type": "code",
   "execution_count": 109,
   "metadata": {
    "scrolled": false
   },
   "outputs": [
    {
     "data": {
      "text/plain": [
       "((2374, 146), (2374,), (2374, 146), (2374,))"
      ]
     },
     "execution_count": 109,
     "metadata": {},
     "output_type": "execute_result"
    }
   ],
   "source": [
    "X1.shape, y1.shape, X2.shape, y2.shape"
   ]
  },
  {
   "cell_type": "markdown",
   "metadata": {},
   "source": [
    "### 성능 메트릭 결정"
   ]
  },
  {
   "cell_type": "code",
   "execution_count": 110,
   "metadata": {},
   "outputs": [],
   "source": [
    "from sklearn.metrics import mean_absolute_error\n",
    "\n",
    "def NMAE(y_test, y_pred):\n",
    "    mae = mean_absolute_error(y_test, y_pred)\n",
    "    nmae = np.mean(mae)\n",
    "    return nmae"
   ]
  },
  {
   "cell_type": "markdown",
   "metadata": {},
   "source": [
    "## Feature Selection"
   ]
  },
  {
   "cell_type": "markdown",
   "metadata": {},
   "source": [
    "### 출루율"
   ]
  },
  {
   "cell_type": "code",
   "execution_count": 111,
   "metadata": {},
   "outputs": [
    {
     "name": "stderr",
     "output_type": "stream",
     "text": [
      "100%|██████████████████████████████████████████████████████████████████████████████████| 95/95 [11:07<00:00,  7.02s/it]"
     ]
    },
    {
     "name": "stdout",
     "output_type": "stream",
     "text": [
      "(54, -0.11002104259887843)\n"
     ]
    },
    {
     "name": "stderr",
     "output_type": "stream",
     "text": [
      "\n"
     ]
    },
    {
     "data": {
      "image/png": "[encoded data removed]",
      "text/plain": [
       "<Figure size 432x288 with 1 Axes>"
      ]
     },
     "metadata": {
      "needs_background": "light"
     },
     "output_type": "display_data"
    }
   ],
   "source": [
    "from sklearn.linear_model import Ridge # 0.1113\n",
    "from sklearn.linear_model import BayesianRidge # 0.1103\n",
    "from sklearn.ensemble import RandomForestRegressor # 0.1100\n",
    "\n",
    "from sklearn.model_selection import cross_val_score\n",
    "from sklearn.feature_selection import SelectPercentile\n",
    "\n",
    "# 사용할 모델 설정 (속도가 빠른 모델 사용 권장)\n",
    "model = RandomForestRegressor(random_state=0, n_jobs=-1)\n",
    "\n",
    "# 각 특성과 타깃(class) 사이에 유의한 통계적 관계가 있는지 계산하여 특성을 선택하는 방법 \n",
    "cv_scores = []\n",
    "for p in tqdm(range(5,100,1)):\n",
    "    X_new = SelectPercentile(percentile=p).fit_transform(X1, y1)    # SelectPercentile: 지정된 비율만큼 특성을 선택한다.\n",
    "    cv_score = cross_val_score(model, X_new, y1, scoring='neg_mean_absolute_error', cv=5).mean()\n",
    "    cv_scores.append((p,cv_score))\n",
    "\n",
    "# Print the best percentile\n",
    "best_score = cv_scores[np.argmax([score for _, score in cv_scores])]\n",
    "print(best_score)\n",
    "\n",
    "# Plot the performance change with p\n",
    "plt.plot([k for k, _ in cv_scores], [score for _, score in cv_scores])\n",
    "plt.xlabel('Percent of features')\n",
    "plt.grid()"
   ]
  },
  {
   "cell_type": "code",
   "execution_count": 112,
   "metadata": {},
   "outputs": [],
   "source": [
    "# 과적합을 피하기 위해 최적의 p값 주변의 값을 선택하는게 더 나은 결과를 얻을 수 있다. \n",
    "fs1 = SelectPercentile(percentile=best_score[0]).fit(X1, y1)\n",
    "X1_new = pd.DataFrame(fs1.transform(X1))\n",
    "X_test_new1 = pd.DataFrame(fs1.transform(X_test))"
   ]
  },
  {
   "cell_type": "code",
   "execution_count": 113,
   "metadata": {},
   "outputs": [
    {
     "name": "stdout",
     "output_type": "stream",
     "text": [
      "(2374, 79)\n",
      "['개인역량_선발_SUM', '개인역량_타순_MEAN', '개인역량_타수_SUM', '개인역량_타수_MEAN', '개인역량_득점_SUM', '개인역량_득점_MEAN', '개인역량_득점_MAX', '개인역량_안타_SUM', '개인역량_안타_MEAN', '개인역량_안타_MAX', '개인역량_2루타_SUM', '개인역량_2루타_MEAN', '개인역량_2루타_MAX', '개인역량_3루타_SUM', '개인역량_홈런_SUM', '개인역량_홈런_MEAN', '개인역량_홈런_MAX', '개인역량_루타_SUM', '개인역량_루타_MEAN', '개인역량_루타_MAX', '개인역량_루타_STD', '개인역량_타점_SUM', '개인역량_타점_MEAN', '개인역량_타점_MAX', '개인역량_타점_STD', '개인역량_도루_SUM', '개인역량_도루_MEAN', '개인역량_도루_MAX', '개인역량_도루실책_SUM', '개인역량_볼넷_SUM', '개인역량_볼넷_MEAN', '개인역량_볼넷_MAX', '개인역량_사구_SUM', '개인역량_고의4구_SUM', '개인역량_고의4구_MEAN', '개인역량_고의4구_MAX', '개인역량_삼진_SUM', '개인역량_병살타_SUM', '개인역량_희생번트_SUM', '개인역량_희생플라이_SUM', '개인역량_투구_MEAN', '개인역량_투구_MAX', '개인역량_RE24_MEAN', '개인역량_RE24_MAX', '개인역량_RE24_STD', '개인역량_WPA_MEAN', '개인역량_WPA_MAX', '개인역량_WPA_STD', '개인역량_WPA/AVLI_MEAN', '개인역량_WPA/AVLI_MAX', '개인역량_WPA/AVLI_STD', '개인역량_연봉_MEAN', '개인역량_상대별WPA_MEAN', '개인역량_배럴_MEAN', '개인역량_배럴_SUM', '개인역량_연봉/나이', '개인역량_상대팀별_배럴_합_H_H', '개인역량_상대팀별_배럴_합_H_T', '개인역량_상대팀별_배럴_합_K_T', '개인역량_상대팀별_배럴_합_L_G', '개인역량_상대팀별_배럴_합_L_T', '개인역량_상대팀별_배럴_합_N_C', '개인역량_상대팀별_배럴_합_O_B', '개인역량_상대팀별_배럴_합_S_K', '개인역량_상대팀별_배럴_합_S_S', '개인역량_상대팀별_배럴_합_W_O', '개인역량_상대팀별_배럴_평균H_H', '개인역량_상대팀별_배럴_평균H_T', '개인역량_상대팀별_배럴_평균K_T', '개인역량_상대팀별_배럴_평균L_G', '개인역량_상대팀별_배럴_평균L_T', '개인역량_상대팀별_배럴_평균N_C', '개인역량_상대팀별_배럴_평균O_B', '개인역량_상대팀별_배럴_평균S_K', '개인역량_상대팀별_배럴_평균S_S', '개인역량_상대팀별_배럴_평균W_O', '팀역량_W_SUM', '팀역량_팀점수_SUM', '시계열적_요일별_WPA/avLI_5']\n"
     ]
    }
   ],
   "source": [
    "print(X1_new.shape)\n",
    "print(X_test.columns[fs1.get_support()].tolist()) # get_support: 선택한 특성을 불린값으로 보여줘서 어떤 특성을 선택했는지 알 수 있다."
   ]
  },
  {
   "cell_type": "code",
   "execution_count": 114,
   "metadata": {},
   "outputs": [
    {
     "data": {
      "text/plain": [
       "['개인역량_배럴/장타',\n",
       " '개인역량_3루타_MAX',\n",
       " '개인역량_일타율_MEAN',\n",
       " '개인역량_타수_MAX',\n",
       " 'OB',\n",
       " '개인역량_타율_LAST',\n",
       " '개인역량_2타/타수',\n",
       " \"시계열적_('라운드', 'mean')\",\n",
       " '연도',\n",
       " 'LG',\n",
       " '개인역량_병살타_MEAN',\n",
       " '개인역량_배럴/타구',\n",
       " '개인역량_도루실책_MAX',\n",
       " '개인역량_루타/타수',\n",
       " '개인역량_출루율_LAST',\n",
       " '시계열적_요일별_일타율_1',\n",
       " '개인역량_AVLI_MEAN',\n",
       " '팀역량_팀점수_STD',\n",
       " '개인역량_배럴/타수',\n",
       " '개인역량_사구_MEAN',\n",
       " '개인역량_일타율_STD',\n",
       " '개인역량_삼진_MAX',\n",
       " '팀역량_팀점수_MEAN',\n",
       " '시계열적_요일별_WPA/avLI_2',\n",
       " '개인역량_타율_STD',\n",
       " 'NC',\n",
       " '시계열적_요일별_WPA/avLI_3',\n",
       " '개인역량_희생번트_MEAN',\n",
       " '팀역량_최대연승_MAX',\n",
       " 'LT',\n",
       " '개인역량_삼진_MEAN',\n",
       " '개인역량_3루타_MEAN',\n",
       " '시계열적_요일별_일타율_4',\n",
       " '시계열적_요일별_일타율_3',\n",
       " '개인역량_사구_MAX',\n",
       " 'KT',\n",
       " '개인역량_나이_MEAN',\n",
       " '컨디션_이동거리_가중치_MEAN',\n",
       " '개인역량_OPS_LAST',\n",
       " '팀역량_L_SUM',\n",
       " '개인역량_안타/타수',\n",
       " '시계열적_요일별_WPA/avLI_1',\n",
       " '개인역량_병살타_MAX',\n",
       " '시계열적_요일별_일타율_6',\n",
       " 'HT',\n",
       " 'WO',\n",
       " '개인역량_장타율_LAST',\n",
       " '팀역량_팀점수_MAX',\n",
       " '시계열적_요일별_WPA/avLI_6',\n",
       " '개인역량_AVLI_STD',\n",
       " '개인역량_팀팀WPA_MEAN',\n",
       " 'HH',\n",
       " '팀역량_D_SUM',\n",
       " '개인역량_도루실책_MEAN',\n",
       " \"시계열적_('월', 'mean')\",\n",
       " '시계열적_요일별_일타율_2',\n",
       " '컨디션_이동거리_가중치_STD',\n",
       " 'SK',\n",
       " '개인역량_희생플라이_MEAN',\n",
       " '시계열적_요일별_일타율_5',\n",
       " '개인역량_홈런/타수',\n",
       " '시계열적_요일별_WPA/avLI_4',\n",
       " '개인역량_AVLI_MAX',\n",
       " '개인역량_희생번트_MAX',\n",
       " 'SS',\n",
       " '개인역량_희생플라이_MAX',\n",
       " '개인역량_3타/타수']"
      ]
     },
     "execution_count": 114,
     "metadata": {},
     "output_type": "execute_result"
    }
   ],
   "source": [
    "list(set(X_test.columns) - set(X_test.columns[fs1.get_support()].tolist()))"
   ]
  },
  {
   "cell_type": "code",
   "execution_count": 115,
   "metadata": {},
   "outputs": [],
   "source": [
    "X1_new.columns = X_test.columns[fs1.get_support()].tolist()\n",
    "X_test_new1.columns = X_test.columns[fs1.get_support()].tolist()"
   ]
  },
  {
   "cell_type": "code",
   "execution_count": 116,
   "metadata": {},
   "outputs": [
    {
     "data": {
      "text/plain": [
       "((2374, 79), (10, 79))"
      ]
     },
     "execution_count": 116,
     "metadata": {},
     "output_type": "execute_result"
    }
   ],
   "source": [
    "X1_new.shape, X_test_new1.shape"
   ]
  },
  {
   "cell_type": "markdown",
   "metadata": {},
   "source": [
    "### 장타율"
   ]
  },
  {
   "cell_type": "code",
   "execution_count": 117,
   "metadata": {},
   "outputs": [
    {
     "name": "stderr",
     "output_type": "stream",
     "text": [
      "100%|██████████████████████████████████████████████████████████████████████████████████| 95/95 [00:14<00:00,  6.59it/s]"
     ]
    },
    {
     "name": "stdout",
     "output_type": "stream",
     "text": [
      "(71, -0.1675046654779529)\n"
     ]
    },
    {
     "name": "stderr",
     "output_type": "stream",
     "text": [
      "\n"
     ]
    },
    {
     "data": {
      "image/png": "[encoded data removed]",
      "text/plain": [
       "<Figure size 432x288 with 1 Axes>"
      ]
     },
     "metadata": {
      "needs_background": "light"
     },
     "output_type": "display_data"
    }
   ],
   "source": [
    "from sklearn.linear_model import Ridge # 0.1704\n",
    "from sklearn.linear_model import BayesianRidge # 0.1674\n",
    "from sklearn.ensemble import RandomForestRegressor # 0.1691\n",
    "\n",
    "from sklearn.model_selection import cross_val_score\n",
    "from sklearn.feature_selection import SelectPercentile\n",
    "\n",
    "# 사용할 모델 설정 (속도가 빠른 모델 사용 권장)\n",
    "model = BayesianRidge()\n",
    "\n",
    "# 각 특성과 타깃(class) 사이에 유의한 통계적 관계가 있는지 계산하여 특성을 선택하는 방법 \n",
    "cv_scores = []\n",
    "for p in tqdm(range(5,100,1)):\n",
    "    X_new = SelectPercentile(percentile=p).fit_transform(X2, y2)    # SelectPercentile: 지정된 비율만큼 특성을 선택한다.\n",
    "    cv_score = cross_val_score(model, X_new, y2, scoring='neg_mean_absolute_error', cv=5).mean()\n",
    "    cv_scores.append((p,cv_score))\n",
    "\n",
    "# Print the best percentile\n",
    "best_score = cv_scores[np.argmax([score for _, score in cv_scores])]\n",
    "print(best_score)\n",
    "\n",
    "# Plot the performance change with p\n",
    "plt.plot([k for k, _ in cv_scores], [score for _, score in cv_scores])\n",
    "plt.xlabel('Percent of features')\n",
    "plt.grid()"
   ]
  },
  {
   "cell_type": "code",
   "execution_count": 118,
   "metadata": {},
   "outputs": [],
   "source": [
    "# 과적합을 피하기 위해 최적의 p값 주변의 값을 선택하는게 더 나은 결과를 얻을 수 있다. \n",
    "fs2 = SelectPercentile(percentile=best_score[0]).fit(X2, y2)\n",
    "X2_new = pd.DataFrame(fs2.transform(X2))\n",
    "X_test_new2 = pd.DataFrame(fs2.transform(X_test))"
   ]
  },
  {
   "cell_type": "code",
   "execution_count": 119,
   "metadata": {},
   "outputs": [
    {
     "name": "stdout",
     "output_type": "stream",
     "text": [
      "(2374, 103)\n",
      "['개인역량_선발_SUM', '개인역량_타순_MEAN', '개인역량_타수_SUM', '개인역량_타수_MEAN', '개인역량_타수_MAX', '개인역량_득점_SUM', '개인역량_득점_MEAN', '개인역량_득점_MAX', '개인역량_안타_SUM', '개인역량_안타_MEAN', '개인역량_안타_MAX', '개인역량_2루타_SUM', '개인역량_2루타_MEAN', '개인역량_2루타_MAX', '개인역량_3루타_SUM', '개인역량_3루타_MAX', '개인역량_홈런_SUM', '개인역량_홈런_MEAN', '개인역량_홈런_MAX', '개인역량_루타_SUM', '개인역량_루타_MEAN', '개인역량_루타_MAX', '개인역량_루타_STD', '개인역량_타점_SUM', '개인역량_타점_MEAN', '개인역량_타점_MAX', '개인역량_타점_STD', '개인역량_도루_SUM', '개인역량_도루_MEAN', '개인역량_도루_MAX', '개인역량_도루실책_SUM', '개인역량_도루실책_MAX', '개인역량_볼넷_SUM', '개인역량_볼넷_MEAN', '개인역량_볼넷_MAX', '개인역량_사구_SUM', '개인역량_사구_MAX', '개인역량_고의4구_SUM', '개인역량_고의4구_MEAN', '개인역량_고의4구_MAX', '개인역량_삼진_SUM', '개인역량_병살타_SUM', '개인역량_병살타_MAX', '개인역량_희생번트_SUM', '개인역량_희생플라이_SUM', '개인역량_희생플라이_MAX', '개인역량_투구_MEAN', '개인역량_투구_MAX', '개인역량_RE24_MEAN', '개인역량_RE24_MAX', '개인역량_RE24_STD', '개인역량_WPA_MEAN', '개인역량_WPA_MAX', '개인역량_WPA_STD', '개인역량_WPA/AVLI_MEAN', '개인역량_WPA/AVLI_STD', '개인역량_연봉_MEAN', '개인역량_상대별WPA_MEAN', '개인역량_배럴_MEAN', '개인역량_배럴_SUM', '개인역량_연봉/나이', '개인역량_상대팀별_배럴_합_H_H', '개인역량_상대팀별_배럴_합_H_T', '개인역량_상대팀별_배럴_합_K_T', '개인역량_상대팀별_배럴_합_L_G', '개인역량_상대팀별_배럴_합_L_T', '개인역량_상대팀별_배럴_합_N_C', '개인역량_상대팀별_배럴_합_O_B', '개인역량_상대팀별_배럴_합_S_K', '개인역량_상대팀별_배럴_합_S_S', '개인역량_상대팀별_배럴_합_W_O', '개인역량_상대팀별_배럴_평균H_H', '개인역량_상대팀별_배럴_평균H_T', '개인역량_상대팀별_배럴_평균K_T', '개인역량_상대팀별_배럴_평균L_G', '개인역량_상대팀별_배럴_평균L_T', '개인역량_상대팀별_배럴_평균N_C', '개인역량_상대팀별_배럴_평균O_B', '개인역량_상대팀별_배럴_평균S_K', '개인역량_상대팀별_배럴_평균S_S', '개인역량_상대팀별_배럴_평균W_O', '팀역량_W_SUM', '팀역량_D_SUM', '팀역량_L_SUM', '팀역량_팀점수_SUM', '시계열적_요일별_WPA/avLI_1', '시계열적_요일별_WPA/avLI_2', '시계열적_요일별_WPA/avLI_3', '시계열적_요일별_WPA/avLI_4', '시계열적_요일별_WPA/avLI_6', '시계열적_요일별_일타율_2', '시계열적_요일별_일타율_4', '시계열적_요일별_일타율_6', 'HH', 'HT', 'KT', 'LG', 'LT', 'NC', 'OB', 'SK', 'SS', 'WO']\n"
     ]
    }
   ],
   "source": [
    "print(X2_new.shape)\n",
    "print(X_test.columns[fs2.get_support()].tolist()) #get_support: 선택한 특성을 불린값으로 보여줘서 어떤 특성을 선택했는지 알 수 있다."
   ]
  },
  {
   "cell_type": "code",
   "execution_count": 120,
   "metadata": {},
   "outputs": [
    {
     "data": {
      "text/plain": [
       "['개인역량_배럴/장타',\n",
       " '개인역량_일타율_MEAN',\n",
       " '개인역량_타율_LAST',\n",
       " '개인역량_2타/타수',\n",
       " '연도',\n",
       " \"시계열적_('라운드', 'mean')\",\n",
       " '개인역량_병살타_MEAN',\n",
       " '개인역량_배럴/타구',\n",
       " '개인역량_루타/타수',\n",
       " '개인역량_출루율_LAST',\n",
       " '시계열적_요일별_일타율_1',\n",
       " '개인역량_AVLI_MEAN',\n",
       " '팀역량_팀점수_STD',\n",
       " '개인역량_배럴/타수',\n",
       " '개인역량_사구_MEAN',\n",
       " '개인역량_일타율_STD',\n",
       " '개인역량_삼진_MAX',\n",
       " '팀역량_팀점수_MEAN',\n",
       " '개인역량_타율_STD',\n",
       " '개인역량_희생번트_MEAN',\n",
       " '팀역량_최대연승_MAX',\n",
       " '시계열적_요일별_WPA/avLI_5',\n",
       " '개인역량_삼진_MEAN',\n",
       " '개인역량_3루타_MEAN',\n",
       " '시계열적_요일별_일타율_3',\n",
       " '개인역량_WPA/AVLI_MAX',\n",
       " '개인역량_나이_MEAN',\n",
       " '컨디션_이동거리_가중치_MEAN',\n",
       " '개인역량_OPS_LAST',\n",
       " '개인역량_안타/타수',\n",
       " '개인역량_장타율_LAST',\n",
       " '개인역량_AVLI_STD',\n",
       " '팀역량_팀점수_MAX',\n",
       " '개인역량_팀팀WPA_MEAN',\n",
       " '개인역량_도루실책_MEAN',\n",
       " \"시계열적_('월', 'mean')\",\n",
       " '컨디션_이동거리_가중치_STD',\n",
       " '개인역량_희생플라이_MEAN',\n",
       " '시계열적_요일별_일타율_5',\n",
       " '개인역량_홈런/타수',\n",
       " '개인역량_AVLI_MAX',\n",
       " '개인역량_희생번트_MAX',\n",
       " '개인역량_3타/타수']"
      ]
     },
     "execution_count": 120,
     "metadata": {},
     "output_type": "execute_result"
    }
   ],
   "source": [
    "list(set(X_test.columns) - set(X_test.columns[fs2.get_support()].tolist()))"
   ]
  },
  {
   "cell_type": "code",
   "execution_count": 121,
   "metadata": {},
   "outputs": [],
   "source": [
    "X2_new.columns = X_test.columns[fs2.get_support()].tolist()\n",
    "X_test_new2.columns = X_test.columns[fs2.get_support()].tolist()"
   ]
  },
  {
   "cell_type": "code",
   "execution_count": 122,
   "metadata": {},
   "outputs": [
    {
     "data": {
      "text/plain": [
       "((2374, 103), (10, 103))"
      ]
     },
     "execution_count": 122,
     "metadata": {},
     "output_type": "execute_result"
    }
   ],
   "source": [
    "X2_new.shape, X_test_new2.shape"
   ]
  },
  {
   "cell_type": "markdown",
   "metadata": {},
   "source": [
    "## HP Tuning\n",
    "### 출루율"
   ]
  },
  {
   "cell_type": "code",
   "execution_count": 127,
   "metadata": {
    "scrolled": true
   },
   "outputs": [
    {
     "data": {
      "text/plain": [
       "((1661, 79), (713, 79))"
      ]
     },
     "execution_count": 127,
     "metadata": {},
     "output_type": "execute_result"
    }
   ],
   "source": [
    "from sklearn.model_selection import train_test_split\n",
    "\n",
    "train_x, valid_x, train_y, valid_y = train_test_split(X1_new, y1, test_size=0.3, random_state=0)\n",
    "train_x.shape, valid_x.shape"
   ]
  },
  {
   "cell_type": "code",
   "execution_count": 128,
   "metadata": {},
   "outputs": [],
   "source": [
    "from bayes_opt import BayesianOptimization"
   ]
  },
  {
   "cell_type": "code",
   "execution_count": 129,
   "metadata": {},
   "outputs": [],
   "source": [
    "bayesian_params = {\n",
    "    'max_depth':(8, 24),\n",
    "    'min_samples_split':(8, 24),\n",
    "    'min_samples_leaf':(8, 24),\n",
    "}"
   ]
  },
  {
   "cell_type": "code",
   "execution_count": 130,
   "metadata": {},
   "outputs": [],
   "source": [
    "def rf_nmae_eval(max_depth, min_samples_split, min_samples_leaf):\n",
    "    \n",
    "    params = {\n",
    "        \"n_estimators\":2000, \n",
    "        'max_depth':int(round(max_depth)),\n",
    "        'min_samples_split': int(round(min_samples_split)),\n",
    "        'min_samples_leaf': int(round(min_samples_leaf)),\n",
    "    }\n",
    "    \n",
    "    rf_model = RandomForestRegressor(**params, n_jobs=-1)\n",
    "    rf_model.fit(train_x, train_y)\n",
    "    valid_pred = rf_model.predict(valid_x)\n",
    "    nmae = -NMAE(valid_y, valid_pred)\n",
    "    return nmae"
   ]
  },
  {
   "cell_type": "code",
   "execution_count": 131,
   "metadata": {},
   "outputs": [
    {
     "name": "stdout",
     "output_type": "stream",
     "text": [
      "|   iter    |  target   | max_depth | min_sa... | min_sa... |\n",
      "-------------------------------------------------------------\n",
      "| \u001b[0m 1       \u001b[0m | \u001b[0m-0.1126  \u001b[0m | \u001b[0m 16.78   \u001b[0m | \u001b[0m 19.44   \u001b[0m | \u001b[0m 17.64   \u001b[0m |\n",
      "| \u001b[0m 2       \u001b[0m | \u001b[0m-0.1126  \u001b[0m | \u001b[0m 16.72   \u001b[0m | \u001b[0m 14.78   \u001b[0m | \u001b[0m 18.33   \u001b[0m |\n",
      "| \u001b[95m 3       \u001b[0m | \u001b[95m-0.1122  \u001b[0m | \u001b[95m 15.0    \u001b[0m | \u001b[95m 22.27   \u001b[0m | \u001b[95m 23.42   \u001b[0m |\n",
      "| \u001b[0m 4       \u001b[0m | \u001b[0m-0.1125  \u001b[0m | \u001b[0m 14.14   \u001b[0m | \u001b[0m 20.67   \u001b[0m | \u001b[0m 16.46   \u001b[0m |\n",
      "| \u001b[0m 5       \u001b[0m | \u001b[0m-0.1123  \u001b[0m | \u001b[0m 17.09   \u001b[0m | \u001b[0m 22.81   \u001b[0m | \u001b[0m 9.137   \u001b[0m |\n",
      "| \u001b[0m 6       \u001b[0m | \u001b[0m-0.1133  \u001b[0m | \u001b[0m 9.394   \u001b[0m | \u001b[0m 8.323   \u001b[0m | \u001b[0m 21.32   \u001b[0m |\n",
      "| \u001b[0m 7       \u001b[0m | \u001b[0m-0.1124  \u001b[0m | \u001b[0m 20.45   \u001b[0m | \u001b[0m 21.92   \u001b[0m | \u001b[0m 23.66   \u001b[0m |\n",
      "| \u001b[0m 8       \u001b[0m | \u001b[0m-0.1126  \u001b[0m | \u001b[0m 20.79   \u001b[0m | \u001b[0m 15.38   \u001b[0m | \u001b[0m 20.49   \u001b[0m |\n",
      "| \u001b[0m 9       \u001b[0m | \u001b[0m-0.1124  \u001b[0m | \u001b[0m 9.892   \u001b[0m | \u001b[0m 18.24   \u001b[0m | \u001b[0m 10.29   \u001b[0m |\n",
      "| \u001b[0m 10      \u001b[0m | \u001b[0m-0.1126  \u001b[0m | \u001b[0m 23.11   \u001b[0m | \u001b[0m 16.35   \u001b[0m | \u001b[0m 14.63   \u001b[0m |\n",
      "| \u001b[0m 11      \u001b[0m | \u001b[0m-0.1124  \u001b[0m | \u001b[0m 12.23   \u001b[0m | \u001b[0m 20.39   \u001b[0m | \u001b[0m 15.3    \u001b[0m |\n",
      "| \u001b[0m 12      \u001b[0m | \u001b[0m-0.1132  \u001b[0m | \u001b[0m 17.09   \u001b[0m | \u001b[0m 8.301   \u001b[0m | \u001b[0m 17.88   \u001b[0m |\n",
      "| \u001b[0m 13      \u001b[0m | \u001b[0m-0.1125  \u001b[0m | \u001b[0m 17.79   \u001b[0m | \u001b[0m 17.87   \u001b[0m | \u001b[0m 23.1    \u001b[0m |\n",
      "| \u001b[0m 14      \u001b[0m | \u001b[0m-0.1127  \u001b[0m | \u001b[0m 18.91   \u001b[0m | \u001b[0m 13.75   \u001b[0m | \u001b[0m 14.99   \u001b[0m |\n",
      "| \u001b[0m 15      \u001b[0m | \u001b[0m-0.1131  \u001b[0m | \u001b[0m 19.16   \u001b[0m | \u001b[0m 8.964   \u001b[0m | \u001b[0m 18.67   \u001b[0m |\n",
      "| \u001b[0m 16      \u001b[0m | \u001b[0m-0.1128  \u001b[0m | \u001b[0m 18.73   \u001b[0m | \u001b[0m 11.37   \u001b[0m | \u001b[0m 10.06   \u001b[0m |\n",
      "| \u001b[0m 17      \u001b[0m | \u001b[0m-0.1126  \u001b[0m | \u001b[0m 13.05   \u001b[0m | \u001b[0m 13.82   \u001b[0m | \u001b[0m 17.12   \u001b[0m |\n",
      "| \u001b[0m 18      \u001b[0m | \u001b[0m-0.1123  \u001b[0m | \u001b[0m 15.02   \u001b[0m | \u001b[0m 23.81   \u001b[0m | \u001b[0m 9.633   \u001b[0m |\n",
      "| \u001b[0m 19      \u001b[0m | \u001b[0m-0.113   \u001b[0m | \u001b[0m 11.34   \u001b[0m | \u001b[0m 10.58   \u001b[0m | \u001b[0m 18.45   \u001b[0m |\n",
      "| \u001b[0m 20      \u001b[0m | \u001b[0m-0.1126  \u001b[0m | \u001b[0m 12.05   \u001b[0m | \u001b[0m 15.46   \u001b[0m | \u001b[0m 11.91   \u001b[0m |\n",
      "| \u001b[0m 21      \u001b[0m | \u001b[0m-0.1131  \u001b[0m | \u001b[0m 10.54   \u001b[0m | \u001b[0m 9.766   \u001b[0m | \u001b[0m 18.5    \u001b[0m |\n",
      "| \u001b[0m 22      \u001b[0m | \u001b[0m-0.113   \u001b[0m | \u001b[0m 10.21   \u001b[0m | \u001b[0m 11.15   \u001b[0m | \u001b[0m 13.9    \u001b[0m |\n",
      "| \u001b[0m 23      \u001b[0m | \u001b[0m-0.113   \u001b[0m | \u001b[0m 21.14   \u001b[0m | \u001b[0m 9.554   \u001b[0m | \u001b[0m 21.41   \u001b[0m |\n",
      "| \u001b[0m 24      \u001b[0m | \u001b[0m-0.1123  \u001b[0m | \u001b[0m 9.538   \u001b[0m | \u001b[0m 23.62   \u001b[0m | \u001b[0m 15.5    \u001b[0m |\n",
      "| \u001b[0m 25      \u001b[0m | \u001b[0m-0.1123  \u001b[0m | \u001b[0m 23.63   \u001b[0m | \u001b[0m 17.68   \u001b[0m | \u001b[0m 19.83   \u001b[0m |\n",
      "| \u001b[0m 26      \u001b[0m | \u001b[0m-0.1123  \u001b[0m | \u001b[0m 8.0     \u001b[0m | \u001b[0m 23.19   \u001b[0m | \u001b[0m 24.0    \u001b[0m |\n",
      "| \u001b[0m 27      \u001b[0m | \u001b[0m-0.1124  \u001b[0m | \u001b[0m 24.0    \u001b[0m | \u001b[0m 24.0    \u001b[0m | \u001b[0m 8.0     \u001b[0m |\n",
      "| \u001b[0m 28      \u001b[0m | \u001b[0m-0.1124  \u001b[0m | \u001b[0m 8.0     \u001b[0m | \u001b[0m 24.0    \u001b[0m | \u001b[0m 8.0     \u001b[0m |\n",
      "| \u001b[0m 29      \u001b[0m | \u001b[0m-0.1123  \u001b[0m | \u001b[0m 24.0    \u001b[0m | \u001b[0m 24.0    \u001b[0m | \u001b[0m 17.04   \u001b[0m |\n",
      "| \u001b[0m 30      \u001b[0m | \u001b[0m-0.1123  \u001b[0m | \u001b[0m 8.127   \u001b[0m | \u001b[0m 19.55   \u001b[0m | \u001b[0m 19.52   \u001b[0m |\n",
      "| \u001b[0m 31      \u001b[0m | \u001b[0m-0.1123  \u001b[0m | \u001b[0m 11.1    \u001b[0m | \u001b[0m 19.71   \u001b[0m | \u001b[0m 23.94   \u001b[0m |\n",
      "| \u001b[0m 32      \u001b[0m | \u001b[0m-0.1124  \u001b[0m | \u001b[0m 12.06   \u001b[0m | \u001b[0m 24.0    \u001b[0m | \u001b[0m 24.0    \u001b[0m |\n",
      "| \u001b[0m 33      \u001b[0m | \u001b[0m-0.1124  \u001b[0m | \u001b[0m 8.0     \u001b[0m | \u001b[0m 20.23   \u001b[0m | \u001b[0m 13.72   \u001b[0m |\n",
      "| \u001b[0m 34      \u001b[0m | \u001b[0m-0.1124  \u001b[0m | \u001b[0m 13.71   \u001b[0m | \u001b[0m 19.96   \u001b[0m | \u001b[0m 8.077   \u001b[0m |\n",
      "| \u001b[95m 35      \u001b[0m | \u001b[95m-0.1122  \u001b[0m | \u001b[95m 20.68   \u001b[0m | \u001b[95m 24.0    \u001b[0m | \u001b[95m 11.72   \u001b[0m |\n",
      "| \u001b[0m 36      \u001b[0m | \u001b[0m-0.1124  \u001b[0m | \u001b[0m 19.31   \u001b[0m | \u001b[0m 23.74   \u001b[0m | \u001b[0m 8.089   \u001b[0m |\n",
      "| \u001b[0m 37      \u001b[0m | \u001b[0m-0.1122  \u001b[0m | \u001b[0m 24.0    \u001b[0m | \u001b[0m 23.54   \u001b[0m | \u001b[0m 12.88   \u001b[0m |\n",
      "| \u001b[0m 38      \u001b[0m | \u001b[0m-0.1123  \u001b[0m | \u001b[0m 8.0     \u001b[0m | \u001b[0m 24.0    \u001b[0m | \u001b[0m 20.3    \u001b[0m |\n",
      "| \u001b[0m 39      \u001b[0m | \u001b[0m-0.1124  \u001b[0m | \u001b[0m 23.99   \u001b[0m | \u001b[0m 18.55   \u001b[0m | \u001b[0m 23.84   \u001b[0m |\n",
      "| \u001b[0m 40      \u001b[0m | \u001b[0m-0.1122  \u001b[0m | \u001b[0m 20.4    \u001b[0m | \u001b[0m 21.09   \u001b[0m | \u001b[0m 11.02   \u001b[0m |\n",
      "| \u001b[0m 41      \u001b[0m | \u001b[0m-0.1124  \u001b[0m | \u001b[0m 8.167   \u001b[0m | \u001b[0m 20.75   \u001b[0m | \u001b[0m 22.2    \u001b[0m |\n",
      "| \u001b[0m 42      \u001b[0m | \u001b[0m-0.1125  \u001b[0m | \u001b[0m 23.93   \u001b[0m | \u001b[0m 18.37   \u001b[0m | \u001b[0m 8.023   \u001b[0m |\n",
      "| \u001b[0m 43      \u001b[0m | \u001b[0m-0.1123  \u001b[0m | \u001b[0m 23.93   \u001b[0m | \u001b[0m 23.89   \u001b[0m | \u001b[0m 22.25   \u001b[0m |\n",
      "| \u001b[95m 44      \u001b[0m | \u001b[95m-0.1122  \u001b[0m | \u001b[95m 17.62   \u001b[0m | \u001b[95m 23.71   \u001b[0m | \u001b[95m 12.97   \u001b[0m |\n",
      "| \u001b[0m 45      \u001b[0m | \u001b[0m-0.1123  \u001b[0m | \u001b[0m 20.71   \u001b[0m | \u001b[0m 23.61   \u001b[0m | \u001b[0m 15.0    \u001b[0m |\n",
      "| \u001b[95m 46      \u001b[0m | \u001b[95m-0.1122  \u001b[0m | \u001b[95m 17.22   \u001b[0m | \u001b[95m 24.0    \u001b[0m | \u001b[95m 20.81   \u001b[0m |\n",
      "| \u001b[0m 47      \u001b[0m | \u001b[0m-0.1123  \u001b[0m | \u001b[0m 17.15   \u001b[0m | \u001b[0m 23.71   \u001b[0m | \u001b[0m 23.94   \u001b[0m |\n",
      "| \u001b[0m 48      \u001b[0m | \u001b[0m-0.1123  \u001b[0m | \u001b[0m 20.2    \u001b[0m | \u001b[0m 24.0    \u001b[0m | \u001b[0m 19.87   \u001b[0m |\n",
      "| \u001b[0m 49      \u001b[0m | \u001b[0m-0.1122  \u001b[0m | \u001b[0m 15.28   \u001b[0m | \u001b[0m 24.0    \u001b[0m | \u001b[0m 19.45   \u001b[0m |\n",
      "| \u001b[0m 50      \u001b[0m | \u001b[0m-0.1124  \u001b[0m | \u001b[0m 11.59   \u001b[0m | \u001b[0m 19.54   \u001b[0m | \u001b[0m 20.48   \u001b[0m |\n",
      "=============================================================\n"
     ]
    }
   ],
   "source": [
    "lgbBO = BayesianOptimization(f=rf_nmae_eval, pbounds=bayesian_params, random_state=0)\n",
    "lgbBO.maximize(init_points=25, n_iter=25)"
   ]
  },
  {
   "cell_type": "code",
   "execution_count": 132,
   "metadata": {},
   "outputs": [
    {
     "data": {
      "text/plain": [
       "[{'target': -0.1125529903818588,\n",
       "  'params': {'max_depth': 16.781016062837196,\n",
       "   'min_samples_leaf': 19.443029861958713,\n",
       "   'min_samples_split': 17.644214017146304}},\n",
       " {'target': -0.11263111699012149,\n",
       "  'params': {'max_depth': 16.718130927950348,\n",
       "   'min_samples_leaf': 14.778476789422475,\n",
       "   'min_samples_split': 18.3343058090665}},\n",
       " {'target': -0.11223314266015609,\n",
       "  'params': {'max_depth': 15.00139538020308,\n",
       "   'min_samples_leaf': 22.268368012513278,\n",
       "   'min_samples_split': 23.41860416801647}},\n",
       " {'target': -0.11248205510811143,\n",
       "  'params': {'max_depth': 14.135064301212443,\n",
       "   'min_samples_leaf': 20.667600609322633,\n",
       "   'min_samples_split': 16.46231871604647}},\n",
       " {'target': -0.11227767508603743,\n",
       "  'params': {'max_depth': 17.088712977502915,\n",
       "   'min_samples_leaf': 22.809546212682577,\n",
       "   'min_samples_split': 9.136576931166191}},\n",
       " {'target': -0.11330688053190452,\n",
       "  'params': {'max_depth': 9.394068795224651,\n",
       "   'min_samples_leaf': 8.323494359045212,\n",
       "   'min_samples_split': 21.32191752876701}},\n",
       " {'target': -0.11241507186658986,\n",
       "  'params': {'max_depth': 20.450508015197606,\n",
       "   'min_samples_leaf': 21.92019437194911,\n",
       "   'min_samples_split': 23.657893475724222}},\n",
       " {'target': -0.1125863663139037,\n",
       "  'params': {'max_depth': 20.786537027467578,\n",
       "   'min_samples_leaf': 15.38366979604691,\n",
       "   'min_samples_split': 20.488466820583287}},\n",
       " {'target': -0.11238787813493915,\n",
       "  'params': {'max_depth': 9.892390813902932,\n",
       "   'min_samples_leaf': 18.238736341240383,\n",
       "   'min_samples_split': 10.293652598544742}},\n",
       " {'target': -0.11260402931452144,\n",
       "  'params': {'max_depth': 23.114702672793342,\n",
       "   'min_samples_leaf': 16.34957314800115,\n",
       "   'min_samples_split': 14.634591039848377}},\n",
       " {'target': -0.1123618635081815,\n",
       "  'params': {'max_depth': 12.232889793674032,\n",
       "   'min_samples_leaf': 20.387739030947465,\n",
       "   'min_samples_split': 15.298405315464777}},\n",
       " {'target': -0.11320755978111297,\n",
       "  'params': {'max_depth': 17.094943181898376,\n",
       "   'min_samples_leaf': 8.300636806981682,\n",
       "   'min_samples_split': 17.882167953214033}},\n",
       " {'target': -0.11249659700136966,\n",
       "  'params': {'max_depth': 17.793531563558744,\n",
       "   'min_samples_leaf': 17.87094394999611,\n",
       "   'min_samples_split': 23.099969256233987}},\n",
       " {'target': -0.11268882577534628,\n",
       "  'params': {'max_depth': 18.909124785655735,\n",
       "   'min_samples_leaf': 13.752126409180576,\n",
       "   'min_samples_split': 14.992511260789463}},\n",
       " {'target': -0.11308300078966142,\n",
       "  'params': {'max_depth': 19.16209913483624,\n",
       "   'min_samples_leaf': 8.963607546068317,\n",
       "   'min_samples_split': 18.66826744713068}},\n",
       " {'target': -0.11283456114158219,\n",
       "  'params': {'max_depth': 18.73020591389055,\n",
       "   'min_samples_leaf': 11.366120977181454,\n",
       "   'min_samples_split': 10.062820762477653}},\n",
       " {'target': -0.11260517060902504,\n",
       "  'params': {'max_depth': 13.046853614786942,\n",
       "   'min_samples_leaf': 13.819372335081962,\n",
       "   'min_samples_split': 17.123148326686074}},\n",
       " {'target': -0.11233092078586994,\n",
       "  'params': {'max_depth': 15.017624215397126,\n",
       "   'min_samples_leaf': 23.81398140894762,\n",
       "   'min_samples_split': 9.63271697196845}},\n",
       " {'target': -0.11297171912214003,\n",
       "  'params': {'max_depth': 11.342028097517355,\n",
       "   'min_samples_leaf': 10.58095228615994,\n",
       "   'min_samples_split': 18.449733207446375}},\n",
       " {'target': -0.11263242398643335,\n",
       "  'params': {'max_depth': 12.052665640636514,\n",
       "   'min_samples_leaf': 15.4609723657009,\n",
       "   'min_samples_split': 11.910809472025644}},\n",
       " {'target': -0.1130594608090315,\n",
       "  'params': {'max_depth': 10.543513338328315,\n",
       "   'min_samples_leaf': 9.766002258628882,\n",
       "   'min_samples_split': 18.501273431444375}},\n",
       " {'target': -0.11299777900333977,\n",
       "  'params': {'max_depth': 10.21092722157782,\n",
       "   'min_samples_leaf': 11.145317786880856,\n",
       "   'min_samples_split': 13.899602730575426}},\n",
       " {'target': -0.11303831943635395,\n",
       "  'params': {'max_depth': 21.13589167756696,\n",
       "   'min_samples_leaf': 9.55362041268898,\n",
       "   'min_samples_split': 21.407118519980862}},\n",
       " {'target': -0.11234707696375956,\n",
       "  'params': {'max_depth': 9.537574526303409,\n",
       "   'min_samples_leaf': 23.623351440214332,\n",
       "   'min_samples_split': 15.498419226363225}},\n",
       " {'target': -0.11231684881762569,\n",
       "  'params': {'max_depth': 23.628177411045392,\n",
       "   'min_samples_leaf': 17.677528315920735,\n",
       "   'min_samples_split': 19.828217270372825}},\n",
       " {'target': -0.11226356506931577,\n",
       "  'params': {'max_depth': 8.0,\n",
       "   'min_samples_leaf': 23.19160984870837,\n",
       "   'min_samples_split': 24.0}},\n",
       " {'target': -0.11235875461725037,\n",
       "  'params': {'max_depth': 24.0,\n",
       "   'min_samples_leaf': 24.0,\n",
       "   'min_samples_split': 8.0}},\n",
       " {'target': -0.11235148131940383,\n",
       "  'params': {'max_depth': 8.0,\n",
       "   'min_samples_leaf': 24.0,\n",
       "   'min_samples_split': 8.0}},\n",
       " {'target': -0.11230936966962984,\n",
       "  'params': {'max_depth': 24.0,\n",
       "   'min_samples_leaf': 24.0,\n",
       "   'min_samples_split': 17.038612030059205}},\n",
       " {'target': -0.11227958281483516,\n",
       "  'params': {'max_depth': 8.127414340164963,\n",
       "   'min_samples_leaf': 19.54820981247662,\n",
       "   'min_samples_split': 19.524108814770017}},\n",
       " {'target': -0.11230077289057998,\n",
       "  'params': {'max_depth': 11.102954394615896,\n",
       "   'min_samples_leaf': 19.713867604663356,\n",
       "   'min_samples_split': 23.93964695943862}},\n",
       " {'target': -0.1123880781901863,\n",
       "  'params': {'max_depth': 12.056987401873217,\n",
       "   'min_samples_leaf': 24.0,\n",
       "   'min_samples_split': 24.0}},\n",
       " {'target': -0.11239392854435552,\n",
       "  'params': {'max_depth': 8.0,\n",
       "   'min_samples_leaf': 20.23450092113275,\n",
       "   'min_samples_split': 13.721149617132411}},\n",
       " {'target': -0.11243960958208193,\n",
       "  'params': {'max_depth': 13.711826340548113,\n",
       "   'min_samples_leaf': 19.956086026750096,\n",
       "   'min_samples_split': 8.07690871864324}},\n",
       " {'target': -0.11221913009206716,\n",
       "  'params': {'max_depth': 20.677823283265973,\n",
       "   'min_samples_leaf': 24.0,\n",
       "   'min_samples_split': 11.717058181010332}},\n",
       " {'target': -0.11237231439491357,\n",
       "  'params': {'max_depth': 19.307999729057066,\n",
       "   'min_samples_leaf': 23.744088893723216,\n",
       "   'min_samples_split': 8.088609762998205}},\n",
       " {'target': -0.11223699719386479,\n",
       "  'params': {'max_depth': 24.0,\n",
       "   'min_samples_leaf': 23.54411186491327,\n",
       "   'min_samples_split': 12.8804616574764}},\n",
       " {'target': -0.11227126682930028,\n",
       "  'params': {'max_depth': 8.0,\n",
       "   'min_samples_leaf': 24.0,\n",
       "   'min_samples_split': 20.29992347332924}},\n",
       " {'target': -0.11240202140959797,\n",
       "  'params': {'max_depth': 23.98885851661406,\n",
       "   'min_samples_leaf': 18.55449984842018,\n",
       "   'min_samples_split': 23.83720698441832}},\n",
       " {'target': -0.11224712861880891,\n",
       "  'params': {'max_depth': 20.399362157181073,\n",
       "   'min_samples_leaf': 21.088990234199912,\n",
       "   'min_samples_split': 11.01792802440814}},\n",
       " {'target': -0.11235325925831396,\n",
       "  'params': {'max_depth': 8.166978666241882,\n",
       "   'min_samples_leaf': 20.750464976977014,\n",
       "   'min_samples_split': 22.202827536974212}},\n",
       " {'target': -0.11247590798339412,\n",
       "  'params': {'max_depth': 23.92983874937143,\n",
       "   'min_samples_leaf': 18.37460768727442,\n",
       "   'min_samples_split': 8.02274474674799}},\n",
       " {'target': -0.11234654238081113,\n",
       "  'params': {'max_depth': 23.93027480165412,\n",
       "   'min_samples_leaf': 23.893339243638515,\n",
       "   'min_samples_split': 22.24996615399179}},\n",
       " {'target': -0.1122174672008869,\n",
       "  'params': {'max_depth': 17.618676551947267,\n",
       "   'min_samples_leaf': 23.707025666067352,\n",
       "   'min_samples_split': 12.968382006384953}},\n",
       " {'target': -0.11226857468966396,\n",
       "  'params': {'max_depth': 20.708329038752566,\n",
       "   'min_samples_leaf': 23.61056781425639,\n",
       "   'min_samples_split': 15.002456299696153}},\n",
       " {'target': -0.1121700578084645,\n",
       "  'params': {'max_depth': 17.22384273039365,\n",
       "   'min_samples_leaf': 23.99568945964228,\n",
       "   'min_samples_split': 20.81299694397169}},\n",
       " {'target': -0.11228500136797866,\n",
       "  'params': {'max_depth': 17.145262459803106,\n",
       "   'min_samples_leaf': 23.70968898082627,\n",
       "   'min_samples_split': 23.943893697986404}},\n",
       " {'target': -0.11226230515332851,\n",
       "  'params': {'max_depth': 20.199332705408416,\n",
       "   'min_samples_leaf': 24.0,\n",
       "   'min_samples_split': 19.868569953521934}},\n",
       " {'target': -0.11221852535024222,\n",
       "  'params': {'max_depth': 15.280149880025732,\n",
       "   'min_samples_leaf': 24.0,\n",
       "   'min_samples_split': 19.451507761188775}},\n",
       " {'target': -0.11244953209569973,\n",
       "  'params': {'max_depth': 11.588877372956667,\n",
       "   'min_samples_leaf': 19.541041865424212,\n",
       "   'min_samples_split': 20.481954046874066}}]"
      ]
     },
     "execution_count": 132,
     "metadata": {},
     "output_type": "execute_result"
    }
   ],
   "source": [
    "lgbBO.res"
   ]
  },
  {
   "cell_type": "code",
   "execution_count": 133,
   "metadata": {
    "scrolled": true
   },
   "outputs": [
    {
     "name": "stdout",
     "output_type": "stream",
     "text": [
      "[-0.1125529903818588, -0.11263111699012149, -0.11223314266015609, -0.11248205510811143, -0.11227767508603743, -0.11330688053190452, -0.11241507186658986, -0.1125863663139037, -0.11238787813493915, -0.11260402931452144, -0.1123618635081815, -0.11320755978111297, -0.11249659700136966, -0.11268882577534628, -0.11308300078966142, -0.11283456114158219, -0.11260517060902504, -0.11233092078586994, -0.11297171912214003, -0.11263242398643335, -0.1130594608090315, -0.11299777900333977, -0.11303831943635395, -0.11234707696375956, -0.11231684881762569, -0.11226356506931577, -0.11235875461725037, -0.11235148131940383, -0.11230936966962984, -0.11227958281483516, -0.11230077289057998, -0.1123880781901863, -0.11239392854435552, -0.11243960958208193, -0.11221913009206716, -0.11237231439491357, -0.11223699719386479, -0.11227126682930028, -0.11240202140959797, -0.11224712861880891, -0.11235325925831396, -0.11247590798339412, -0.11234654238081113, -0.1122174672008869, -0.11226857468966396, -0.1121700578084645, -0.11228500136797866, -0.11226230515332851, -0.11221852535024222, -0.11244953209569973]\n",
      "maximum target index: 45\n"
     ]
    }
   ],
   "source": [
    "# dictionary에 있는 target값을 모두 추출\n",
    "target_list = []\n",
    "for result in lgbBO.res:\n",
    "    target = result['target']\n",
    "    target_list.append(target)\n",
    "print(target_list)\n",
    "# 가장 큰 target 값을 가지는 순번(index)를 추출\n",
    "print('maximum target index:', np.argmax(np.array(target_list)))"
   ]
  },
  {
   "cell_type": "code",
   "execution_count": 134,
   "metadata": {},
   "outputs": [
    {
     "name": "stdout",
     "output_type": "stream",
     "text": [
      "{'target': -0.1121700578084645, 'params': {'max_depth': 17.22384273039365, 'min_samples_leaf': 23.99568945964228, 'min_samples_split': 20.81299694397169}}\n"
     ]
    }
   ],
   "source": [
    "# 가장 큰 target값을 가지는 index값을 기준으로 res에서 해당 parameter 추출. \n",
    "max_dict = lgbBO.res[np.argmax(np.array(target_list))]\n",
    "print(max_dict)"
   ]
  },
  {
   "cell_type": "code",
   "execution_count": 289,
   "metadata": {
    "code_folding": []
   },
   "outputs": [],
   "source": [
    "from sklearn.model_selection import KFold\n",
    "\n",
    "def train_apps_all_with_oof1(ftr, target, nfolds=5):\n",
    "    ftr = ftr\n",
    "    target = target\n",
    "\n",
    "    # nfolds 개의 cross validatin fold set을 가지는 KFold 생성 \n",
    "    folds = KFold(n_splits=nfolds, shuffle=True, random_state=0)\n",
    "    \n",
    "    # Out of Folds로 학습된 모델의 validation set을 예측하여 결과 확률을 담을 array 생성.\n",
    "    # validation set가 n_split갯수만큼 있으므로 크기는 ftr_app의 크기가 되어야 함. \n",
    "    oof_preds = np.zeros((ftr.shape[0],))  \n",
    "    \n",
    "    # Ouf of Folds로 학습된 모델의 test dataset을 예측하여 결과 확률을 담을 array 생성. \n",
    "    test_preds = np.zeros(((X_test.shape[0],)))\n",
    "    \n",
    "    # n_estimators를 4000까지 확대. \n",
    "    rf = RandomForestRegressor(\n",
    "                n_jobs=-1,\n",
    "                n_estimators=4000,\n",
    "                max_depth=17,\n",
    "                min_samples_split=21,\n",
    "                min_samples_leaf=24,\n",
    "                )\n",
    "\n",
    "    # nfolds 번 cross validation Iteration 반복하면서 OOF 방식으로 학습 및 테스트 데이터 예측\n",
    "    for fold_idx, (train_idx, valid_idx) in enumerate(folds.split(ftr)):\n",
    "        print('##### iteration ', fold_idx, ' 시작')\n",
    "        # 학습용 데이터 세트의 인덱스와 검증용 데이터 세트의 인덱스 추출하여 이를 기반으로 학습/검증 데이터 추출\n",
    "        train_x = ftr.iloc[train_idx, :]\n",
    "        train_y = target.iloc[train_idx]\n",
    "        valid_x = ftr.iloc[valid_idx, :]\n",
    "        valid_y = target.iloc[valid_idx]\n",
    "        \n",
    "        # 추출된 학습/검증 데이터 세트로 모델 학습. early_stopping은 200으로 증가. \n",
    "        rf.fit(train_x, train_y)\n",
    "        # 검증 데이터 세트로 예측된 확률 저장. 사용되지는 않음. \n",
    "        #oof_preds[valid_idx] = clf.predict(valid_x, num_iteration=clf.best_iteration_)       \n",
    "        # 학습된 모델로 테스트 데이터 세트에 예측 확률 계산. \n",
    "        # nfolds 번 반복 실행하므로 평균 확률을 구하기 위해 개별 수행시 마다 수행 횟수로 나눈 확률을 추후에 더해서 최종 평균 확률 계산. \n",
    "        test_preds += rf.predict(X_test_new1)/folds.n_splits\n",
    "        \n",
    "        \n",
    "    return rf, test_preds"
   ]
  },
  {
   "cell_type": "code",
   "execution_count": 198,
   "metadata": {
    "scrolled": true
   },
   "outputs": [
    {
     "name": "stdout",
     "output_type": "stream",
     "text": [
      "##### iteration  0  시작\n",
      "##### iteration  1  시작\n",
      "##### iteration  2  시작\n",
      "##### iteration  3  시작\n",
      "##### iteration  4  시작\n"
     ]
    }
   ],
   "source": [
    "rf1, rf_preds_1 = train_apps_all_with_oof(X1_new, y1, nfolds=5)"
   ]
  },
  {
   "cell_type": "code",
   "execution_count": 199,
   "metadata": {},
   "outputs": [
    {
     "data": {
      "text/plain": [
       "array([0.47021491, 0.44512995, 0.50821476, 0.50360056, 0.51142185,\n",
       "       0.4891775 , 0.44188975, 0.50811862, 0.50773064, 0.44052968])"
      ]
     },
     "execution_count": 199,
     "metadata": {},
     "output_type": "execute_result"
    }
   ],
   "source": [
    "rf_preds_1"
   ]
  },
  {
   "cell_type": "markdown",
   "metadata": {},
   "source": [
    "### 장타율"
   ]
  },
  {
   "cell_type": "code",
   "execution_count": 138,
   "metadata": {},
   "outputs": [
    {
     "data": {
      "text/plain": [
       "((1661, 104), (713, 104))"
      ]
     },
     "execution_count": 138,
     "metadata": {},
     "output_type": "execute_result"
    }
   ],
   "source": [
    "train_x, valid_x, train_y, valid_y = train_test_split(X2_new, y2, test_size=0.3, random_state=0)\n",
    "train_x.shape, valid_x.shape"
   ]
  },
  {
   "cell_type": "code",
   "execution_count": 139,
   "metadata": {},
   "outputs": [],
   "source": [
    "def rf_nmae_eval(max_depth, min_samples_split, min_samples_leaf):\n",
    "    \n",
    "    params = {\n",
    "        \"n_estimators\":2000, \n",
    "        'max_depth':int(round(max_depth)),\n",
    "        'min_samples_split': int(round(min_samples_split)),\n",
    "        'min_samples_leaf': int(round(min_samples_leaf)),\n",
    "    }\n",
    "    \n",
    "    rf_model = RandomForestRegressor(**params, n_jobs=-1)\n",
    "    rf_model.fit(train_x, train_y)\n",
    "    valid_pred = rf_model.predict(valid_x)\n",
    "    nmae = -NMAE(valid_y, valid_pred)\n",
    "    return nmae"
   ]
  },
  {
   "cell_type": "code",
   "execution_count": 140,
   "metadata": {},
   "outputs": [
    {
     "name": "stdout",
     "output_type": "stream",
     "text": [
      "|   iter    |  target   | max_depth | min_sa... | min_sa... |\n",
      "-------------------------------------------------------------\n",
      "| \u001b[0m 1       \u001b[0m | \u001b[0m-0.1683  \u001b[0m | \u001b[0m 16.78   \u001b[0m | \u001b[0m 19.44   \u001b[0m | \u001b[0m 17.64   \u001b[0m |\n",
      "| \u001b[95m 2       \u001b[0m | \u001b[95m-0.1683  \u001b[0m | \u001b[95m 16.72   \u001b[0m | \u001b[95m 14.78   \u001b[0m | \u001b[95m 18.33   \u001b[0m |\n",
      "| \u001b[0m 3       \u001b[0m | \u001b[0m-0.1683  \u001b[0m | \u001b[0m 15.0    \u001b[0m | \u001b[0m 22.27   \u001b[0m | \u001b[0m 23.42   \u001b[0m |\n",
      "| \u001b[0m 4       \u001b[0m | \u001b[0m-0.1684  \u001b[0m | \u001b[0m 14.14   \u001b[0m | \u001b[0m 20.67   \u001b[0m | \u001b[0m 16.46   \u001b[0m |\n",
      "| \u001b[0m 5       \u001b[0m | \u001b[0m-0.1683  \u001b[0m | \u001b[0m 17.09   \u001b[0m | \u001b[0m 22.81   \u001b[0m | \u001b[0m 9.137   \u001b[0m |\n",
      "| \u001b[0m 6       \u001b[0m | \u001b[0m-0.1683  \u001b[0m | \u001b[0m 9.394   \u001b[0m | \u001b[0m 8.323   \u001b[0m | \u001b[0m 21.32   \u001b[0m |\n",
      "| \u001b[95m 7       \u001b[0m | \u001b[95m-0.1681  \u001b[0m | \u001b[95m 20.45   \u001b[0m | \u001b[95m 21.92   \u001b[0m | \u001b[95m 23.66   \u001b[0m |\n",
      "| \u001b[0m 8       \u001b[0m | \u001b[0m-0.1684  \u001b[0m | \u001b[0m 20.79   \u001b[0m | \u001b[0m 15.38   \u001b[0m | \u001b[0m 20.49   \u001b[0m |\n",
      "| \u001b[0m 9       \u001b[0m | \u001b[0m-0.1682  \u001b[0m | \u001b[0m 9.892   \u001b[0m | \u001b[0m 18.24   \u001b[0m | \u001b[0m 10.29   \u001b[0m |\n",
      "| \u001b[0m 10      \u001b[0m | \u001b[0m-0.1682  \u001b[0m | \u001b[0m 23.11   \u001b[0m | \u001b[0m 16.35   \u001b[0m | \u001b[0m 14.63   \u001b[0m |\n",
      "| \u001b[0m 11      \u001b[0m | \u001b[0m-0.1683  \u001b[0m | \u001b[0m 12.23   \u001b[0m | \u001b[0m 20.39   \u001b[0m | \u001b[0m 15.3    \u001b[0m |\n",
      "| \u001b[0m 12      \u001b[0m | \u001b[0m-0.1686  \u001b[0m | \u001b[0m 17.09   \u001b[0m | \u001b[0m 8.301   \u001b[0m | \u001b[0m 17.88   \u001b[0m |\n",
      "| \u001b[0m 13      \u001b[0m | \u001b[0m-0.1682  \u001b[0m | \u001b[0m 17.79   \u001b[0m | \u001b[0m 17.87   \u001b[0m | \u001b[0m 23.1    \u001b[0m |\n",
      "| \u001b[0m 14      \u001b[0m | \u001b[0m-0.1684  \u001b[0m | \u001b[0m 18.91   \u001b[0m | \u001b[0m 13.75   \u001b[0m | \u001b[0m 14.99   \u001b[0m |\n",
      "| \u001b[0m 15      \u001b[0m | \u001b[0m-0.1683  \u001b[0m | \u001b[0m 19.16   \u001b[0m | \u001b[0m 8.964   \u001b[0m | \u001b[0m 18.67   \u001b[0m |\n",
      "| \u001b[0m 16      \u001b[0m | \u001b[0m-0.1685  \u001b[0m | \u001b[0m 18.73   \u001b[0m | \u001b[0m 11.37   \u001b[0m | \u001b[0m 10.06   \u001b[0m |\n",
      "| \u001b[0m 17      \u001b[0m | \u001b[0m-0.1684  \u001b[0m | \u001b[0m 13.05   \u001b[0m | \u001b[0m 13.82   \u001b[0m | \u001b[0m 17.12   \u001b[0m |\n",
      "| \u001b[0m 18      \u001b[0m | \u001b[0m-0.1684  \u001b[0m | \u001b[0m 15.02   \u001b[0m | \u001b[0m 23.81   \u001b[0m | \u001b[0m 9.633   \u001b[0m |\n",
      "| \u001b[0m 19      \u001b[0m | \u001b[0m-0.1683  \u001b[0m | \u001b[0m 11.34   \u001b[0m | \u001b[0m 10.58   \u001b[0m | \u001b[0m 18.45   \u001b[0m |\n",
      "| \u001b[0m 20      \u001b[0m | \u001b[0m-0.1685  \u001b[0m | \u001b[0m 12.05   \u001b[0m | \u001b[0m 15.46   \u001b[0m | \u001b[0m 11.91   \u001b[0m |\n",
      "| \u001b[0m 21      \u001b[0m | \u001b[0m-0.1686  \u001b[0m | \u001b[0m 10.54   \u001b[0m | \u001b[0m 9.766   \u001b[0m | \u001b[0m 18.5    \u001b[0m |\n",
      "| \u001b[0m 22      \u001b[0m | \u001b[0m-0.1682  \u001b[0m | \u001b[0m 10.21   \u001b[0m | \u001b[0m 11.15   \u001b[0m | \u001b[0m 13.9    \u001b[0m |\n",
      "| \u001b[0m 23      \u001b[0m | \u001b[0m-0.1685  \u001b[0m | \u001b[0m 21.14   \u001b[0m | \u001b[0m 9.554   \u001b[0m | \u001b[0m 21.41   \u001b[0m |\n",
      "| \u001b[0m 24      \u001b[0m | \u001b[0m-0.1683  \u001b[0m | \u001b[0m 9.538   \u001b[0m | \u001b[0m 23.62   \u001b[0m | \u001b[0m 15.5    \u001b[0m |\n",
      "| \u001b[0m 25      \u001b[0m | \u001b[0m-0.1683  \u001b[0m | \u001b[0m 23.63   \u001b[0m | \u001b[0m 17.68   \u001b[0m | \u001b[0m 19.83   \u001b[0m |\n",
      "| \u001b[0m 26      \u001b[0m | \u001b[0m-0.1683  \u001b[0m | \u001b[0m 20.49   \u001b[0m | \u001b[0m 22.17   \u001b[0m | \u001b[0m 23.55   \u001b[0m |\n",
      "| \u001b[0m 27      \u001b[0m | \u001b[0m-0.1683  \u001b[0m | \u001b[0m 11.68   \u001b[0m | \u001b[0m 23.32   \u001b[0m | \u001b[0m 14.13   \u001b[0m |\n",
      "| \u001b[0m 28      \u001b[0m | \u001b[0m-0.1682  \u001b[0m | \u001b[0m 16.66   \u001b[0m | \u001b[0m 16.85   \u001b[0m | \u001b[0m 19.72   \u001b[0m |\n",
      "| \u001b[0m 29      \u001b[0m | \u001b[0m-0.1683  \u001b[0m | \u001b[0m 9.358   \u001b[0m | \u001b[0m 8.391   \u001b[0m | \u001b[0m 21.38   \u001b[0m |\n",
      "| \u001b[0m 30      \u001b[0m | \u001b[0m-0.1683  \u001b[0m | \u001b[0m 13.95   \u001b[0m | \u001b[0m 9.848   \u001b[0m | \u001b[0m 21.71   \u001b[0m |\n",
      "| \u001b[0m 31      \u001b[0m | \u001b[0m-0.1682  \u001b[0m | \u001b[0m 20.28   \u001b[0m | \u001b[0m 21.62   \u001b[0m | \u001b[0m 23.51   \u001b[0m |\n",
      "| \u001b[0m 32      \u001b[0m | \u001b[0m-0.1685  \u001b[0m | \u001b[0m 20.66   \u001b[0m | \u001b[0m 21.73   \u001b[0m | \u001b[0m 23.68   \u001b[0m |\n",
      "| \u001b[0m 33      \u001b[0m | \u001b[0m-0.1687  \u001b[0m | \u001b[0m 11.3    \u001b[0m | \u001b[0m 10.9    \u001b[0m | \u001b[0m 8.006   \u001b[0m |\n",
      "| \u001b[0m 34      \u001b[0m | \u001b[0m-0.1683  \u001b[0m | \u001b[0m 21.15   \u001b[0m | \u001b[0m 9.932   \u001b[0m | \u001b[0m 14.4    \u001b[0m |\n",
      "| \u001b[0m 35      \u001b[0m | \u001b[0m-0.1683  \u001b[0m | \u001b[0m 20.42   \u001b[0m | \u001b[0m 21.82   \u001b[0m | \u001b[0m 23.62   \u001b[0m |\n",
      "| \u001b[0m 36      \u001b[0m | \u001b[0m-0.1684  \u001b[0m | \u001b[0m 12.71   \u001b[0m | \u001b[0m 10.73   \u001b[0m | \u001b[0m 16.48   \u001b[0m |\n",
      "| \u001b[0m 37      \u001b[0m | \u001b[0m-0.1682  \u001b[0m | \u001b[0m 16.37   \u001b[0m | \u001b[0m 17.3    \u001b[0m | \u001b[0m 10.18   \u001b[0m |\n",
      "| \u001b[0m 38      \u001b[0m | \u001b[0m-0.1682  \u001b[0m | \u001b[0m 16.77   \u001b[0m | \u001b[0m 19.56   \u001b[0m | \u001b[0m 17.76   \u001b[0m |\n",
      "| \u001b[0m 39      \u001b[0m | \u001b[0m-0.1682  \u001b[0m | \u001b[0m 19.2    \u001b[0m | \u001b[0m 9.077   \u001b[0m | \u001b[0m 18.63   \u001b[0m |\n",
      "| \u001b[0m 40      \u001b[0m | \u001b[0m-0.1683  \u001b[0m | \u001b[0m 10.65   \u001b[0m | \u001b[0m 14.0    \u001b[0m | \u001b[0m 21.79   \u001b[0m |\n",
      "| \u001b[0m 41      \u001b[0m | \u001b[0m-0.1683  \u001b[0m | \u001b[0m 21.99   \u001b[0m | \u001b[0m 10.91   \u001b[0m | \u001b[0m 8.691   \u001b[0m |\n",
      "| \u001b[0m 42      \u001b[0m | \u001b[0m-0.1683  \u001b[0m | \u001b[0m 16.26   \u001b[0m | \u001b[0m 22.52   \u001b[0m | \u001b[0m 14.72   \u001b[0m |\n",
      "| \u001b[0m 43      \u001b[0m | \u001b[0m-0.1684  \u001b[0m | \u001b[0m 10.79   \u001b[0m | \u001b[0m 13.97   \u001b[0m | \u001b[0m 21.71   \u001b[0m |\n",
      "| \u001b[0m 44      \u001b[0m | \u001b[0m-0.1683  \u001b[0m | \u001b[0m 19.44   \u001b[0m | \u001b[0m 9.167   \u001b[0m | \u001b[0m 18.56   \u001b[0m |\n",
      "| \u001b[0m 45      \u001b[0m | \u001b[0m-0.1682  \u001b[0m | \u001b[0m 16.81   \u001b[0m | \u001b[0m 19.53   \u001b[0m | \u001b[0m 17.65   \u001b[0m |\n",
      "| \u001b[0m 46      \u001b[0m | \u001b[0m-0.1686  \u001b[0m | \u001b[0m 18.99   \u001b[0m | \u001b[0m 9.226   \u001b[0m | \u001b[0m 18.52   \u001b[0m |\n",
      "| \u001b[0m 47      \u001b[0m | \u001b[0m-0.1685  \u001b[0m | \u001b[0m 11.01   \u001b[0m | \u001b[0m 9.456   \u001b[0m | \u001b[0m 13.4    \u001b[0m |\n",
      "| \u001b[0m 48      \u001b[0m | \u001b[0m-0.1683  \u001b[0m | \u001b[0m 14.8    \u001b[0m | \u001b[0m 23.62   \u001b[0m | \u001b[0m 17.68   \u001b[0m |\n",
      "| \u001b[0m 49      \u001b[0m | \u001b[0m-0.1685  \u001b[0m | \u001b[0m 13.22   \u001b[0m | \u001b[0m 11.23   \u001b[0m | \u001b[0m 15.95   \u001b[0m |\n",
      "| \u001b[0m 50      \u001b[0m | \u001b[0m-0.1682  \u001b[0m | \u001b[0m 16.33   \u001b[0m | \u001b[0m 17.38   \u001b[0m | \u001b[0m 10.11   \u001b[0m |\n",
      "=============================================================\n"
     ]
    }
   ],
   "source": [
    "lgbBO = BayesianOptimization(f=rf_nmae_eval, pbounds=bayesian_params, random_state=0)\n",
    "lgbBO.maximize(init_points=25, n_iter=25)"
   ]
  },
  {
   "cell_type": "code",
   "execution_count": 141,
   "metadata": {},
   "outputs": [
    {
     "name": "stdout",
     "output_type": "stream",
     "text": [
      "[-0.16829721305244705, -0.1682579573529882, -0.16832341518777266, -0.16837854400740848, -0.16833827019408726, -0.1682782480124512, -0.168106417807109, -0.16843734847389738, -0.16820516676716576, -0.16823144762114706, -0.16831919819203117, -0.16857951920051756, -0.16824307644037143, -0.16835616589932315, -0.16826025402765726, -0.16846100719203538, -0.16837382663268963, -0.16835924583729556, -0.16833255411067524, -0.16846518408400205, -0.16861419138940956, -0.16824448172699222, -0.16852459758386487, -0.16830168372918497, -0.16834865206396277, -0.1682605808398651, -0.16825078073645544, -0.1681759651037232, -0.16831371135605208, -0.16832159843599234, -0.1682089417142136, -0.16847382160682425, -0.1686808745259563, -0.1683318363835736, -0.16829994042420376, -0.1683623734282311, -0.1681995195440327, -0.16822000589634692, -0.16815441332303738, -0.16825095937663426, -0.16834683515189997, -0.16830770178943855, -0.1683546849449114, -0.16830204210349156, -0.16823230307958162, -0.16857656938548185, -0.16850843078725428, -0.1682626931163955, -0.16852900415452132, -0.16822501680659563]\n",
      "maximum target index: 6\n"
     ]
    }
   ],
   "source": [
    "# dictionary에 있는 target값을 모두 추출\n",
    "target_list = []\n",
    "for result in lgbBO.res:\n",
    "    target = result['target']\n",
    "    target_list.append(target)\n",
    "print(target_list)\n",
    "# 가장 큰 target 값을 가지는 순번(index)를 추출\n",
    "print('maximum target index:', np.argmax(np.array(target_list)))"
   ]
  },
  {
   "cell_type": "code",
   "execution_count": 142,
   "metadata": {},
   "outputs": [
    {
     "name": "stdout",
     "output_type": "stream",
     "text": [
      "{'target': -0.168106417807109, 'params': {'max_depth': 20.450508015197606, 'min_samples_leaf': 21.92019437194911, 'min_samples_split': 23.657893475724222}}\n"
     ]
    }
   ],
   "source": [
    "# 가장 큰 target값을 가지는 index값을 기준으로 res에서 해당 parameter 추출. \n",
    "max_dict = lgbBO.res[np.argmax(np.array(target_list))]\n",
    "print(max_dict)"
   ]
  },
  {
   "cell_type": "code",
   "execution_count": 200,
   "metadata": {},
   "outputs": [],
   "source": [
    "from sklearn.model_selection import KFold\n",
    "\n",
    "def train_apps_all_with_oof(ftr, target, nfolds=5):\n",
    "    ftr = ftr\n",
    "    target = target\n",
    "\n",
    "    # nfolds 개의 cross validatin fold set을 가지는 KFold 생성 \n",
    "    folds = KFold(n_splits=nfolds, shuffle=True, random_state=0)\n",
    "    \n",
    "    # Out of Folds로 학습된 모델의 validation set을 예측하여 결과 확률을 담을 array 생성.\n",
    "    # validation set가 n_split갯수만큼 있으므로 크기는 ftr_app의 크기가 되어야 함. \n",
    "    oof_preds = np.zeros((ftr.shape[0],))  \n",
    "    \n",
    "    # Ouf of Folds로 학습된 모델의 test dataset을 예측하여 결과 확률을 담을 array 생성. \n",
    "    test_preds = np.zeros(((X_test.shape[0],)))\n",
    "    \n",
    "    # n_estimators를 4000까지 확대. \n",
    "    rf = RandomForestRegressor(\n",
    "                n_jobs=-1,\n",
    "                n_estimators=4000,\n",
    "                max_depth=20,\n",
    "                min_samples_split=24,\n",
    "                min_samples_leaf=22,\n",
    "                )\n",
    "\n",
    "    # nfolds 번 cross validation Iteration 반복하면서 OOF 방식으로 학습 및 테스트 데이터 예측\n",
    "    for fold_idx, (train_idx, valid_idx) in enumerate(folds.split(ftr)):\n",
    "        print('##### iteration ', fold_idx, ' 시작')\n",
    "        # 학습용 데이터 세트의 인덱스와 검증용 데이터 세트의 인덱스 추출하여 이를 기반으로 학습/검증 데이터 추출\n",
    "        train_x = ftr.iloc[train_idx, :]\n",
    "        train_y = target.iloc[train_idx]\n",
    "        valid_x = ftr.iloc[valid_idx, :]\n",
    "        valid_y = target.iloc[valid_idx]\n",
    "        \n",
    "        # 추출된 학습/검증 데이터 세트로 모델 학습. early_stopping은 200으로 증가. \n",
    "        rf.fit(train_x, train_y)\n",
    "        # 검증 데이터 세트로 예측된 확률 저장. 사용되지는 않음. \n",
    "        #oof_preds[valid_idx] = clf.predict(valid_x, num_iteration=clf.best_iteration_)       \n",
    "        # 학습된 모델로 테스트 데이터 세트에 예측 확률 계산. \n",
    "        # nfolds 번 반복 실행하므로 평균 확률을 구하기 위해 개별 수행시 마다 수행 횟수로 나눈 확률을 추후에 더해서 최종 평균 확률 계산. \n",
    "        test_preds += rf.predict(X_test_new2)/folds.n_splits\n",
    "        \n",
    "        \n",
    "    return rf, test_preds"
   ]
  },
  {
   "cell_type": "code",
   "execution_count": 201,
   "metadata": {},
   "outputs": [
    {
     "name": "stdout",
     "output_type": "stream",
     "text": [
      "##### iteration  0  시작\n",
      "##### iteration  1  시작\n",
      "##### iteration  2  시작\n",
      "##### iteration  3  시작\n",
      "##### iteration  4  시작\n"
     ]
    }
   ],
   "source": [
    "rf2, rf_preds_2 = train_apps_all_with_oof(X2_new, y2, nfolds=5)"
   ]
  },
  {
   "cell_type": "code",
   "execution_count": 202,
   "metadata": {},
   "outputs": [
    {
     "data": {
      "text/plain": [
       "array([0.59183872, 0.54151081, 0.65910079, 0.68556951, 0.69471786,\n",
       "       0.62205729, 0.53924617, 0.6490552 , 0.6528407 , 0.48407613])"
      ]
     },
     "execution_count": 202,
     "metadata": {},
     "output_type": "execute_result"
    }
   ],
   "source": [
    "rf_preds_2"
   ]
  },
  {
   "cell_type": "code",
   "execution_count": 203,
   "metadata": {},
   "outputs": [],
   "source": [
    "rf_preds = rf_preds_1 + rf_preds_2"
   ]
  },
  {
   "cell_type": "code",
   "execution_count": 204,
   "metadata": {
    "scrolled": true
   },
   "outputs": [
    {
     "data": {
      "text/plain": [
       "array([1.06205363, 0.98664077, 1.16731555, 1.18917008, 1.20613971,\n",
       "       1.11123479, 0.98113592, 1.15717382, 1.16057133, 0.92460581])"
      ]
     },
     "execution_count": 204,
     "metadata": {},
     "output_type": "execute_result"
    }
   ],
   "source": [
    "rf_preds"
   ]
  },
  {
   "cell_type": "markdown",
   "metadata": {},
   "source": [
    "### LIME"
   ]
  },
  {
   "cell_type": "code",
   "execution_count": 205,
   "metadata": {},
   "outputs": [],
   "source": [
    "import lime\n",
    "import lime.lime_tabular\n",
    "\n",
    "### 출루율\n",
    "explainer1 = lime.lime_tabular.LimeTabularExplainer(np.array(X1_new),\n",
    "                                                   feature_names=X1_new.columns,\n",
    "                                                   class_names=['quality'],\n",
    "                                                   # categorical_features=,\n",
    "                                                   # There is no categorical features in this example, otherwise specify them.\n",
    "                                                   verbose=True, mode='regression')\n",
    "### 장타율\n",
    "explainer2 = lime.lime_tabular.LimeTabularExplainer(np.array(X2_new),\n",
    "                                                   feature_names=X2_new.columns,\n",
    "                                                   class_names=['quality'],\n",
    "                                                   # categorical_features=,\n",
    "                                                   # There is no categorical features in this example, otherwise specify them.\n",
    "                                                   verbose=True, mode='regression')"
   ]
  },
  {
   "cell_type": "code",
   "execution_count": 226,
   "metadata": {
    "scrolled": false
   },
   "outputs": [
    {
     "name": "stdout",
     "output_type": "stream",
     "text": [
      "Intercept 0.35311136293976\n",
      "Prediction_local [0.4610128]\n",
      "Right: 0.4713590094776876\n",
      "Intercept 0.37936115334391984\n",
      "Prediction_local [0.56078162]\n",
      "Right: 0.6069634844723445\n"
     ]
    },
    {
     "data": {
      "image/png": "[encoded data removed]",
      "text/plain": [
       "<Figure size 432x288 with 1 Axes>"
      ]
     },
     "metadata": {
      "needs_background": "light"
     },
     "output_type": "display_data"
    },
    {
     "data": {
      "image/png": "[encoded data removed]",
      "text/plain": [
       "<Figure size 432x288 with 1 Axes>"
      ]
     },
     "metadata": {
      "needs_background": "light"
     },
     "output_type": "display_data"
    }
   ],
   "source": [
    "# 67341 이정후\n",
    "exp1 = explainer1.explain_instance(X_test_new1.iloc[0], rf1.predict, num_features=10) # 출루율\n",
    "exp2 = explainer2.explain_instance(X_test_new2.iloc[0], rf2.predict, num_features=10) # 장타율\n",
    "exp1.as_pyplot_figure()\n",
    "exp2.as_pyplot_figure()\n",
    "plt.show()"
   ]
  },
  {
   "cell_type": "code",
   "execution_count": 123,
   "metadata": {},
   "outputs": [],
   "source": [
    "chul0 = ['개인역량_상대별WPA_MEAN', '개인역량_연봉/나이', '개인역량_투구_MEAN', '개인역량_타순_MEAN', '개인역량_볼넷_MEAN',\n",
    "     '개인역량_연봉_MEAN', '개인역량_타수_MEAN', '개인역량_WPA_MEAN', '개인역량_배럴_MEAN', '개인역량_루타_MEAN']\n",
    "\n",
    "jang0 = ['개인역량_상대별WPA_MEAN', '개인역량_연봉/나이', '개인역량_루타_SUM', '개인역량_투구_MEAN', '개인역량_연봉_MEAN',\n",
    "     '개인역량_타수_MEAN', '개인역량_루타_MEAN', '시계열적_요일별_WPA/avLI_6', '개인역량_WPA_MEAN', '개인역량_희생번트_SUM']"
   ]
  },
  {
   "cell_type": "code",
   "execution_count": 227,
   "metadata": {
    "scrolled": false
   },
   "outputs": [
    {
     "name": "stdout",
     "output_type": "stream",
     "text": [
      "Intercept 0.35835570286079227\n",
      "Prediction_local [0.44782313]\n",
      "Right: 0.43967958165975285\n",
      "Intercept 0.3985448143191809\n",
      "Prediction_local [0.51307042]\n",
      "Right: 0.5198318987496043\n"
     ]
    },
    {
     "data": {
      "image/png": "[encoded data removed]",
      "text/plain": [
       "<Figure size 432x288 with 1 Axes>"
      ]
     },
     "metadata": {
      "needs_background": "light"
     },
     "output_type": "display_data"
    },
    {
     "data": {
      "image/png": "[encoded data removed]",
      "text/plain": [
       "<Figure size 432x288 with 1 Axes>"
      ]
     },
     "metadata": {
      "needs_background": "light"
     },
     "output_type": "display_data"
    }
   ],
   "source": [
    "# 67872 로맥\n",
    "exp1 = explainer1.explain_instance(X_test_new1.iloc[1], rf1.predict, num_features=10) # 출루율\n",
    "exp2 = explainer2.explain_instance(X_test_new2.iloc[1], rf2.predict, num_features=10) # 장타율\n",
    "exp1.as_pyplot_figure()\n",
    "exp2.as_pyplot_figure()\n",
    "plt.show()"
   ]
  },
  {
   "cell_type": "code",
   "execution_count": 124,
   "metadata": {},
   "outputs": [],
   "source": [
    "chul1 = ['개인역량_연봉/나이', '개인역량_상대별WPA_MEAN', '개인역량_투구_MEAN', '개인역량_타순_MEAN', '개인역량_WPA_MEAN',\n",
    "         '개인역량_볼넷_MEAN', '개인역량_볼넷_SUM', '개인역량_연봉_MEAN', '개인역량_WPA_MAX',  '개인역량_루타_MEAN', ]\n",
    "\n",
    "jang1 = ['개인역량_상대별WPA_MEAN', '개인역량_연봉/나이', '시계열적_요일별_WPA/avLI_3', '개인역량_투구_MEAN', '개인역량_연봉_MEAN',\n",
    "         '개인역량_타수_MEAN', '시계열적_요일별_WPA/avLI_1', '시계열적_요일별_WPA/avLI_6', '개인역량_WPA_MEAN', '개인역량_홈런_MEAN']"
   ]
  },
  {
   "cell_type": "code",
   "execution_count": 228,
   "metadata": {
    "scrolled": false
   },
   "outputs": [
    {
     "name": "stdout",
     "output_type": "stream",
     "text": [
      "Intercept 0.35480129473507516\n",
      "Prediction_local [0.45796943]\n",
      "Right: 0.5105552146593179\n",
      "Intercept 0.3824631321461058\n",
      "Prediction_local [0.55895625]\n",
      "Right: 0.6868096447382903\n"
     ]
    },
    {
     "data": {
      "image/png": "[encoded data removed]",
      "text/plain": [
       "<Figure size 432x288 with 1 Axes>"
      ]
     },
     "metadata": {
      "needs_background": "light"
     },
     "output_type": "display_data"
    },
    {
     "data": {
      "image/png": "[encoded data removed]",
      "text/plain": [
       "<Figure size 432x288 with 1 Axes>"
      ]
     },
     "metadata": {
      "needs_background": "light"
     },
     "output_type": "display_data"
    }
   ],
   "source": [
    "# 68050 강백호\n",
    "exp1 = explainer1.explain_instance(X_test_new1.iloc[2], rf1.predict, num_features=10) # 출루율\n",
    "exp2 = explainer2.explain_instance(X_test_new2.iloc[2], rf2.predict, num_features=10) # 장타율\n",
    "exp1.as_pyplot_figure()\n",
    "exp2.as_pyplot_figure()\n",
    "plt.show()"
   ]
  },
  {
   "cell_type": "code",
   "execution_count": 125,
   "metadata": {},
   "outputs": [],
   "source": [
    "chul2 = ['개인역량_연봉/나이', '개인역량_상대별WPA_MEAN', '개인역량_투구_MEAN', '개인역량_타순_MEAN', '개인역량_WPA_MEAN',\n",
    "         '개인역량_볼넷_MEAN', '개인역량_배럴_MEAN', '개인역량_연봉_MEAN', '개인역량_득점_MEAN',  '개인역량_상대팀별_배럴_평균O_B']\n",
    "\n",
    "jang2 = ['개인역량_상대별WPA_MEAN', '개인역량_연봉/나이', '개인역량_루타_SUM', '개인역량_투구_MEAN', '개인역량_연봉_MEAN',\n",
    "         '개인역량_타수_MEAN', '개인역량_배럴_MEAN', '개인역량_루타_STD', '개인역량_WPA_MEAN', '개인역량_루타_MEAN']"
   ]
  },
  {
   "cell_type": "code",
   "execution_count": 229,
   "metadata": {
    "scrolled": false
   },
   "outputs": [
    {
     "name": "stdout",
     "output_type": "stream",
     "text": [
      "Intercept 0.35628748223081785\n",
      "Prediction_local [0.45549561]\n",
      "Right: 0.5072798676734149\n",
      "Intercept 0.38208515291169787\n",
      "Prediction_local [0.55974181]\n",
      "Right: 0.7094126264457489\n"
     ]
    },
    {
     "data": {
      "image/png": "[encoded data removed]",
      "text/plain": [
       "<Figure size 432x288 with 1 Axes>"
      ]
     },
     "metadata": {
      "needs_background": "light"
     },
     "output_type": "display_data"
    },
    {
     "data": {
      "image/png": "[encoded data removed]",
      "text/plain": [
       "<Figure size 432x288 with 1 Axes>"
      ]
     },
     "metadata": {
      "needs_background": "light"
     },
     "output_type": "display_data"
    }
   ],
   "source": [
    "# 75847 최정\n",
    "exp1 = explainer1.explain_instance(X_test_new1.iloc[3], rf1.predict, num_features=10) # 출루율\n",
    "exp2 = explainer2.explain_instance(X_test_new2.iloc[3], rf2.predict, num_features=10) # 장타율\n",
    "exp1.as_pyplot_figure()\n",
    "exp2.as_pyplot_figure()\n",
    "plt.show()"
   ]
  },
  {
   "cell_type": "code",
   "execution_count": 126,
   "metadata": {},
   "outputs": [],
   "source": [
    "chul3 = ['개인역량_연봉/나이', '개인역량_상대별WPA_MEAN', '개인역량_투구_MEAN', '개인역량_타순_MEAN', '개인역량_WPA_MEAN',\n",
    "         '개인역량_볼넷_MEAN', '개인역량_배럴_MEAN', '개인역량_연봉_MEAN', '개인역량_루타_MEAN',  '개인역량_루타_STD']\n",
    "\n",
    "jang3 = ['개인역량_상대별WPA_MEAN', '개인역량_연봉/나이', '개인역량_루타_SUM', '개인역량_투구_MEAN', '개인역량_연봉_MEAN',\n",
    "         '개인역량_홈런_MEAN', '개인역량_배럴_MEAN', '개인역량_루타_STD', '개인역량_WPA_MEAN', '개인역량_루타_MEAN']"
   ]
  },
  {
   "cell_type": "code",
   "execution_count": 230,
   "metadata": {
    "scrolled": false
   },
   "outputs": [
    {
     "name": "stdout",
     "output_type": "stream",
     "text": [
      "Intercept 0.3566143583015515\n",
      "Prediction_local [0.45089633]\n",
      "Right: 0.5138206668592149\n",
      "Intercept 0.37764373797004436\n",
      "Prediction_local [0.57242105]\n",
      "Right: 0.7132130730606382\n"
     ]
    },
    {
     "data": {
      "image/png": "[encoded data removed]",
      "text/plain": [
       "<Figure size 432x288 with 1 Axes>"
      ]
     },
     "metadata": {
      "needs_background": "light"
     },
     "output_type": "display_data"
    },
    {
     "data": {
      "image/png": "[encoded data removed]",
      "text/plain": [
       "<Figure size 432x288 with 1 Axes>"
      ]
     },
     "metadata": {
      "needs_background": "light"
     },
     "output_type": "display_data"
    }
   ],
   "source": [
    "# 76232 양의지\n",
    "exp1 = explainer1.explain_instance(X_test_new1.iloc[4], rf1.predict, num_features=10) # 출루율\n",
    "exp2 = explainer2.explain_instance(X_test_new2.iloc[4], rf2.predict, num_features=10) # 장타율\n",
    "exp1.as_pyplot_figure()\n",
    "exp2.as_pyplot_figure()\n",
    "plt.show()"
   ]
  },
  {
   "cell_type": "code",
   "execution_count": 127,
   "metadata": {},
   "outputs": [],
   "source": [
    "chul4 = ['개인역량_연봉/나이', '개인역량_상대별WPA_MEAN', '개인역량_투구_MEAN', '개인역량_타순_MEAN', '개인역량_WPA_MEAN',\n",
    "         '개인역량_WPA_MAX', '개인역량_배럴_MEAN', '개인역량_연봉_MEAN', '개인역량_타수_MEAN',  '개인역량_WPA/AVLI_STD']\n",
    "\n",
    "jang4 = ['개인역량_상대별WPA_MEAN', '개인역량_연봉/나이', '개인역량_루타_SUM', '개인역량_투구_MEAN', '개인역량_연봉_MEAN',\n",
    "         '개인역량_홈런_MEAN', '개인역량_배럴_MEAN', '개인역량_타수_MEAN', '개인역량_배럴_SUM', '개인역량_루타_MEAN']"
   ]
  },
  {
   "cell_type": "code",
   "execution_count": 231,
   "metadata": {
    "scrolled": false
   },
   "outputs": [
    {
     "name": "stdout",
     "output_type": "stream",
     "text": [
      "Intercept 0.3551015635798995\n",
      "Prediction_local [0.45660876]\n",
      "Right: 0.4991564296518299\n",
      "Intercept 0.381895413469101\n",
      "Prediction_local [0.56238179]\n",
      "Right: 0.6389258797513327\n"
     ]
    },
    {
     "data": {
      "image/png": "[encoded data removed]",
      "text/plain": [
       "<Figure size 432x288 with 1 Axes>"
      ]
     },
     "metadata": {
      "needs_background": "light"
     },
     "output_type": "display_data"
    },
    {
     "data": {
      "image/png": "[encoded data removed]",
      "text/plain": [
       "<Figure size 432x288 with 1 Axes>"
      ]
     },
     "metadata": {
      "needs_background": "light"
     },
     "output_type": "display_data"
    }
   ],
   "source": [
    "# 76290 김현수\n",
    "exp1 = explainer1.explain_instance(X_test_new1.iloc[5], rf1.predict, num_features=10) # 출루율\n",
    "exp2 = explainer2.explain_instance(X_test_new2.iloc[5], rf2.predict, num_features=10) # 장타율\n",
    "exp1.as_pyplot_figure()\n",
    "exp2.as_pyplot_figure()\n",
    "plt.show()"
   ]
  },
  {
   "cell_type": "code",
   "execution_count": 128,
   "metadata": {},
   "outputs": [],
   "source": [
    "chul5 = ['개인역량_연봉/나이', '개인역량_상대별WPA_MEAN', '개인역량_투구_MEAN', '개인역량_타순_MEAN', '개인역량_WPA_MEAN',\n",
    "         '개인역량_볼넷_MEAN', '개인역량_배럴_MEAN', '개인역량_연봉_MEAN', '개인역량_타수_MEAN',  '개인역량_볼넷_SUM']\n",
    "\n",
    "jang5 = ['개인역량_상대별WPA_MEAN', '개인역량_연봉/나이', '개인역량_배럴_SUM', '개인역량_투구_MEAN', '개인역량_연봉_MEAN',\n",
    "         '개인역량_홈런_MEAN', '개인역량_배럴_MEAN', '개인역량_타수_MEAN', '개인역량_루타_STD', '개인역량_루타_MEAN']"
   ]
  },
  {
   "cell_type": "code",
   "execution_count": 232,
   "metadata": {
    "scrolled": false
   },
   "outputs": [
    {
     "name": "stdout",
     "output_type": "stream",
     "text": [
      "Intercept 0.35284450204694057\n",
      "Prediction_local [0.46456062]\n",
      "Right: 0.4429734383474358\n",
      "Intercept 0.3845034016431219\n",
      "Prediction_local [0.55106832]\n",
      "Right: 0.5412117731915537\n"
     ]
    },
    {
     "data": {
      "image/png": "[encoded data removed]",
      "text/plain": [
       "<Figure size 432x288 with 1 Axes>"
      ]
     },
     "metadata": {
      "needs_background": "light"
     },
     "output_type": "display_data"
    },
    {
     "data": {
      "image/png": "[encoded data removed]",
      "text/plain": [
       "<Figure size 432x288 with 1 Axes>"
      ]
     },
     "metadata": {
      "needs_background": "light"
     },
     "output_type": "display_data"
    }
   ],
   "source": [
    "# 78224 김재환\n",
    "exp1 = explainer1.explain_instance(X_test_new1.iloc[6], rf1.predict, num_features=10) # 출루율\n",
    "exp2 = explainer2.explain_instance(X_test_new2.iloc[6], rf2.predict, num_features=10) # 장타율\n",
    "exp1.as_pyplot_figure()\n",
    "exp2.as_pyplot_figure()\n",
    "plt.show()"
   ]
  },
  {
   "cell_type": "code",
   "execution_count": 129,
   "metadata": {},
   "outputs": [],
   "source": [
    "chul6 = ['개인역량_연봉/나이', '개인역량_상대별WPA_MEAN', '개인역량_투구_MEAN', '개인역량_타순_MEAN', '개인역량_루타_STD',\n",
    "         '개인역량_볼넷_MEAN', '개인역량_WPA/AVLI_STD', '개인역량_연봉_MEAN', '개인역량_타수_MEAN',  '개인역량_볼넷_SUM']\n",
    "\n",
    "jang6 = ['개인역량_상대별WPA_MEAN', '개인역량_연봉/나이', '시계열적_요일별_WPA/avLI_6', '개인역량_투구_MEAN', '개인역량_연봉_MEAN',\n",
    "         '개인역량_홈런_MEAN', '개인역량_배럴_SUM', '개인역량_타수_MEAN', '개인역량_루타_STD', '개인역량_루타_MEAN']"
   ]
  },
  {
   "cell_type": "code",
   "execution_count": 233,
   "metadata": {
    "scrolled": false
   },
   "outputs": [
    {
     "name": "stdout",
     "output_type": "stream",
     "text": [
      "Intercept 0.35541413136821515\n",
      "Prediction_local [0.45855403]\n",
      "Right: 0.5168765477050736\n",
      "Intercept 0.38290611800874036\n",
      "Prediction_local [0.56177916]\n",
      "Right: 0.6942869915560943\n"
     ]
    },
    {
     "data": {
      "image/png": "[encoded data removed]",
      "text/plain": [
       "<Figure size 432x288 with 1 Axes>"
      ]
     },
     "metadata": {
      "needs_background": "light"
     },
     "output_type": "display_data"
    },
    {
     "data": {
      "image/png": "[encoded data removed]",
      "text/plain": [
       "<Figure size 432x288 with 1 Axes>"
      ]
     },
     "metadata": {
      "needs_background": "light"
     },
     "output_type": "display_data"
    }
   ],
   "source": [
    "# 78513 전준우\n",
    "exp1 = explainer1.explain_instance(X_test_new1.iloc[7], rf1.predict, num_features=10) # 출루율\n",
    "exp2 = explainer2.explain_instance(X_test_new2.iloc[7], rf2.predict, num_features=10) # 장타율\n",
    "exp1.as_pyplot_figure()\n",
    "exp2.as_pyplot_figure()\n",
    "plt.show()"
   ]
  },
  {
   "cell_type": "code",
   "execution_count": 130,
   "metadata": {},
   "outputs": [],
   "source": [
    "chul7 = ['개인역량_연봉/나이', '개인역량_상대별WPA_MEAN', '개인역량_투구_MEAN', '개인역량_타순_MEAN', '개인역량_루타_SUM',\n",
    "         '개인역량_루타_MAX', '개인역량_WPA_MEAN', '개인역량_연봉_MEAN', '개인역량_타수_MEAN',  '개인역량_배럴_MEAN']\n",
    "\n",
    "jang7 = ['개인역량_상대별WPA_MEAN', '개인역량_연봉/나이', '시계열적_요일별_WPA/avLI_1', '개인역량_투구_MEAN', '개인역량_연봉_MEAN',\n",
    "         '개인역량_배럴_MEAN', '개인역량_배럴_SUM', '개인역량_타수_MEAN', '개인역량_루타_SUM', '개인역량_루타_MEAN']"
   ]
  },
  {
   "cell_type": "code",
   "execution_count": 234,
   "metadata": {
    "scrolled": false
   },
   "outputs": [
    {
     "name": "stdout",
     "output_type": "stream",
     "text": [
      "Intercept 0.3543465505180943\n",
      "Prediction_local [0.45798492]\n",
      "Right: 0.5123902950358337\n",
      "Intercept 0.38310420965920566\n",
      "Prediction_local [0.55706018]\n",
      "Right: 0.6737987009472199\n"
     ]
    },
    {
     "data": {
      "image/png": "[encoded data removed]",
      "text/plain": [
       "<Figure size 432x288 with 1 Axes>"
      ]
     },
     "metadata": {
      "needs_background": "light"
     },
     "output_type": "display_data"
    },
    {
     "data": {
      "image/png": "[encoded data removed]",
      "text/plain": [
       "<Figure size 432x288 with 1 Axes>"
      ]
     },
     "metadata": {
      "needs_background": "light"
     },
     "output_type": "display_data"
    }
   ],
   "source": [
    "# 79192 채은성\n",
    "exp1 = explainer1.explain_instance(X_test_new1.iloc[8], rf1.predict, num_features=10) # 출루율\n",
    "exp2 = explainer2.explain_instance(X_test_new2.iloc[8], rf2.predict, num_features=10) # 장타율\n",
    "exp1.as_pyplot_figure()\n",
    "exp2.as_pyplot_figure()\n",
    "plt.show()"
   ]
  },
  {
   "cell_type": "code",
   "execution_count": 131,
   "metadata": {},
   "outputs": [],
   "source": [
    "chul8 = ['개인역량_연봉/나이', '개인역량_상대별WPA_MEAN', '개인역량_투구_MEAN', '개인역량_타순_MEAN', '개인역량_배럴_SUM',\n",
    "         '개인역량_배럴_MEAN', '개인역량_WPA_MEAN', '개인역량_연봉_MEAN', '개인역량_타수_MEAN',  '개인역량_볼넷_MEAN']\n",
    "\n",
    "jang8 = ['개인역량_상대별WPA_MEAN', '개인역량_연봉/나이', '시계열적_요일별_WPA/avLI_6', '개인역량_투구_MEAN', '개인역량_연봉_MEAN',\n",
    "         '개인역량_홈런_MEAN', '개인역량_루타_STD', '개인역량_타수_MEAN', '개인역량_루타_SUM', '개인역량_루타_MEAN']"
   ]
  },
  {
   "cell_type": "code",
   "execution_count": 235,
   "metadata": {
    "scrolled": false
   },
   "outputs": [
    {
     "name": "stdout",
     "output_type": "stream",
     "text": [
      "Intercept 0.35818064079638673\n",
      "Prediction_local [0.44400753]\n",
      "Right: 0.4317324121449281\n",
      "Intercept 0.39753313151440794\n",
      "Prediction_local [0.51010054]\n",
      "Right: 0.4739827133051864\n"
     ]
    },
    {
     "data": {
      "image/png": "[encoded data removed]",
      "text/plain": [
       "<Figure size 432x288 with 1 Axes>"
      ]
     },
     "metadata": {
      "needs_background": "light"
     },
     "output_type": "display_data"
    },
    {
     "data": {
      "image/png": "[encoded data removed]",
      "text/plain": [
       "<Figure size 432x288 with 1 Axes>"
      ]
     },
     "metadata": {
      "needs_background": "light"
     },
     "output_type": "display_data"
    }
   ],
   "source": [
    "# 79215 박건우\n",
    "exp1 = explainer1.explain_instance(X_test_new1.iloc[9], rf1.predict, num_features=10) # 출루율\n",
    "exp2 = explainer2.explain_instance(X_test_new2.iloc[9], rf2.predict, num_features=10) # 장타율\n",
    "exp1.as_pyplot_figure()\n",
    "exp2.as_pyplot_figure()\n",
    "plt.show()"
   ]
  },
  {
   "cell_type": "code",
   "execution_count": 132,
   "metadata": {},
   "outputs": [],
   "source": [
    "chul9 = ['개인역량_연봉/나이', '개인역량_상대별WPA_MEAN', '개인역량_투구_MEAN', '개인역량_타순_MEAN', '개인역량_배럴_SUM',\n",
    "         '개인역량_루타_SUM', '개인역량_병살타_SUM', '개인역량_연봉_MEAN', '개인역량_타수_MEAN',  '개인역량_RE24_MAX']\n",
    "\n",
    "jang9 = ['개인역량_상대별WPA_MEAN', '개인역량_연봉/나이', '시계열적_요일별_WPA/avLI_1', '개인역량_투구_MEAN', '개인역량_연봉_MEAN',\n",
    "         'HH', '시계열적_요일별_WPA/avLI_6', '개인역량_타수_MEAN', '개인역량_루타_SUM', '개인역량_배럴_SUM']"
   ]
  },
  {
   "cell_type": "code",
   "execution_count": 133,
   "metadata": {},
   "outputs": [],
   "source": [
    "# LIME에서 영향을 주는 상위 10개의 피처를 골라서 셀렉션함\n",
    "chul = set(chul0) | set(chul1) | set(chul2) | set(chul3) | set(chul4) | set(chul5) | set(chul6) | set(chul7) | set(chul8) | set(chul9)\n",
    "jang = set(jang0) | set(jang1) | set(jang2) | set(jang3) | set(jang4) | set(jang5) | set(jang6) | set(jang7) | set(jang8) | set(jang9)"
   ]
  },
  {
   "cell_type": "code",
   "execution_count": 134,
   "metadata": {},
   "outputs": [
    {
     "data": {
      "text/plain": [
       "(21,\n",
       " {'개인역량_RE24_MAX',\n",
       "  '개인역량_WPA/AVLI_STD',\n",
       "  '개인역량_WPA_MAX',\n",
       "  '개인역량_WPA_MEAN',\n",
       "  '개인역량_득점_MEAN',\n",
       "  '개인역량_루타_MAX',\n",
       "  '개인역량_루타_MEAN',\n",
       "  '개인역량_루타_STD',\n",
       "  '개인역량_루타_SUM',\n",
       "  '개인역량_배럴_MEAN',\n",
       "  '개인역량_배럴_SUM',\n",
       "  '개인역량_병살타_SUM',\n",
       "  '개인역량_볼넷_MEAN',\n",
       "  '개인역량_볼넷_SUM',\n",
       "  '개인역량_상대별WPA_MEAN',\n",
       "  '개인역량_상대팀별_배럴_평균O_B',\n",
       "  '개인역량_연봉/나이',\n",
       "  '개인역량_연봉_MEAN',\n",
       "  '개인역량_타수_MEAN',\n",
       "  '개인역량_타순_MEAN',\n",
       "  '개인역량_투구_MEAN'})"
      ]
     },
     "execution_count": 134,
     "metadata": {},
     "output_type": "execute_result"
    }
   ],
   "source": [
    "len(chul), chul"
   ]
  },
  {
   "cell_type": "code",
   "execution_count": 135,
   "metadata": {},
   "outputs": [
    {
     "data": {
      "text/plain": [
       "(17,\n",
       " {'HH',\n",
       "  '개인역량_WPA_MEAN',\n",
       "  '개인역량_루타_MEAN',\n",
       "  '개인역량_루타_STD',\n",
       "  '개인역량_루타_SUM',\n",
       "  '개인역량_배럴_MEAN',\n",
       "  '개인역량_배럴_SUM',\n",
       "  '개인역량_상대별WPA_MEAN',\n",
       "  '개인역량_연봉/나이',\n",
       "  '개인역량_연봉_MEAN',\n",
       "  '개인역량_타수_MEAN',\n",
       "  '개인역량_투구_MEAN',\n",
       "  '개인역량_홈런_MEAN',\n",
       "  '개인역량_희생번트_SUM',\n",
       "  '시계열적_요일별_WPA/avLI_1',\n",
       "  '시계열적_요일별_WPA/avLI_3',\n",
       "  '시계열적_요일별_WPA/avLI_6'})"
      ]
     },
     "execution_count": 135,
     "metadata": {},
     "output_type": "execute_result"
    }
   ],
   "source": [
    "len(jang), jang"
   ]
  },
  {
   "cell_type": "code",
   "execution_count": 136,
   "metadata": {},
   "outputs": [],
   "source": [
    "X1_final = X1_new[chul].drop('개인역량_상대팀별_배럴_평균O_B', axis=1)\n",
    "X1_test_final = X_test_new1[chul].drop('개인역량_상대팀별_배럴_평균O_B', axis=1)"
   ]
  },
  {
   "cell_type": "code",
   "execution_count": 137,
   "metadata": {},
   "outputs": [],
   "source": [
    "X2_final = X2_new[jang]\n",
    "X2_test_final = X_test_new2[jang]"
   ]
  },
  {
   "cell_type": "code",
   "execution_count": 138,
   "metadata": {},
   "outputs": [],
   "source": [
    "from sklearn.model_selection import KFold\n",
    "\n",
    "def train_apps_all_with_oof1(ftr, target, nfolds=5):\n",
    "    ftr = ftr\n",
    "    target = target\n",
    "\n",
    "    # nfolds 개의 cross validatin fold set을 가지는 KFold 생성 \n",
    "    folds = KFold(n_splits=nfolds, shuffle=True, random_state=0)\n",
    "    \n",
    "    # Out of Folds로 학습된 모델의 validation set을 예측하여 결과 확률을 담을 array 생성.\n",
    "    # validation set가 n_split갯수만큼 있으므로 크기는 ftr_app의 크기가 되어야 함. \n",
    "    oof_preds = np.zeros((ftr.shape[0],))  \n",
    "    \n",
    "    # Ouf of Folds로 학습된 모델의 test dataset을 예측하여 결과 확률을 담을 array 생성. \n",
    "    test_preds = np.zeros(((X_test.shape[0],)))\n",
    "    \n",
    "    # n_estimators를 4000까지 확대. \n",
    "    rf = RandomForestRegressor(\n",
    "                n_jobs=-1,\n",
    "                n_estimators=4000,\n",
    "                max_depth=17,\n",
    "                min_samples_split=21,\n",
    "                min_samples_leaf=24,\n",
    "                )\n",
    "\n",
    "    # nfolds 번 cross validation Iteration 반복하면서 OOF 방식으로 학습 및 테스트 데이터 예측\n",
    "    for fold_idx, (train_idx, valid_idx) in enumerate(folds.split(ftr)):\n",
    "        print('##### iteration ', fold_idx, ' 시작')\n",
    "        # 학습용 데이터 세트의 인덱스와 검증용 데이터 세트의 인덱스 추출하여 이를 기반으로 학습/검증 데이터 추출\n",
    "        train_x = ftr.iloc[train_idx, :]\n",
    "        train_y = target.iloc[train_idx]\n",
    "        valid_x = ftr.iloc[valid_idx, :]\n",
    "        valid_y = target.iloc[valid_idx]\n",
    "        \n",
    "        # 추출된 학습/검증 데이터 세트로 모델 학습. early_stopping은 200으로 증가. \n",
    "        rf.fit(train_x, train_y)\n",
    "        # 검증 데이터 세트로 예측된 확률 저장. 사용되지는 않음. \n",
    "        #oof_preds[valid_idx] = clf.predict(valid_x, num_iteration=clf.best_iteration_)       \n",
    "        # 학습된 모델로 테스트 데이터 세트에 예측 확률 계산. \n",
    "        # nfolds 번 반복 실행하므로 평균 확률을 구하기 위해 개별 수행시 마다 수행 횟수로 나눈 확률을 추후에 더해서 최종 평균 확률 계산. \n",
    "        test_preds += rf.predict(X1_test_final)/folds.n_splits\n",
    "        \n",
    "        \n",
    "    return rf, test_preds"
   ]
  },
  {
   "cell_type": "code",
   "execution_count": 139,
   "metadata": {},
   "outputs": [
    {
     "name": "stdout",
     "output_type": "stream",
     "text": [
      "##### iteration  0  시작\n",
      "##### iteration  1  시작\n",
      "##### iteration  2  시작\n",
      "##### iteration  3  시작\n",
      "##### iteration  4  시작\n"
     ]
    }
   ],
   "source": [
    "rf1, rf_preds_1 = train_apps_all_with_oof1(X1_final, y1, nfolds=5)"
   ]
  },
  {
   "cell_type": "code",
   "execution_count": 140,
   "metadata": {},
   "outputs": [],
   "source": [
    "from sklearn.model_selection import KFold\n",
    "\n",
    "def train_apps_all_with_oof2(ftr, target, nfolds=5):\n",
    "    ftr = ftr\n",
    "    target = target\n",
    "\n",
    "    # nfolds 개의 cross validatin fold set을 가지는 KFold 생성 \n",
    "    folds = KFold(n_splits=nfolds, shuffle=True, random_state=0)\n",
    "    \n",
    "    # Out of Folds로 학습된 모델의 validation set을 예측하여 결과 확률을 담을 array 생성.\n",
    "    # validation set가 n_split갯수만큼 있으므로 크기는 ftr_app의 크기가 되어야 함. \n",
    "    oof_preds = np.zeros((ftr.shape[0],))  \n",
    "    \n",
    "    # Ouf of Folds로 학습된 모델의 test dataset을 예측하여 결과 확률을 담을 array 생성. \n",
    "    test_preds = np.zeros(((X_test.shape[0],)))\n",
    "    \n",
    "    # n_estimators를 4000까지 확대. \n",
    "    rf = RandomForestRegressor(\n",
    "                n_jobs=-1,\n",
    "                n_estimators=4000,\n",
    "                max_depth=20,\n",
    "                min_samples_split=24,\n",
    "                min_samples_leaf=22,\n",
    "                )\n",
    "\n",
    "    # nfolds 번 cross validation Iteration 반복하면서 OOF 방식으로 학습 및 테스트 데이터 예측\n",
    "    for fold_idx, (train_idx, valid_idx) in enumerate(folds.split(ftr)):\n",
    "        print('##### iteration ', fold_idx, ' 시작')\n",
    "        # 학습용 데이터 세트의 인덱스와 검증용 데이터 세트의 인덱스 추출하여 이를 기반으로 학습/검증 데이터 추출\n",
    "        train_x = ftr.iloc[train_idx, :]\n",
    "        train_y = target.iloc[train_idx]\n",
    "        valid_x = ftr.iloc[valid_idx, :]\n",
    "        valid_y = target.iloc[valid_idx]\n",
    "        \n",
    "        # 추출된 학습/검증 데이터 세트로 모델 학습. early_stopping은 200으로 증가. \n",
    "        rf.fit(train_x, train_y)\n",
    "        # 검증 데이터 세트로 예측된 확률 저장. 사용되지는 않음. \n",
    "        #oof_preds[valid_idx] = clf.predict(valid_x, num_iteration=clf.best_iteration_)       \n",
    "        # 학습된 모델로 테스트 데이터 세트에 예측 확률 계산. \n",
    "        # nfolds 번 반복 실행하므로 평균 확률을 구하기 위해 개별 수행시 마다 수행 횟수로 나눈 확률을 추후에 더해서 최종 평균 확률 계산. \n",
    "        test_preds += rf.predict(X2_test_final)/folds.n_splits\n",
    "        \n",
    "        \n",
    "    return rf, test_preds"
   ]
  },
  {
   "cell_type": "code",
   "execution_count": 141,
   "metadata": {},
   "outputs": [
    {
     "name": "stdout",
     "output_type": "stream",
     "text": [
      "##### iteration  0  시작\n",
      "##### iteration  1  시작\n",
      "##### iteration  2  시작\n",
      "##### iteration  3  시작\n",
      "##### iteration  4  시작\n"
     ]
    }
   ],
   "source": [
    "rf2, rf_preds_2 = train_apps_all_with_oof2(X2_final, y2, nfolds=5)"
   ]
  },
  {
   "cell_type": "code",
   "execution_count": 142,
   "metadata": {},
   "outputs": [
    {
     "data": {
      "text/plain": [
       "array([0.46865295, 0.44827834, 0.50741492, 0.505798  , 0.51270167,\n",
       "       0.49166846, 0.44042263, 0.50900833, 0.51039089, 0.43703585])"
      ]
     },
     "execution_count": 142,
     "metadata": {},
     "output_type": "execute_result"
    }
   ],
   "source": [
    "rf_preds_1"
   ]
  },
  {
   "cell_type": "code",
   "execution_count": 143,
   "metadata": {},
   "outputs": [
    {
     "data": {
      "text/plain": [
       "array([0.57801313, 0.56535642, 0.65890528, 0.70348385, 0.71660343,\n",
       "       0.64346227, 0.54715176, 0.64339794, 0.66002454, 0.48590917])"
      ]
     },
     "execution_count": 143,
     "metadata": {},
     "output_type": "execute_result"
    }
   ],
   "source": [
    "rf_preds_2"
   ]
  },
  {
   "cell_type": "markdown",
   "metadata": {},
   "source": [
    "### Submission"
   ]
  },
  {
   "cell_type": "code",
   "execution_count": 144,
   "metadata": {},
   "outputs": [],
   "source": [
    "pred1 = pd.DataFrame(rf_preds_1, columns=['출루율'])\n",
    "pred2 = pd.DataFrame(rf_preds_2, columns=['장타율'])\n",
    "sub = pd.concat([train21, pred1, pred2], axis=1)"
   ]
  },
  {
   "cell_type": "code",
   "execution_count": 145,
   "metadata": {},
   "outputs": [],
   "source": [
    "# 서브미션\n",
    "submission_1=pd.read_excel('data/02_평가데이터/2021 빅콘테스트_데이터분석분야_챔피언리그_스포츠테크_평가데이터.xlsx')\n",
    "submission_1.loc[0,'OPS'] = 1.097\n",
    "submission_1.PCODE[1]=76232;submission_1.PCODE[2]=68050;submission_1.PCODE[3]=75847;submission_1.PCODE[4]=67341;submission_1.PCODE[5]=79192\n",
    "submission_1.PCODE[6]=78224;submission_1.PCODE[7]=78513;submission_1.PCODE[8]=76290;submission_1.PCODE[9]=79215;submission_1.PCODE[10]=67872;\n",
    "submission_1 = submission_1.iloc[1:-1, :]"
   ]
  },
  {
   "cell_type": "code",
   "execution_count": 146,
   "metadata": {},
   "outputs": [],
   "source": [
    "submission_1.columns = ['NO.', '선수코드', 'OPS', '장타율', '출루율']\n",
    "submission_1 = submission_1.drop(['장타율', '출루율'], axis=1)\n",
    "submission_1 = submission_1.merge(sub[['선수코드', '장타율', '출루율']], on='선수코드', how='left')\n",
    "submission_1['OPS'] = submission_1['출루율'] + submission_1['장타율']"
   ]
  },
  {
   "cell_type": "code",
   "execution_count": 147,
   "metadata": {},
   "outputs": [],
   "source": [
    "lst = ['양의지', '강백호', '최정', '이정후', '채은성', '김재환', '전준우', '김현수', '박건우', '로맥']"
   ]
  },
  {
   "cell_type": "code",
   "execution_count": 148,
   "metadata": {},
   "outputs": [],
   "source": [
    "submission_1['선수명'] = lst"
   ]
  },
  {
   "cell_type": "code",
   "execution_count": 152,
   "metadata": {},
   "outputs": [
    {
     "data": {
      "text/html": [
       "<div>\n",
       "<style scoped>\n",
       "    .dataframe tbody tr th:only-of-type {\n",
       "        vertical-align: middle;\n",
       "    }\n",
       "\n",
       "    .dataframe tbody tr th {\n",
       "        vertical-align: top;\n",
       "    }\n",
       "\n",
       "    .dataframe thead th {\n",
       "        text-align: right;\n",
       "    }\n",
       "</style>\n",
       "<table border=\"1\" class=\"dataframe\">\n",
       "  <thead>\n",
       "    <tr style=\"text-align: right;\">\n",
       "      <th></th>\n",
       "      <th>NO.</th>\n",
       "      <th>선수코드</th>\n",
       "      <th>OPS</th>\n",
       "      <th>장타율</th>\n",
       "      <th>출루율</th>\n",
       "      <th>선수명</th>\n",
       "    </tr>\n",
       "  </thead>\n",
       "  <tbody>\n",
       "    <tr>\n",
       "      <th>0</th>\n",
       "      <td>1</td>\n",
       "      <td>76232</td>\n",
       "      <td>1.229305</td>\n",
       "      <td>0.716603</td>\n",
       "      <td>0.512702</td>\n",
       "      <td>양의지</td>\n",
       "    </tr>\n",
       "    <tr>\n",
       "      <th>1</th>\n",
       "      <td>2</td>\n",
       "      <td>68050</td>\n",
       "      <td>1.166320</td>\n",
       "      <td>0.658905</td>\n",
       "      <td>0.507415</td>\n",
       "      <td>강백호</td>\n",
       "    </tr>\n",
       "    <tr>\n",
       "      <th>2</th>\n",
       "      <td>3</td>\n",
       "      <td>75847</td>\n",
       "      <td>1.209282</td>\n",
       "      <td>0.703484</td>\n",
       "      <td>0.505798</td>\n",
       "      <td>최정</td>\n",
       "    </tr>\n",
       "    <tr>\n",
       "      <th>3</th>\n",
       "      <td>4</td>\n",
       "      <td>67341</td>\n",
       "      <td>1.046666</td>\n",
       "      <td>0.578013</td>\n",
       "      <td>0.468653</td>\n",
       "      <td>이정후</td>\n",
       "    </tr>\n",
       "    <tr>\n",
       "      <th>4</th>\n",
       "      <td>5</td>\n",
       "      <td>79192</td>\n",
       "      <td>1.170415</td>\n",
       "      <td>0.660025</td>\n",
       "      <td>0.510391</td>\n",
       "      <td>채은성</td>\n",
       "    </tr>\n",
       "    <tr>\n",
       "      <th>5</th>\n",
       "      <td>6</td>\n",
       "      <td>78224</td>\n",
       "      <td>0.987574</td>\n",
       "      <td>0.547152</td>\n",
       "      <td>0.440423</td>\n",
       "      <td>김재환</td>\n",
       "    </tr>\n",
       "    <tr>\n",
       "      <th>6</th>\n",
       "      <td>7</td>\n",
       "      <td>78513</td>\n",
       "      <td>1.152406</td>\n",
       "      <td>0.643398</td>\n",
       "      <td>0.509008</td>\n",
       "      <td>전준우</td>\n",
       "    </tr>\n",
       "    <tr>\n",
       "      <th>7</th>\n",
       "      <td>8</td>\n",
       "      <td>76290</td>\n",
       "      <td>1.135131</td>\n",
       "      <td>0.643462</td>\n",
       "      <td>0.491668</td>\n",
       "      <td>김현수</td>\n",
       "    </tr>\n",
       "    <tr>\n",
       "      <th>8</th>\n",
       "      <td>9</td>\n",
       "      <td>79215</td>\n",
       "      <td>0.922945</td>\n",
       "      <td>0.485909</td>\n",
       "      <td>0.437036</td>\n",
       "      <td>박건우</td>\n",
       "    </tr>\n",
       "    <tr>\n",
       "      <th>9</th>\n",
       "      <td>10</td>\n",
       "      <td>67872</td>\n",
       "      <td>1.013635</td>\n",
       "      <td>0.565356</td>\n",
       "      <td>0.448278</td>\n",
       "      <td>로맥</td>\n",
       "    </tr>\n",
       "  </tbody>\n",
       "</table>\n",
       "</div>"
      ],
      "text/plain": [
       "  NO.   선수코드       OPS       장타율       출루율  선수명\n",
       "0   1  76232  1.229305  0.716603  0.512702  양의지\n",
       "1   2  68050  1.166320  0.658905  0.507415  강백호\n",
       "2   3  75847  1.209282  0.703484  0.505798   최정\n",
       "3   4  67341  1.046666  0.578013  0.468653  이정후\n",
       "4   5  79192  1.170415  0.660025  0.510391  채은성\n",
       "5   6  78224  0.987574  0.547152  0.440423  김재환\n",
       "6   7  78513  1.152406  0.643398  0.509008  전준우\n",
       "7   8  76290  1.135131  0.643462  0.491668  김현수\n",
       "8   9  79215  0.922945  0.485909  0.437036  박건우\n",
       "9  10  67872  1.013635  0.565356  0.448278   로맥"
      ]
     },
     "execution_count": 152,
     "metadata": {},
     "output_type": "execute_result"
    }
   ],
   "source": [
    "submission_1"
   ]
  },
  {
   "cell_type": "code",
   "execution_count": 151,
   "metadata": {},
   "outputs": [],
   "source": [
    "submission_1.iloc[:, :-1].to_csv('POK_제출파일.csv')"
   ]
  },
  {
   "cell_type": "code",
   "execution_count": 223,
   "metadata": {},
   "outputs": [
    {
     "data": {
      "text/html": [
       "<div>\n",
       "<style scoped>\n",
       "    .dataframe tbody tr th:only-of-type {\n",
       "        vertical-align: middle;\n",
       "    }\n",
       "\n",
       "    .dataframe tbody tr th {\n",
       "        vertical-align: top;\n",
       "    }\n",
       "\n",
       "    .dataframe thead th {\n",
       "        text-align: right;\n",
       "    }\n",
       "</style>\n",
       "<table border=\"1\" class=\"dataframe\">\n",
       "  <thead>\n",
       "    <tr style=\"text-align: right;\">\n",
       "      <th></th>\n",
       "      <th>NO.</th>\n",
       "      <th>선수코드</th>\n",
       "      <th>OPS</th>\n",
       "      <th>출루율</th>\n",
       "      <th>장타율</th>\n",
       "      <th>선수명</th>\n",
       "    </tr>\n",
       "  </thead>\n",
       "  <tbody>\n",
       "    <tr>\n",
       "      <th>0</th>\n",
       "      <td>1</td>\n",
       "      <td>76232</td>\n",
       "      <td>1.339506</td>\n",
       "      <td>0.506173</td>\n",
       "      <td>0.833333</td>\n",
       "      <td>양의지</td>\n",
       "    </tr>\n",
       "    <tr>\n",
       "      <th>1</th>\n",
       "      <td>2</td>\n",
       "      <td>68050</td>\n",
       "      <td>1.478837</td>\n",
       "      <td>0.630000</td>\n",
       "      <td>0.848837</td>\n",
       "      <td>강백호</td>\n",
       "    </tr>\n",
       "    <tr>\n",
       "      <th>2</th>\n",
       "      <td>3</td>\n",
       "      <td>75847</td>\n",
       "      <td>1.405632</td>\n",
       "      <td>0.579545</td>\n",
       "      <td>0.826087</td>\n",
       "      <td>최정</td>\n",
       "    </tr>\n",
       "    <tr>\n",
       "      <th>3</th>\n",
       "      <td>4</td>\n",
       "      <td>67341</td>\n",
       "      <td>0.856944</td>\n",
       "      <td>0.412500</td>\n",
       "      <td>0.444444</td>\n",
       "      <td>이정후</td>\n",
       "    </tr>\n",
       "    <tr>\n",
       "      <th>4</th>\n",
       "      <td>5</td>\n",
       "      <td>79192</td>\n",
       "      <td>1.206917</td>\n",
       "      <td>0.505618</td>\n",
       "      <td>0.701299</td>\n",
       "      <td>채은성</td>\n",
       "    </tr>\n",
       "    <tr>\n",
       "      <th>5</th>\n",
       "      <td>6</td>\n",
       "      <td>78224</td>\n",
       "      <td>1.236983</td>\n",
       "      <td>0.515464</td>\n",
       "      <td>0.721519</td>\n",
       "      <td>김재환</td>\n",
       "    </tr>\n",
       "    <tr>\n",
       "      <th>6</th>\n",
       "      <td>7</td>\n",
       "      <td>78513</td>\n",
       "      <td>1.061651</td>\n",
       "      <td>0.425287</td>\n",
       "      <td>0.636364</td>\n",
       "      <td>전준우</td>\n",
       "    </tr>\n",
       "    <tr>\n",
       "      <th>7</th>\n",
       "      <td>8</td>\n",
       "      <td>76290</td>\n",
       "      <td>0.715616</td>\n",
       "      <td>0.377778</td>\n",
       "      <td>0.337838</td>\n",
       "      <td>김현수</td>\n",
       "    </tr>\n",
       "    <tr>\n",
       "      <th>8</th>\n",
       "      <td>9</td>\n",
       "      <td>79215</td>\n",
       "      <td>1.207952</td>\n",
       "      <td>0.534483</td>\n",
       "      <td>0.673469</td>\n",
       "      <td>박건우</td>\n",
       "    </tr>\n",
       "    <tr>\n",
       "      <th>9</th>\n",
       "      <td>10</td>\n",
       "      <td>67872</td>\n",
       "      <td>1.560012</td>\n",
       "      <td>0.630435</td>\n",
       "      <td>0.929577</td>\n",
       "      <td>로맥</td>\n",
       "    </tr>\n",
       "  </tbody>\n",
       "</table>\n",
       "</div>"
      ],
      "text/plain": [
       "  NO.   선수코드       OPS       출루율       장타율  선수명\n",
       "0   1  76232  1.339506  0.506173  0.833333  양의지\n",
       "1   2  68050  1.478837  0.630000  0.848837  강백호\n",
       "2   3  75847  1.405632  0.579545  0.826087   최정\n",
       "3   4  67341  0.856944  0.412500  0.444444  이정후\n",
       "4   5  79192  1.206917  0.505618  0.701299  채은성\n",
       "5   6  78224  1.236983  0.515464  0.721519  김재환\n",
       "6   7  78513  1.061651  0.425287  0.636364  전준우\n",
       "7   8  76290  0.715616  0.377778  0.337838  김현수\n",
       "8   9  79215  1.207952  0.534483  0.673469  박건우\n",
       "9  10  67872  1.560012  0.630435  0.929577   로맥"
      ]
     },
     "execution_count": 223,
     "metadata": {},
     "output_type": "execute_result"
    }
   ],
   "source": [
    "# 2020년 마지막 21라운드의 결과\n",
    "round21_2020=pd.concat([train20_4,test20_4.reset_index(drop='index')],axis=1)\n",
    "round21_2020=pd.merge(submission[['NO.','선수코드']],round21_2020[['선수코드','OPS','출루율','장타율']],how='left',on='선수코드')\n",
    "pd.merge(round21_2020,submission[['선수코드','선수명']],how='left',on='선수코드')"
   ]
  },
  {
   "cell_type": "code",
   "execution_count": 224,
   "metadata": {},
   "outputs": [
    {
     "data": {
      "text/html": [
       "<div>\n",
       "<style scoped>\n",
       "    .dataframe tbody tr th:only-of-type {\n",
       "        vertical-align: middle;\n",
       "    }\n",
       "\n",
       "    .dataframe tbody tr th {\n",
       "        vertical-align: top;\n",
       "    }\n",
       "\n",
       "    .dataframe thead th {\n",
       "        text-align: right;\n",
       "    }\n",
       "</style>\n",
       "<table border=\"1\" class=\"dataframe\">\n",
       "  <thead>\n",
       "    <tr style=\"text-align: right;\">\n",
       "      <th></th>\n",
       "      <th>NO.</th>\n",
       "      <th>선수코드</th>\n",
       "      <th>OPS</th>\n",
       "      <th>출루율</th>\n",
       "      <th>장타율</th>\n",
       "      <th>선수명</th>\n",
       "    </tr>\n",
       "  </thead>\n",
       "  <tbody>\n",
       "    <tr>\n",
       "      <th>0</th>\n",
       "      <td>1</td>\n",
       "      <td>76232</td>\n",
       "      <td>1.157460</td>\n",
       "      <td>0.506667</td>\n",
       "      <td>0.650794</td>\n",
       "      <td>양의지</td>\n",
       "    </tr>\n",
       "    <tr>\n",
       "      <th>1</th>\n",
       "      <td>2</td>\n",
       "      <td>68050</td>\n",
       "      <td>1.111111</td>\n",
       "      <td>0.500000</td>\n",
       "      <td>0.611111</td>\n",
       "      <td>강백호</td>\n",
       "    </tr>\n",
       "    <tr>\n",
       "      <th>2</th>\n",
       "      <td>3</td>\n",
       "      <td>75847</td>\n",
       "      <td>0.910349</td>\n",
       "      <td>0.397849</td>\n",
       "      <td>0.512500</td>\n",
       "      <td>최정</td>\n",
       "    </tr>\n",
       "    <tr>\n",
       "      <th>3</th>\n",
       "      <td>4</td>\n",
       "      <td>67341</td>\n",
       "      <td>0.960623</td>\n",
       "      <td>0.472527</td>\n",
       "      <td>0.488095</td>\n",
       "      <td>이정후</td>\n",
       "    </tr>\n",
       "    <tr>\n",
       "      <th>4</th>\n",
       "      <td>5</td>\n",
       "      <td>79192</td>\n",
       "      <td>0.970313</td>\n",
       "      <td>0.405797</td>\n",
       "      <td>0.564516</td>\n",
       "      <td>채은성</td>\n",
       "    </tr>\n",
       "    <tr>\n",
       "      <th>5</th>\n",
       "      <td>6</td>\n",
       "      <td>78224</td>\n",
       "      <td>0.862839</td>\n",
       "      <td>0.424242</td>\n",
       "      <td>0.438596</td>\n",
       "      <td>김재환</td>\n",
       "    </tr>\n",
       "    <tr>\n",
       "      <th>6</th>\n",
       "      <td>7</td>\n",
       "      <td>78513</td>\n",
       "      <td>0.897436</td>\n",
       "      <td>0.397436</td>\n",
       "      <td>0.500000</td>\n",
       "      <td>전준우</td>\n",
       "    </tr>\n",
       "    <tr>\n",
       "      <th>7</th>\n",
       "      <td>8</td>\n",
       "      <td>76290</td>\n",
       "      <td>0.548230</td>\n",
       "      <td>0.230769</td>\n",
       "      <td>0.317460</td>\n",
       "      <td>김현수</td>\n",
       "    </tr>\n",
       "    <tr>\n",
       "      <th>8</th>\n",
       "      <td>9</td>\n",
       "      <td>79215</td>\n",
       "      <td>0.912485</td>\n",
       "      <td>0.465116</td>\n",
       "      <td>0.447368</td>\n",
       "      <td>박건우</td>\n",
       "    </tr>\n",
       "    <tr>\n",
       "      <th>9</th>\n",
       "      <td>10</td>\n",
       "      <td>67872</td>\n",
       "      <td>1.303400</td>\n",
       "      <td>0.560976</td>\n",
       "      <td>0.742424</td>\n",
       "      <td>로맥</td>\n",
       "    </tr>\n",
       "  </tbody>\n",
       "</table>\n",
       "</div>"
      ],
      "text/plain": [
       "  NO.   선수코드       OPS       출루율       장타율  선수명\n",
       "0   1  76232  1.157460  0.506667  0.650794  양의지\n",
       "1   2  68050  1.111111  0.500000  0.611111  강백호\n",
       "2   3  75847  0.910349  0.397849  0.512500   최정\n",
       "3   4  67341  0.960623  0.472527  0.488095  이정후\n",
       "4   5  79192  0.970313  0.405797  0.564516  채은성\n",
       "5   6  78224  0.862839  0.424242  0.438596  김재환\n",
       "6   7  78513  0.897436  0.397436  0.500000  전준우\n",
       "7   8  76290  0.548230  0.230769  0.317460  김현수\n",
       "8   9  79215  0.912485  0.465116  0.447368  박건우\n",
       "9  10  67872  1.303400  0.560976  0.742424   로맥"
      ]
     },
     "execution_count": 224,
     "metadata": {},
     "output_type": "execute_result"
    }
   ],
   "source": [
    "# 2019년 마지막 21라운드의 결과\n",
    "round21_2020=pd.concat([train19_4,test19_4.reset_index(drop='index')],axis=1)\n",
    "round21_2020=pd.merge(submission[['NO.','선수코드']],round21_2020[['선수코드','OPS','출루율','장타율']],how='left',on='선수코드')\n",
    "pd.merge(round21_2020,submission[['선수코드','선수명']],how='left',on='선수코드')"
   ]
  },
  {
   "cell_type": "code",
   "execution_count": 225,
   "metadata": {},
   "outputs": [
    {
     "data": {
      "text/html": [
       "<div>\n",
       "<style scoped>\n",
       "    .dataframe tbody tr th:only-of-type {\n",
       "        vertical-align: middle;\n",
       "    }\n",
       "\n",
       "    .dataframe tbody tr th {\n",
       "        vertical-align: top;\n",
       "    }\n",
       "\n",
       "    .dataframe thead th {\n",
       "        text-align: right;\n",
       "    }\n",
       "</style>\n",
       "<table border=\"1\" class=\"dataframe\">\n",
       "  <thead>\n",
       "    <tr style=\"text-align: right;\">\n",
       "      <th></th>\n",
       "      <th>NO.</th>\n",
       "      <th>선수코드</th>\n",
       "      <th>OPS</th>\n",
       "      <th>출루율</th>\n",
       "      <th>장타율</th>\n",
       "      <th>선수명</th>\n",
       "    </tr>\n",
       "  </thead>\n",
       "  <tbody>\n",
       "    <tr>\n",
       "      <th>0</th>\n",
       "      <td>1</td>\n",
       "      <td>76232</td>\n",
       "      <td>1.275641</td>\n",
       "      <td>0.583333</td>\n",
       "      <td>0.692308</td>\n",
       "      <td>양의지</td>\n",
       "    </tr>\n",
       "    <tr>\n",
       "      <th>1</th>\n",
       "      <td>2</td>\n",
       "      <td>68050</td>\n",
       "      <td>1.275573</td>\n",
       "      <td>0.509615</td>\n",
       "      <td>0.765957</td>\n",
       "      <td>강백호</td>\n",
       "    </tr>\n",
       "    <tr>\n",
       "      <th>2</th>\n",
       "      <td>3</td>\n",
       "      <td>75847</td>\n",
       "      <td>1.145226</td>\n",
       "      <td>0.484848</td>\n",
       "      <td>0.660377</td>\n",
       "      <td>최정</td>\n",
       "    </tr>\n",
       "    <tr>\n",
       "      <th>3</th>\n",
       "      <td>4</td>\n",
       "      <td>67341</td>\n",
       "      <td>1.026472</td>\n",
       "      <td>0.474747</td>\n",
       "      <td>0.551724</td>\n",
       "      <td>이정후</td>\n",
       "    </tr>\n",
       "    <tr>\n",
       "      <th>4</th>\n",
       "      <td>5</td>\n",
       "      <td>79192</td>\n",
       "      <td>1.040612</td>\n",
       "      <td>0.438202</td>\n",
       "      <td>0.602410</td>\n",
       "      <td>채은성</td>\n",
       "    </tr>\n",
       "    <tr>\n",
       "      <th>5</th>\n",
       "      <td>6</td>\n",
       "      <td>78224</td>\n",
       "      <td>1.009217</td>\n",
       "      <td>0.428571</td>\n",
       "      <td>0.580645</td>\n",
       "      <td>김재환</td>\n",
       "    </tr>\n",
       "    <tr>\n",
       "      <th>6</th>\n",
       "      <td>7</td>\n",
       "      <td>78513</td>\n",
       "      <td>1.240059</td>\n",
       "      <td>0.525773</td>\n",
       "      <td>0.714286</td>\n",
       "      <td>전준우</td>\n",
       "    </tr>\n",
       "    <tr>\n",
       "      <th>7</th>\n",
       "      <td>8</td>\n",
       "      <td>76290</td>\n",
       "      <td>NaN</td>\n",
       "      <td>NaN</td>\n",
       "      <td>NaN</td>\n",
       "      <td>김현수</td>\n",
       "    </tr>\n",
       "    <tr>\n",
       "      <th>8</th>\n",
       "      <td>9</td>\n",
       "      <td>79215</td>\n",
       "      <td>0.993056</td>\n",
       "      <td>0.437500</td>\n",
       "      <td>0.555556</td>\n",
       "      <td>박건우</td>\n",
       "    </tr>\n",
       "    <tr>\n",
       "      <th>9</th>\n",
       "      <td>10</td>\n",
       "      <td>67872</td>\n",
       "      <td>1.261198</td>\n",
       "      <td>0.563830</td>\n",
       "      <td>0.697368</td>\n",
       "      <td>로맥</td>\n",
       "    </tr>\n",
       "  </tbody>\n",
       "</table>\n",
       "</div>"
      ],
      "text/plain": [
       "  NO.   선수코드       OPS       출루율       장타율  선수명\n",
       "0   1  76232  1.275641  0.583333  0.692308  양의지\n",
       "1   2  68050  1.275573  0.509615  0.765957  강백호\n",
       "2   3  75847  1.145226  0.484848  0.660377   최정\n",
       "3   4  67341  1.026472  0.474747  0.551724  이정후\n",
       "4   5  79192  1.040612  0.438202  0.602410  채은성\n",
       "5   6  78224  1.009217  0.428571  0.580645  김재환\n",
       "6   7  78513  1.240059  0.525773  0.714286  전준우\n",
       "7   8  76290       NaN       NaN       NaN  김현수\n",
       "8   9  79215  0.993056  0.437500  0.555556  박건우\n",
       "9  10  67872  1.261198  0.563830  0.697368   로맥"
      ]
     },
     "execution_count": 225,
     "metadata": {},
     "output_type": "execute_result"
    }
   ],
   "source": [
    "# 2018년 마지막 21라운드의 결과\n",
    "round21_2020=pd.concat([train18_4,test18_4.reset_index(drop='index')],axis=1)\n",
    "round21_2020=pd.merge(submission[['NO.','선수코드']],round21_2020[['선수코드','OPS','출루율','장타율']],how='left',on='선수코드')\n",
    "pd.merge(round21_2020,submission[['선수코드','선수명']],how='left',on='선수코드')"
   ]
  }
 ],
 "metadata": {
  "kernelspec": {
   "display_name": "Python 3",
   "language": "python",
   "name": "python3"
  },
  "language_info": {
   "codemirror_mode": {
    "name": "ipython",
    "version": 3
   },
   "file_extension": ".py",
   "mimetype": "text/x-python",
   "name": "python",
   "nbconvert_exporter": "python",
   "pygments_lexer": "ipython3",
   "version": "3.8.5"
  },
  "varInspector": {
   "cols": {
    "lenName": 16,
    "lenType": 16,
    "lenVar": 40
   },
   "kernels_config": {
    "python": {
     "delete_cmd_postfix": "",
     "delete_cmd_prefix": "del ",
     "library": "var_list.py",
     "varRefreshCmd": "print(var_dic_list())"
    },
    "r": {
     "delete_cmd_postfix": ") ",
     "delete_cmd_prefix": "rm(",
     "library": "var_list.r",
     "varRefreshCmd": "cat(var_dic_list()) "
    }
   },
   "types_to_exclude": [
    "module",
    "function",
    "builtin_function_or_method",
    "instance",
    "_Feature"
   ],
   "window_display": false
  }
 },
 "nbformat": 4,
 "nbformat_minor": 4
}
